{
 "cells": [
  {
   "cell_type": "markdown",
   "id": "cb563f82-ef12-42f4-811c-4458067b37b0",
   "metadata": {},
   "source": [
    "# Project 1 NYC Subway Network\n",
    "## Step 1 - Build the Subway Files\n",
    "\n",
    "This phase of Project 1 constructs the NYC subway graph from the GTFS data files provided by the Metropolitan Transit Authority in the latest available dataset (as of Dec 2021).  The GTFS data files are text files with comma separated fields per row.  However, figuring out the nodes and edges is complicated by  domain specific issues because the purpose of the GTFS data files is not to build graphs but to support scheduling and operations."
   ]
  },
  {
   "cell_type": "markdown",
   "id": "2187b929-e028-471d-ae86-1c5c23b25617",
   "metadata": {},
   "source": [
    "## Stops\n",
    "\n",
    "We begin by defining the nodes which represent subway stations.  This data is stored in the file `stops.txt`.   We load the data and inspect the first 5 rows."
   ]
  },
  {
   "cell_type": "code",
   "execution_count": 1,
   "id": "1e7ad110-2c07-447b-886f-1b4e2169109e",
   "metadata": {},
   "outputs": [],
   "source": [
    "# Import the basic libraries\n",
    "\n",
    "import pandas as pd\n",
    "import networkx as nx\n",
    "import matplotlib.pyplot as plt\n",
    "import numpy as np\n",
    "import warnings\n",
    "warnings.filterwarnings('ignore')"
   ]
  },
  {
   "cell_type": "code",
   "execution_count": 2,
   "id": "c352dbd9-93d5-491c-bf66-f42e7fd3dd84",
   "metadata": {},
   "outputs": [
    {
     "data": {
      "text/html": [
       "<div>\n",
       "<style scoped>\n",
       "    .dataframe tbody tr th:only-of-type {\n",
       "        vertical-align: middle;\n",
       "    }\n",
       "\n",
       "    .dataframe tbody tr th {\n",
       "        vertical-align: top;\n",
       "    }\n",
       "\n",
       "    .dataframe thead th {\n",
       "        text-align: right;\n",
       "    }\n",
       "</style>\n",
       "<table border=\"1\" class=\"dataframe\">\n",
       "  <thead>\n",
       "    <tr style=\"text-align: right;\">\n",
       "      <th></th>\n",
       "      <th>stop_id</th>\n",
       "      <th>stop_name</th>\n",
       "      <th>stop_lat</th>\n",
       "      <th>stop_lon</th>\n",
       "      <th>location_type</th>\n",
       "      <th>parent_station</th>\n",
       "    </tr>\n",
       "  </thead>\n",
       "  <tbody>\n",
       "    <tr>\n",
       "      <th>0</th>\n",
       "      <td>101</td>\n",
       "      <td>Van Cortlandt Park-242 St</td>\n",
       "      <td>40.889248</td>\n",
       "      <td>-73.898583</td>\n",
       "      <td>1</td>\n",
       "      <td>NaN</td>\n",
       "    </tr>\n",
       "    <tr>\n",
       "      <th>1</th>\n",
       "      <td>101N</td>\n",
       "      <td>Van Cortlandt Park-242 St</td>\n",
       "      <td>40.889248</td>\n",
       "      <td>-73.898583</td>\n",
       "      <td>0</td>\n",
       "      <td>101</td>\n",
       "    </tr>\n",
       "    <tr>\n",
       "      <th>2</th>\n",
       "      <td>101S</td>\n",
       "      <td>Van Cortlandt Park-242 St</td>\n",
       "      <td>40.889248</td>\n",
       "      <td>-73.898583</td>\n",
       "      <td>0</td>\n",
       "      <td>101</td>\n",
       "    </tr>\n",
       "    <tr>\n",
       "      <th>3</th>\n",
       "      <td>103</td>\n",
       "      <td>238 St</td>\n",
       "      <td>40.884667</td>\n",
       "      <td>-73.900870</td>\n",
       "      <td>1</td>\n",
       "      <td>NaN</td>\n",
       "    </tr>\n",
       "    <tr>\n",
       "      <th>4</th>\n",
       "      <td>103N</td>\n",
       "      <td>238 St</td>\n",
       "      <td>40.884667</td>\n",
       "      <td>-73.900870</td>\n",
       "      <td>0</td>\n",
       "      <td>103</td>\n",
       "    </tr>\n",
       "  </tbody>\n",
       "</table>\n",
       "</div>"
      ],
      "text/plain": [
       "  stop_id                  stop_name   stop_lat   stop_lon  location_type  \\\n",
       "0     101  Van Cortlandt Park-242 St  40.889248 -73.898583              1   \n",
       "1    101N  Van Cortlandt Park-242 St  40.889248 -73.898583              0   \n",
       "2    101S  Van Cortlandt Park-242 St  40.889248 -73.898583              0   \n",
       "3     103                     238 St  40.884667 -73.900870              1   \n",
       "4    103N                     238 St  40.884667 -73.900870              0   \n",
       "\n",
       "  parent_station  \n",
       "0            NaN  \n",
       "1            101  \n",
       "2            101  \n",
       "3            NaN  \n",
       "4            103  "
      ]
     },
     "execution_count": 2,
     "metadata": {},
     "output_type": "execute_result"
    }
   ],
   "source": [
    "data_dir = \"google_transit/\"\n",
    "\n",
    "stops_file = data_dir + \"stops.txt\"\n",
    "stops_df = pd.read_csv(stops_file)\n",
    "all_stops = stops_df[[\"stop_id\", \"stop_name\", \"stop_lat\", \"stop_lon\", \"location_type\", \"parent_station\"]]\n",
    "all_stops.head()"
   ]
  },
  {
   "cell_type": "code",
   "execution_count": null,
   "id": "23c33790-58f9-4b53-99c0-b397c9cd1ec6",
   "metadata": {},
   "outputs": [],
   "source": []
  },
  {
   "cell_type": "markdown",
   "id": "0bd6b5f8-208f-4154-aaca-c3f4a980d423",
   "metadata": {},
   "source": [
    "In the above `stops` dataset, each stop is listed 3 times as a `parent` and two `child` stops. \n",
    "Using stops `101`, `101N`, `101S` as a related example, we see that the parent stop `101` is identified by the field value `location_type`=`1` while `101N` (the northbound platform of the stop) and `101S` (the southbound platform of the stop) have `location_type` = `0` and use the field `parent_station` as a foreign key back to the `stop_id` of the parent stop `101` through self-join.   However, we'll need to retain the child stops `101N` and `101S` as the edges of our graph are defined in terms of child stops.   For simplicity, we select only essential columns in a dataframe `all_stops`."
   ]
  },
  {
   "cell_type": "code",
   "execution_count": null,
   "id": "dae5c1ba-f45e-4ee4-b48f-a68b77b56b28",
   "metadata": {},
   "outputs": [],
   "source": []
  },
  {
   "cell_type": "markdown",
   "id": "4720a9ef-ad98-4fd0-921f-7e9dab002fc8",
   "metadata": {},
   "source": [
    "## Routes\n",
    "\n",
    "The `routes.txt` contains the names of the routes.  It is a reference file that defines the lines of services.  For example, A, B, C, 1, 2, 3, 4, 6, 7, etc.   Each route has several useful fields which we load into a dataframe:\n",
    "\n",
    "*   `route_id` - integer identifier of the line - this is the primary key\n",
    "*   `route_long_name` - describes the route's name is not unique.  E.g. 5 and 5X are both called Lexington Avenue Express.\n",
    "*   `route_color` - the hex code color assigned to the line's livery on the map, subway cars and stations.  For example, $\\color{#EE352E}{\\text{Routes 1, 2, 3 use EE352E}}$.   Route colors are often grouped together.   Route colors may be viewed as edge attributes.\n"
   ]
  },
  {
   "cell_type": "code",
   "execution_count": 3,
   "id": "dc6c1ac2-0214-4c3b-ae6f-c6cce73fe198",
   "metadata": {},
   "outputs": [
    {
     "data": {
      "text/html": [
       "<div>\n",
       "<style scoped>\n",
       "    .dataframe tbody tr th:only-of-type {\n",
       "        vertical-align: middle;\n",
       "    }\n",
       "\n",
       "    .dataframe tbody tr th {\n",
       "        vertical-align: top;\n",
       "    }\n",
       "\n",
       "    .dataframe thead th {\n",
       "        text-align: right;\n",
       "    }\n",
       "</style>\n",
       "<table border=\"1\" class=\"dataframe\">\n",
       "  <thead>\n",
       "    <tr style=\"text-align: right;\">\n",
       "      <th></th>\n",
       "      <th>route_id</th>\n",
       "      <th>route_long_name</th>\n",
       "      <th>route_color</th>\n",
       "    </tr>\n",
       "  </thead>\n",
       "  <tbody>\n",
       "    <tr>\n",
       "      <th>0</th>\n",
       "      <td>1</td>\n",
       "      <td>Broadway - 7 Avenue Local</td>\n",
       "      <td>EE352E</td>\n",
       "    </tr>\n",
       "    <tr>\n",
       "      <th>1</th>\n",
       "      <td>2</td>\n",
       "      <td>7 Avenue Express</td>\n",
       "      <td>EE352E</td>\n",
       "    </tr>\n",
       "    <tr>\n",
       "      <th>2</th>\n",
       "      <td>3</td>\n",
       "      <td>7 Avenue Express</td>\n",
       "      <td>EE352E</td>\n",
       "    </tr>\n",
       "    <tr>\n",
       "      <th>3</th>\n",
       "      <td>4</td>\n",
       "      <td>Lexington Avenue Express</td>\n",
       "      <td>00933C</td>\n",
       "    </tr>\n",
       "    <tr>\n",
       "      <th>4</th>\n",
       "      <td>5</td>\n",
       "      <td>Lexington Avenue Express</td>\n",
       "      <td>00933C</td>\n",
       "    </tr>\n",
       "  </tbody>\n",
       "</table>\n",
       "</div>"
      ],
      "text/plain": [
       "  route_id            route_long_name route_color\n",
       "0        1  Broadway - 7 Avenue Local      EE352E\n",
       "1        2           7 Avenue Express      EE352E\n",
       "2        3           7 Avenue Express      EE352E\n",
       "3        4   Lexington Avenue Express      00933C\n",
       "4        5   Lexington Avenue Express      00933C"
      ]
     },
     "execution_count": 3,
     "metadata": {},
     "output_type": "execute_result"
    }
   ],
   "source": [
    "routes_file = data_dir + \"routes.txt\"\n",
    "routes_df = pd.read_csv(routes_file)\n",
    "all_routes = routes_df[[\"route_id\", \"route_long_name\", \"route_color\"]]\n",
    "all_routes.head()"
   ]
  },
  {
   "cell_type": "markdown",
   "id": "2affa654-8455-4349-88a2-403b7606f3bc",
   "metadata": {},
   "source": [
    "# Calendar\n",
    "\n",
    "We load the list of available services.   A service associates a schedule of availability of multiple subway lines by day of week and holidays.   We are only going to use weekday services as an object to filter the set of trips as there are thousands of trips for each line with repetitive description of edges."
   ]
  },
  {
   "cell_type": "code",
   "execution_count": 4,
   "id": "564923cd-85ab-46d8-bae6-3a11205164b1",
   "metadata": {},
   "outputs": [
    {
     "data": {
      "text/html": [
       "<div>\n",
       "<style scoped>\n",
       "    .dataframe tbody tr th:only-of-type {\n",
       "        vertical-align: middle;\n",
       "    }\n",
       "\n",
       "    .dataframe tbody tr th {\n",
       "        vertical-align: top;\n",
       "    }\n",
       "\n",
       "    .dataframe thead th {\n",
       "        text-align: right;\n",
       "    }\n",
       "</style>\n",
       "<table border=\"1\" class=\"dataframe\">\n",
       "  <thead>\n",
       "    <tr style=\"text-align: right;\">\n",
       "      <th></th>\n",
       "      <th>service_id</th>\n",
       "      <th>start_date</th>\n",
       "      <th>end_date</th>\n",
       "    </tr>\n",
       "  </thead>\n",
       "  <tbody>\n",
       "    <tr>\n",
       "      <th>23</th>\n",
       "      <td>AFA21GEN-1091-Weekday-00</td>\n",
       "      <td>20211220</td>\n",
       "      <td>20220624</td>\n",
       "    </tr>\n",
       "    <tr>\n",
       "      <th>24</th>\n",
       "      <td>AFA21GEN-2097-Weekday-00</td>\n",
       "      <td>20211220</td>\n",
       "      <td>20220624</td>\n",
       "    </tr>\n",
       "    <tr>\n",
       "      <th>25</th>\n",
       "      <td>AFA21GEN-3087-Weekday-00</td>\n",
       "      <td>20211220</td>\n",
       "      <td>20220624</td>\n",
       "    </tr>\n",
       "    <tr>\n",
       "      <th>26</th>\n",
       "      <td>AFA21GEN-4099-Weekday-00</td>\n",
       "      <td>20211220</td>\n",
       "      <td>20220624</td>\n",
       "    </tr>\n",
       "    <tr>\n",
       "      <th>27</th>\n",
       "      <td>AFA21GEN-5108-Weekday-00</td>\n",
       "      <td>20211220</td>\n",
       "      <td>20220624</td>\n",
       "    </tr>\n",
       "  </tbody>\n",
       "</table>\n",
       "</div>"
      ],
      "text/plain": [
       "                  service_id  start_date  end_date\n",
       "23  AFA21GEN-1091-Weekday-00    20211220  20220624\n",
       "24  AFA21GEN-2097-Weekday-00    20211220  20220624\n",
       "25  AFA21GEN-3087-Weekday-00    20211220  20220624\n",
       "26  AFA21GEN-4099-Weekday-00    20211220  20220624\n",
       "27  AFA21GEN-5108-Weekday-00    20211220  20220624"
      ]
     },
     "execution_count": 4,
     "metadata": {},
     "output_type": "execute_result"
    }
   ],
   "source": [
    "calendar_file = data_dir + \"calendar.txt\"\n",
    "calendar_df = pd.read_csv(calendar_file)\n",
    "all_calendar = calendar_df[[\"service_id\", \"start_date\", \"end_date\"]]\n",
    "all_calendar[ all_calendar[\"service_id\"].str.contains(\"Weekday\") ].head()"
   ]
  },
  {
   "cell_type": "markdown",
   "id": "cebfdbad-5990-4130-9e9a-eca6ed1c8111",
   "metadata": {},
   "source": [
    "# Trips\n",
    "\n",
    "The `trips.txt` file joins three object types:  routes, services and trips.   Trips are the instances of services associated with a route containing a direction of travel (outbound or inbound).   The direction of travel is immaterial to our graph and we treat both directions as equivalent.   \n",
    "\n",
    "*   `route_id` is a foreign key to the same column in `routes.txt`\n",
    "*   `service_id` is a foreign key to the same column in `calendar.txt`\n",
    "\n",
    "The `trip_id` is unique to the file and is in a one-to-many relationship with the `route_id` and `service_id` as it specifies the time of day when the trip is scheduled to begin its operation and the direction."
   ]
  },
  {
   "cell_type": "code",
   "execution_count": 5,
   "id": "e4489b0c-cdf9-4cf7-b323-a0d6e494fbe3",
   "metadata": {},
   "outputs": [
    {
     "data": {
      "text/html": [
       "<div>\n",
       "<style scoped>\n",
       "    .dataframe tbody tr th:only-of-type {\n",
       "        vertical-align: middle;\n",
       "    }\n",
       "\n",
       "    .dataframe tbody tr th {\n",
       "        vertical-align: top;\n",
       "    }\n",
       "\n",
       "    .dataframe thead th {\n",
       "        text-align: right;\n",
       "    }\n",
       "</style>\n",
       "<table border=\"1\" class=\"dataframe\">\n",
       "  <thead>\n",
       "    <tr style=\"text-align: right;\">\n",
       "      <th></th>\n",
       "      <th>route_id</th>\n",
       "      <th>service_id</th>\n",
       "      <th>trip_id</th>\n",
       "      <th>direction_id</th>\n",
       "    </tr>\n",
       "  </thead>\n",
       "  <tbody>\n",
       "    <tr>\n",
       "      <th>584</th>\n",
       "      <td>1</td>\n",
       "      <td>AFA21GEN-1091-Weekday-00</td>\n",
       "      <td>AFA21GEN-1091-Weekday-00_000650_1..S03R</td>\n",
       "      <td>1</td>\n",
       "    </tr>\n",
       "    <tr>\n",
       "      <th>585</th>\n",
       "      <td>1</td>\n",
       "      <td>AFA21GEN-1091-Weekday-00</td>\n",
       "      <td>AFA21GEN-1091-Weekday-00_002550_1..S03R</td>\n",
       "      <td>1</td>\n",
       "    </tr>\n",
       "    <tr>\n",
       "      <th>586</th>\n",
       "      <td>1</td>\n",
       "      <td>AFA21GEN-1091-Weekday-00</td>\n",
       "      <td>AFA21GEN-1091-Weekday-00_004550_1..S03R</td>\n",
       "      <td>1</td>\n",
       "    </tr>\n",
       "    <tr>\n",
       "      <th>587</th>\n",
       "      <td>1</td>\n",
       "      <td>AFA21GEN-1091-Weekday-00</td>\n",
       "      <td>AFA21GEN-1091-Weekday-00_006550_1..S03R</td>\n",
       "      <td>1</td>\n",
       "    </tr>\n",
       "    <tr>\n",
       "      <th>588</th>\n",
       "      <td>1</td>\n",
       "      <td>AFA21GEN-1091-Weekday-00</td>\n",
       "      <td>AFA21GEN-1091-Weekday-00_007450_1..N03R</td>\n",
       "      <td>0</td>\n",
       "    </tr>\n",
       "  </tbody>\n",
       "</table>\n",
       "</div>"
      ],
      "text/plain": [
       "    route_id                service_id  \\\n",
       "584        1  AFA21GEN-1091-Weekday-00   \n",
       "585        1  AFA21GEN-1091-Weekday-00   \n",
       "586        1  AFA21GEN-1091-Weekday-00   \n",
       "587        1  AFA21GEN-1091-Weekday-00   \n",
       "588        1  AFA21GEN-1091-Weekday-00   \n",
       "\n",
       "                                     trip_id  direction_id  \n",
       "584  AFA21GEN-1091-Weekday-00_000650_1..S03R             1  \n",
       "585  AFA21GEN-1091-Weekday-00_002550_1..S03R             1  \n",
       "586  AFA21GEN-1091-Weekday-00_004550_1..S03R             1  \n",
       "587  AFA21GEN-1091-Weekday-00_006550_1..S03R             1  \n",
       "588  AFA21GEN-1091-Weekday-00_007450_1..N03R             0  "
      ]
     },
     "execution_count": 5,
     "metadata": {},
     "output_type": "execute_result"
    }
   ],
   "source": [
    "trips_file = data_dir + \"trips.txt\"\n",
    "trips_df = pd.read_csv(trips_file)\n",
    "all_trips = trips_df[[\"route_id\", \"service_id\", \"trip_id\", \"direction_id\"]]\n",
    "\n",
    "all_trips[ all_trips[\"service_id\"].str.contains(\"Weekday\") ].head()"
   ]
  },
  {
   "cell_type": "markdown",
   "id": "bedcf87b-6ee4-4138-8f5c-170051518146",
   "metadata": {},
   "source": [
    "# Stop Times\n",
    "\n",
    "The file `stop_times.txt` contains the list of stops along with a sequence number of each trip listed in the trips file.\n",
    "The essential information of each trip is the scheduled ordered sequence of stops.  Consecutive stops within an ordered sequence of the trip define the directed edges of a digraph.  Since we are interested in the undirected network, we will ignore the directionality of the edges when scanning the trips file."
   ]
  },
  {
   "cell_type": "code",
   "execution_count": 6,
   "id": "da931871-7e8a-4e91-a178-03cbd7d8d513",
   "metadata": {},
   "outputs": [
    {
     "data": {
      "text/html": [
       "<div>\n",
       "<style scoped>\n",
       "    .dataframe tbody tr th:only-of-type {\n",
       "        vertical-align: middle;\n",
       "    }\n",
       "\n",
       "    .dataframe tbody tr th {\n",
       "        vertical-align: top;\n",
       "    }\n",
       "\n",
       "    .dataframe thead th {\n",
       "        text-align: right;\n",
       "    }\n",
       "</style>\n",
       "<table border=\"1\" class=\"dataframe\">\n",
       "  <thead>\n",
       "    <tr style=\"text-align: right;\">\n",
       "      <th></th>\n",
       "      <th>trip_id</th>\n",
       "      <th>stop_id</th>\n",
       "      <th>stop_sequence</th>\n",
       "    </tr>\n",
       "  </thead>\n",
       "  <tbody>\n",
       "    <tr>\n",
       "      <th>22192</th>\n",
       "      <td>AFA21GEN-1091-Weekday-00_000650_1..S03R</td>\n",
       "      <td>101S</td>\n",
       "      <td>1</td>\n",
       "    </tr>\n",
       "    <tr>\n",
       "      <th>22193</th>\n",
       "      <td>AFA21GEN-1091-Weekday-00_000650_1..S03R</td>\n",
       "      <td>103S</td>\n",
       "      <td>2</td>\n",
       "    </tr>\n",
       "    <tr>\n",
       "      <th>22194</th>\n",
       "      <td>AFA21GEN-1091-Weekday-00_000650_1..S03R</td>\n",
       "      <td>104S</td>\n",
       "      <td>3</td>\n",
       "    </tr>\n",
       "    <tr>\n",
       "      <th>22195</th>\n",
       "      <td>AFA21GEN-1091-Weekday-00_000650_1..S03R</td>\n",
       "      <td>106S</td>\n",
       "      <td>4</td>\n",
       "    </tr>\n",
       "    <tr>\n",
       "      <th>22196</th>\n",
       "      <td>AFA21GEN-1091-Weekday-00_000650_1..S03R</td>\n",
       "      <td>107S</td>\n",
       "      <td>5</td>\n",
       "    </tr>\n",
       "  </tbody>\n",
       "</table>\n",
       "</div>"
      ],
      "text/plain": [
       "                                       trip_id stop_id  stop_sequence\n",
       "22192  AFA21GEN-1091-Weekday-00_000650_1..S03R    101S              1\n",
       "22193  AFA21GEN-1091-Weekday-00_000650_1..S03R    103S              2\n",
       "22194  AFA21GEN-1091-Weekday-00_000650_1..S03R    104S              3\n",
       "22195  AFA21GEN-1091-Weekday-00_000650_1..S03R    106S              4\n",
       "22196  AFA21GEN-1091-Weekday-00_000650_1..S03R    107S              5"
      ]
     },
     "execution_count": 6,
     "metadata": {},
     "output_type": "execute_result"
    }
   ],
   "source": [
    "stop_times_file = data_dir + \"stop_times.txt\"\n",
    "stop_times_df = pd.read_csv(stop_times_file)\n",
    "all_stop_times = stop_times_df[[\"trip_id\", \"stop_id\", \"stop_sequence\" ]]\n",
    "\n",
    "all_stop_times[ all_stop_times[\"trip_id\"].str.contains(\"Weekday\") ].head( )"
   ]
  },
  {
   "cell_type": "markdown",
   "id": "eb8d366a-21d3-4ab0-9c7b-7f2102bb42cf",
   "metadata": {},
   "source": [
    "A unique key of  the `all_stop_times` dataframe are the two columns `trip_id`, `stop_sequence`.  We exploit this fact to build the edge list below."
   ]
  },
  {
   "cell_type": "markdown",
   "id": "cd3296a4-cf2e-48fb-b581-c1796821bbea",
   "metadata": {},
   "source": [
    "## Step 2.  Constructing the Subway Network Graphs\n",
    "\n",
    "To construct the network, we need to form equivalence classes of several GTFS object types.\n",
    "We choose only one representative of multiple members of an equivalence class of object types with 2 strategies.\n",
    "\n",
    "*   For nodes, we'll use only the parent node in our network.  \n",
    "\n",
    "*   The edge information has even more members in the equivalence class.   For each two adjacent stops (nodes) in our graph,  multiple routes, multiple services and multiple trips may all include the two stops.   In other words, each directed edge could be listed dozens of times within the `all_stop_times` dataframe.\n",
    "     +  In any edge, the order of nodes must be lexicographically increasing.   We will represent each edge as an ordered pair of parent stops.  For example, stops `101S` and `103S` are consecutive stops for trip `AFA21GEN-1091-Weekday-00_000650_1..S03R`.   \n",
    "The corresponding edge is the pair `(101, 103)`.\n",
    "     +  We will maintain a dictionary of the edges.   If an edge has already been created while parsing `all_stop_times`, we don't create a duplicate edge.\n",
    "\n"
   ]
  },
  {
   "cell_type": "code",
   "execution_count": 7,
   "id": "ec5836f2-c0e6-49d3-b288-a610365d5446",
   "metadata": {},
   "outputs": [
    {
     "data": {
      "text/plain": [
       "499"
      ]
     },
     "execution_count": 7,
     "metadata": {},
     "output_type": "execute_result"
    }
   ],
   "source": [
    "len(all_stops[all_stops[\"location_type\"] == 1 ].stop_id.unique())"
   ]
  },
  {
   "cell_type": "markdown",
   "id": "5ab6cec7-7f16-4da6-8642-8ad3e167b961",
   "metadata": {},
   "source": [
    "To construct the edge list, we first join the parent `stop_id` to each row of the stop times dataframe.\n",
    "Next, we assign the previous sequence number to each stop along a trip.  This value is saved in a column called `prior_stop_sequence`.  The original `stop_sequence` always begins at 1, so the `prior_stop_sequence` = 0 for the initial stop of the trip.\n",
    "Lastly, we make a deep copy of the joined data frame in order to get the parent station of the current stop and the prior stop in the same row. "
   ]
  },
  {
   "cell_type": "code",
   "execution_count": 8,
   "id": "4dc93335-0943-4069-b2d9-94d66739334b",
   "metadata": {},
   "outputs": [],
   "source": [
    "res_stop_times = pd.merge( all_stop_times, all_stops , on = ['stop_id'] )"
   ]
  },
  {
   "cell_type": "code",
   "execution_count": 9,
   "id": "6b8963a1-62b0-4937-ae6b-20652eff143b",
   "metadata": {},
   "outputs": [
    {
     "data": {
      "text/html": [
       "<div>\n",
       "<style scoped>\n",
       "    .dataframe tbody tr th:only-of-type {\n",
       "        vertical-align: middle;\n",
       "    }\n",
       "\n",
       "    .dataframe tbody tr th {\n",
       "        vertical-align: top;\n",
       "    }\n",
       "\n",
       "    .dataframe thead th {\n",
       "        text-align: right;\n",
       "    }\n",
       "</style>\n",
       "<table border=\"1\" class=\"dataframe\">\n",
       "  <thead>\n",
       "    <tr style=\"text-align: right;\">\n",
       "      <th></th>\n",
       "      <th>route_id</th>\n",
       "      <th>trip_id</th>\n",
       "      <th>stop_sequence</th>\n",
       "      <th>parent_station</th>\n",
       "      <th>prior_stop_sequence</th>\n",
       "    </tr>\n",
       "  </thead>\n",
       "  <tbody>\n",
       "    <tr>\n",
       "      <th>0</th>\n",
       "      <td>1</td>\n",
       "      <td>AFA21GEN-1037-Sunday-00_000600_1..S03R</td>\n",
       "      <td>1</td>\n",
       "      <td>101</td>\n",
       "      <td>0</td>\n",
       "    </tr>\n",
       "    <tr>\n",
       "      <th>1</th>\n",
       "      <td>1</td>\n",
       "      <td>AFA21GEN-1037-Sunday-00_000600_1..S03R</td>\n",
       "      <td>2</td>\n",
       "      <td>103</td>\n",
       "      <td>1</td>\n",
       "    </tr>\n",
       "    <tr>\n",
       "      <th>2</th>\n",
       "      <td>1</td>\n",
       "      <td>AFA21GEN-1037-Sunday-00_000600_1..S03R</td>\n",
       "      <td>3</td>\n",
       "      <td>104</td>\n",
       "      <td>2</td>\n",
       "    </tr>\n",
       "    <tr>\n",
       "      <th>3</th>\n",
       "      <td>1</td>\n",
       "      <td>AFA21GEN-1037-Sunday-00_000600_1..S03R</td>\n",
       "      <td>4</td>\n",
       "      <td>106</td>\n",
       "      <td>3</td>\n",
       "    </tr>\n",
       "    <tr>\n",
       "      <th>4</th>\n",
       "      <td>1</td>\n",
       "      <td>AFA21GEN-1037-Sunday-00_000600_1..S03R</td>\n",
       "      <td>5</td>\n",
       "      <td>107</td>\n",
       "      <td>4</td>\n",
       "    </tr>\n",
       "    <tr>\n",
       "      <th>...</th>\n",
       "      <td>...</td>\n",
       "      <td>...</td>\n",
       "      <td>...</td>\n",
       "      <td>...</td>\n",
       "      <td>...</td>\n",
       "    </tr>\n",
       "    <tr>\n",
       "      <th>542113</th>\n",
       "      <td>SI</td>\n",
       "      <td>SIR-FA2017-SI017-Weekday-08_045600_SI..N02R</td>\n",
       "      <td>9</td>\n",
       "      <td>S27</td>\n",
       "      <td>8</td>\n",
       "    </tr>\n",
       "    <tr>\n",
       "      <th>542114</th>\n",
       "      <td>SI</td>\n",
       "      <td>SIR-FA2017-SI017-Weekday-08_045600_SI..N02R</td>\n",
       "      <td>10</td>\n",
       "      <td>S28</td>\n",
       "      <td>9</td>\n",
       "    </tr>\n",
       "    <tr>\n",
       "      <th>542115</th>\n",
       "      <td>SI</td>\n",
       "      <td>SIR-FA2017-SI017-Weekday-08_045600_SI..N02R</td>\n",
       "      <td>11</td>\n",
       "      <td>S29</td>\n",
       "      <td>10</td>\n",
       "    </tr>\n",
       "    <tr>\n",
       "      <th>542116</th>\n",
       "      <td>SI</td>\n",
       "      <td>SIR-FA2017-SI017-Weekday-08_045600_SI..N02R</td>\n",
       "      <td>12</td>\n",
       "      <td>S30</td>\n",
       "      <td>11</td>\n",
       "    </tr>\n",
       "    <tr>\n",
       "      <th>542117</th>\n",
       "      <td>SI</td>\n",
       "      <td>SIR-FA2017-SI017-Weekday-08_045600_SI..N02R</td>\n",
       "      <td>13</td>\n",
       "      <td>S31</td>\n",
       "      <td>12</td>\n",
       "    </tr>\n",
       "  </tbody>\n",
       "</table>\n",
       "<p>542118 rows × 5 columns</p>\n",
       "</div>"
      ],
      "text/plain": [
       "       route_id                                      trip_id  stop_sequence  \\\n",
       "0             1       AFA21GEN-1037-Sunday-00_000600_1..S03R              1   \n",
       "1             1       AFA21GEN-1037-Sunday-00_000600_1..S03R              2   \n",
       "2             1       AFA21GEN-1037-Sunday-00_000600_1..S03R              3   \n",
       "3             1       AFA21GEN-1037-Sunday-00_000600_1..S03R              4   \n",
       "4             1       AFA21GEN-1037-Sunday-00_000600_1..S03R              5   \n",
       "...         ...                                          ...            ...   \n",
       "542113       SI  SIR-FA2017-SI017-Weekday-08_045600_SI..N02R              9   \n",
       "542114       SI  SIR-FA2017-SI017-Weekday-08_045600_SI..N02R             10   \n",
       "542115       SI  SIR-FA2017-SI017-Weekday-08_045600_SI..N02R             11   \n",
       "542116       SI  SIR-FA2017-SI017-Weekday-08_045600_SI..N02R             12   \n",
       "542117       SI  SIR-FA2017-SI017-Weekday-08_045600_SI..N02R             13   \n",
       "\n",
       "       parent_station  prior_stop_sequence  \n",
       "0                 101                    0  \n",
       "1                 103                    1  \n",
       "2                 104                    2  \n",
       "3                 106                    3  \n",
       "4                 107                    4  \n",
       "...               ...                  ...  \n",
       "542113            S27                    8  \n",
       "542114            S28                    9  \n",
       "542115            S29                   10  \n",
       "542116            S30                   11  \n",
       "542117            S31                   12  \n",
       "\n",
       "[542118 rows x 5 columns]"
      ]
     },
     "execution_count": 9,
     "metadata": {},
     "output_type": "execute_result"
    }
   ],
   "source": [
    "res_stops_times_trips = pd.merge( res_stop_times, all_trips, on = ['trip_id' ] )\n",
    "res_x = res_stops_times_trips[[\"route_id\", \"trip_id\", \"stop_sequence\", \"parent_station\"]]\n",
    "res_prior_x = res_x.copy()\n",
    "\n",
    "res_x['prior_stop_sequence'] = res_x['stop_sequence'] - 1\n",
    "res_x"
   ]
  },
  {
   "cell_type": "markdown",
   "id": "7d94f4f1-3b13-4385-aa28-ea17aef9abfb",
   "metadata": {},
   "source": [
    "It is easier to rename some columns of the dataframe representing the prior stop of each trip before doing the join rather than accept the default column renaming by pandas."
   ]
  },
  {
   "cell_type": "code",
   "execution_count": 10,
   "id": "773ba169-aa2e-4198-812e-2cb4faca29be",
   "metadata": {},
   "outputs": [],
   "source": [
    "res_prior_x.rename(columns = {'parent_station' : 'prior_station' , \n",
    "                              'stop_sequence' : 'prior_stop_sequence' ,\n",
    "                              'route_id' : 'prior_route_id'\n",
    "                             }, inplace = True)\n",
    "res_prior_x = res_prior_x[['trip_id', 'prior_stop_sequence', 'prior_station']]"
   ]
  },
  {
   "cell_type": "code",
   "execution_count": 11,
   "id": "7c4244dc-f199-48aa-9536-5efd4b1e7984",
   "metadata": {},
   "outputs": [
    {
     "data": {
      "text/html": [
       "<div>\n",
       "<style scoped>\n",
       "    .dataframe tbody tr th:only-of-type {\n",
       "        vertical-align: middle;\n",
       "    }\n",
       "\n",
       "    .dataframe tbody tr th {\n",
       "        vertical-align: top;\n",
       "    }\n",
       "\n",
       "    .dataframe thead th {\n",
       "        text-align: right;\n",
       "    }\n",
       "</style>\n",
       "<table border=\"1\" class=\"dataframe\">\n",
       "  <thead>\n",
       "    <tr style=\"text-align: right;\">\n",
       "      <th></th>\n",
       "      <th>route_id</th>\n",
       "      <th>trip_id</th>\n",
       "      <th>stop_sequence</th>\n",
       "      <th>parent_station</th>\n",
       "      <th>prior_stop_sequence</th>\n",
       "      <th>prior_station</th>\n",
       "    </tr>\n",
       "  </thead>\n",
       "  <tbody>\n",
       "    <tr>\n",
       "      <th>0</th>\n",
       "      <td>1</td>\n",
       "      <td>AFA21GEN-1037-Sunday-00_000600_1..S03R</td>\n",
       "      <td>2</td>\n",
       "      <td>103</td>\n",
       "      <td>1</td>\n",
       "      <td>101</td>\n",
       "    </tr>\n",
       "    <tr>\n",
       "      <th>1</th>\n",
       "      <td>1</td>\n",
       "      <td>AFA21GEN-1037-Sunday-00_000600_1..S03R</td>\n",
       "      <td>3</td>\n",
       "      <td>104</td>\n",
       "      <td>2</td>\n",
       "      <td>103</td>\n",
       "    </tr>\n",
       "    <tr>\n",
       "      <th>2</th>\n",
       "      <td>1</td>\n",
       "      <td>AFA21GEN-1037-Sunday-00_000600_1..S03R</td>\n",
       "      <td>4</td>\n",
       "      <td>106</td>\n",
       "      <td>3</td>\n",
       "      <td>104</td>\n",
       "    </tr>\n",
       "    <tr>\n",
       "      <th>3</th>\n",
       "      <td>1</td>\n",
       "      <td>AFA21GEN-1037-Sunday-00_000600_1..S03R</td>\n",
       "      <td>5</td>\n",
       "      <td>107</td>\n",
       "      <td>4</td>\n",
       "      <td>106</td>\n",
       "    </tr>\n",
       "    <tr>\n",
       "      <th>4</th>\n",
       "      <td>1</td>\n",
       "      <td>AFA21GEN-1037-Sunday-00_000600_1..S03R</td>\n",
       "      <td>6</td>\n",
       "      <td>108</td>\n",
       "      <td>5</td>\n",
       "      <td>107</td>\n",
       "    </tr>\n",
       "  </tbody>\n",
       "</table>\n",
       "</div>"
      ],
      "text/plain": [
       "  route_id                                 trip_id  stop_sequence  \\\n",
       "0        1  AFA21GEN-1037-Sunday-00_000600_1..S03R              2   \n",
       "1        1  AFA21GEN-1037-Sunday-00_000600_1..S03R              3   \n",
       "2        1  AFA21GEN-1037-Sunday-00_000600_1..S03R              4   \n",
       "3        1  AFA21GEN-1037-Sunday-00_000600_1..S03R              5   \n",
       "4        1  AFA21GEN-1037-Sunday-00_000600_1..S03R              6   \n",
       "\n",
       "  parent_station  prior_stop_sequence prior_station  \n",
       "0            103                    1           101  \n",
       "1            104                    2           103  \n",
       "2            106                    3           104  \n",
       "3            107                    4           106  \n",
       "4            108                    5           107  "
      ]
     },
     "execution_count": 11,
     "metadata": {},
     "output_type": "execute_result"
    }
   ],
   "source": [
    "res_edges = pd.merge(res_x, res_prior_x, on = ['trip_id', 'prior_stop_sequence'] )\n",
    "res_edges.head()"
   ]
  },
  {
   "cell_type": "markdown",
   "id": "282929f5-d616-4fa0-9632-19853ba72512",
   "metadata": {},
   "source": [
    "The dataframe `res_edges` contains multiple instances of directed edges.  The multiplicity arises from the multiple trips for the same same-pair.  Moreover, we are interested in undirected edges, so we use lexicographic sort on the parent station names to ensure each edge only appears once.\n",
    "\n",
    "In the code below, we construct derived columns `parent_a` and `parent_b` to always means either the parent station or the prior station in which `parent_a` is always lexicographically before `parent_b`.  This ensures that all edges are represented in the unlikely chance that some trips go from station X to station Y but not vice versa.  The unique set of pairs of (`parent_a`, `parent_b`) stop_ids represent all undirected edges in the NYC Subway network."
   ]
  },
  {
   "cell_type": "code",
   "execution_count": 12,
   "id": "3edf784d-5895-4805-a4b6-1ac468c1deb5",
   "metadata": {},
   "outputs": [],
   "source": [
    "sel_res_edges = res_edges[[\"parent_station\", \"prior_station\", \"route_id\"]].copy()\n",
    "\n",
    "sel_res_edges['parent_a'] = np.where( sel_res_edges['parent_station'] < sel_res_edges['prior_station'], \n",
    "                                         sel_res_edges['parent_station'] ,\n",
    "                                         sel_res_edges['prior_station'] )\n",
    "\n",
    "sel_res_edges['parent_b'] = np.where( sel_res_edges['parent_station'] > sel_res_edges['prior_station'], \n",
    "                                         sel_res_edges['parent_station'] ,\n",
    "                                         sel_res_edges['prior_station'] )\n",
    "\n",
    "no_dups_res_edges = sel_res_edges[['parent_a', 'parent_b']].drop_duplicates(keep = 'last')"
   ]
  },
  {
   "cell_type": "markdown",
   "id": "75b2a7ad-d241-4735-8f9e-3443bd59a7c3",
   "metadata": {},
   "source": [
    "Besides undirected edges, we may need to know the name of the route joining each edge.  When a pair of nodes have multiple routes connecting them, the same unidirected edge appears multiple times.  This is stored in the dataframe `no_dups_route_edges`.   The route_id becomes an edge attribute, and the resulting graph becomes a multigraph."
   ]
  },
  {
   "cell_type": "code",
   "execution_count": 13,
   "id": "6bce13db-a526-4447-b588-58f94af6e21a",
   "metadata": {},
   "outputs": [
    {
     "data": {
      "text/html": [
       "<div>\n",
       "<style scoped>\n",
       "    .dataframe tbody tr th:only-of-type {\n",
       "        vertical-align: middle;\n",
       "    }\n",
       "\n",
       "    .dataframe tbody tr th {\n",
       "        vertical-align: top;\n",
       "    }\n",
       "\n",
       "    .dataframe thead th {\n",
       "        text-align: right;\n",
       "    }\n",
       "</style>\n",
       "<table border=\"1\" class=\"dataframe\">\n",
       "  <thead>\n",
       "    <tr style=\"text-align: right;\">\n",
       "      <th></th>\n",
       "      <th>parent_a</th>\n",
       "      <th>parent_b</th>\n",
       "      <th>route_id</th>\n",
       "    </tr>\n",
       "  </thead>\n",
       "  <tbody>\n",
       "    <tr>\n",
       "      <th>69693</th>\n",
       "      <td>139</td>\n",
       "      <td>142</td>\n",
       "      <td>1</td>\n",
       "    </tr>\n",
       "    <tr>\n",
       "      <th>69694</th>\n",
       "      <td>138</td>\n",
       "      <td>139</td>\n",
       "      <td>1</td>\n",
       "    </tr>\n",
       "    <tr>\n",
       "      <th>69695</th>\n",
       "      <td>137</td>\n",
       "      <td>138</td>\n",
       "      <td>1</td>\n",
       "    </tr>\n",
       "    <tr>\n",
       "      <th>69696</th>\n",
       "      <td>136</td>\n",
       "      <td>137</td>\n",
       "      <td>1</td>\n",
       "    </tr>\n",
       "    <tr>\n",
       "      <th>69697</th>\n",
       "      <td>135</td>\n",
       "      <td>136</td>\n",
       "      <td>1</td>\n",
       "    </tr>\n",
       "    <tr>\n",
       "      <th>...</th>\n",
       "      <td>...</td>\n",
       "      <td>...</td>\n",
       "      <td>...</td>\n",
       "    </tr>\n",
       "    <tr>\n",
       "      <th>522459</th>\n",
       "      <td>S26</td>\n",
       "      <td>S27</td>\n",
       "      <td>SI</td>\n",
       "    </tr>\n",
       "    <tr>\n",
       "      <th>522460</th>\n",
       "      <td>S27</td>\n",
       "      <td>S28</td>\n",
       "      <td>SI</td>\n",
       "    </tr>\n",
       "    <tr>\n",
       "      <th>522461</th>\n",
       "      <td>S28</td>\n",
       "      <td>S29</td>\n",
       "      <td>SI</td>\n",
       "    </tr>\n",
       "    <tr>\n",
       "      <th>522462</th>\n",
       "      <td>S29</td>\n",
       "      <td>S30</td>\n",
       "      <td>SI</td>\n",
       "    </tr>\n",
       "    <tr>\n",
       "      <th>522463</th>\n",
       "      <td>S30</td>\n",
       "      <td>S31</td>\n",
       "      <td>SI</td>\n",
       "    </tr>\n",
       "  </tbody>\n",
       "</table>\n",
       "<p>1047 rows × 3 columns</p>\n",
       "</div>"
      ],
      "text/plain": [
       "       parent_a parent_b route_id\n",
       "69693       139      142        1\n",
       "69694       138      139        1\n",
       "69695       137      138        1\n",
       "69696       136      137        1\n",
       "69697       135      136        1\n",
       "...         ...      ...      ...\n",
       "522459      S26      S27       SI\n",
       "522460      S27      S28       SI\n",
       "522461      S28      S29       SI\n",
       "522462      S29      S30       SI\n",
       "522463      S30      S31       SI\n",
       "\n",
       "[1047 rows x 3 columns]"
      ]
     },
     "execution_count": 13,
     "metadata": {},
     "output_type": "execute_result"
    }
   ],
   "source": [
    "no_dups_route_edges = sel_res_edges[['parent_a', 'parent_b', 'route_id']].drop_duplicates(keep = 'last')\n",
    "no_dups_route_edges"
   ]
  },
  {
   "cell_type": "code",
   "execution_count": null,
   "id": "d849d46f-ee15-45ec-a299-a6ec7afee70e",
   "metadata": {},
   "outputs": [],
   "source": []
  },
  {
   "cell_type": "code",
   "execution_count": 14,
   "id": "9e52fcaf-2b38-4286-85bd-d072714ac8a2",
   "metadata": {},
   "outputs": [
    {
     "data": {
      "text/html": [
       "<div>\n",
       "<style scoped>\n",
       "    .dataframe tbody tr th:only-of-type {\n",
       "        vertical-align: middle;\n",
       "    }\n",
       "\n",
       "    .dataframe tbody tr th {\n",
       "        vertical-align: top;\n",
       "    }\n",
       "\n",
       "    .dataframe thead th {\n",
       "        text-align: right;\n",
       "    }\n",
       "</style>\n",
       "<table border=\"1\" class=\"dataframe\">\n",
       "  <thead>\n",
       "    <tr style=\"text-align: right;\">\n",
       "      <th></th>\n",
       "      <th>parent_station</th>\n",
       "      <th>prior_station</th>\n",
       "      <th>route_id</th>\n",
       "      <th>parent_a</th>\n",
       "      <th>parent_b</th>\n",
       "    </tr>\n",
       "  </thead>\n",
       "  <tbody>\n",
       "    <tr>\n",
       "      <th>0</th>\n",
       "      <td>103</td>\n",
       "      <td>101</td>\n",
       "      <td>1</td>\n",
       "      <td>101</td>\n",
       "      <td>103</td>\n",
       "    </tr>\n",
       "    <tr>\n",
       "      <th>1</th>\n",
       "      <td>104</td>\n",
       "      <td>103</td>\n",
       "      <td>1</td>\n",
       "      <td>103</td>\n",
       "      <td>104</td>\n",
       "    </tr>\n",
       "    <tr>\n",
       "      <th>2</th>\n",
       "      <td>106</td>\n",
       "      <td>104</td>\n",
       "      <td>1</td>\n",
       "      <td>104</td>\n",
       "      <td>106</td>\n",
       "    </tr>\n",
       "    <tr>\n",
       "      <th>3</th>\n",
       "      <td>107</td>\n",
       "      <td>106</td>\n",
       "      <td>1</td>\n",
       "      <td>106</td>\n",
       "      <td>107</td>\n",
       "    </tr>\n",
       "    <tr>\n",
       "      <th>4</th>\n",
       "      <td>108</td>\n",
       "      <td>107</td>\n",
       "      <td>1</td>\n",
       "      <td>107</td>\n",
       "      <td>108</td>\n",
       "    </tr>\n",
       "    <tr>\n",
       "      <th>...</th>\n",
       "      <td>...</td>\n",
       "      <td>...</td>\n",
       "      <td>...</td>\n",
       "      <td>...</td>\n",
       "      <td>...</td>\n",
       "    </tr>\n",
       "    <tr>\n",
       "      <th>522459</th>\n",
       "      <td>S27</td>\n",
       "      <td>S26</td>\n",
       "      <td>SI</td>\n",
       "      <td>S26</td>\n",
       "      <td>S27</td>\n",
       "    </tr>\n",
       "    <tr>\n",
       "      <th>522460</th>\n",
       "      <td>S28</td>\n",
       "      <td>S27</td>\n",
       "      <td>SI</td>\n",
       "      <td>S27</td>\n",
       "      <td>S28</td>\n",
       "    </tr>\n",
       "    <tr>\n",
       "      <th>522461</th>\n",
       "      <td>S29</td>\n",
       "      <td>S28</td>\n",
       "      <td>SI</td>\n",
       "      <td>S28</td>\n",
       "      <td>S29</td>\n",
       "    </tr>\n",
       "    <tr>\n",
       "      <th>522462</th>\n",
       "      <td>S30</td>\n",
       "      <td>S29</td>\n",
       "      <td>SI</td>\n",
       "      <td>S29</td>\n",
       "      <td>S30</td>\n",
       "    </tr>\n",
       "    <tr>\n",
       "      <th>522463</th>\n",
       "      <td>S31</td>\n",
       "      <td>S30</td>\n",
       "      <td>SI</td>\n",
       "      <td>S30</td>\n",
       "      <td>S31</td>\n",
       "    </tr>\n",
       "  </tbody>\n",
       "</table>\n",
       "<p>522464 rows × 5 columns</p>\n",
       "</div>"
      ],
      "text/plain": [
       "       parent_station prior_station route_id parent_a parent_b\n",
       "0                 103           101        1      101      103\n",
       "1                 104           103        1      103      104\n",
       "2                 106           104        1      104      106\n",
       "3                 107           106        1      106      107\n",
       "4                 108           107        1      107      108\n",
       "...               ...           ...      ...      ...      ...\n",
       "522459            S27           S26       SI      S26      S27\n",
       "522460            S28           S27       SI      S27      S28\n",
       "522461            S29           S28       SI      S28      S29\n",
       "522462            S30           S29       SI      S29      S30\n",
       "522463            S31           S30       SI      S30      S31\n",
       "\n",
       "[522464 rows x 5 columns]"
      ]
     },
     "execution_count": 14,
     "metadata": {},
     "output_type": "execute_result"
    }
   ],
   "source": [
    "sel_res_edges"
   ]
  },
  {
   "cell_type": "code",
   "execution_count": 15,
   "id": "35993395-5090-4fb6-a7cd-cdbbc2054b54",
   "metadata": {},
   "outputs": [
    {
     "data": {
      "text/html": [
       "<div>\n",
       "<style scoped>\n",
       "    .dataframe tbody tr th:only-of-type {\n",
       "        vertical-align: middle;\n",
       "    }\n",
       "\n",
       "    .dataframe tbody tr th {\n",
       "        vertical-align: top;\n",
       "    }\n",
       "\n",
       "    .dataframe thead th {\n",
       "        text-align: right;\n",
       "    }\n",
       "</style>\n",
       "<table border=\"1\" class=\"dataframe\">\n",
       "  <thead>\n",
       "    <tr style=\"text-align: right;\">\n",
       "      <th></th>\n",
       "      <th>parent_a</th>\n",
       "      <th>parent_b</th>\n",
       "    </tr>\n",
       "  </thead>\n",
       "  <tbody>\n",
       "    <tr>\n",
       "      <th>69693</th>\n",
       "      <td>139</td>\n",
       "      <td>142</td>\n",
       "    </tr>\n",
       "    <tr>\n",
       "      <th>69694</th>\n",
       "      <td>138</td>\n",
       "      <td>139</td>\n",
       "    </tr>\n",
       "    <tr>\n",
       "      <th>69695</th>\n",
       "      <td>137</td>\n",
       "      <td>138</td>\n",
       "    </tr>\n",
       "    <tr>\n",
       "      <th>69713</th>\n",
       "      <td>119</td>\n",
       "      <td>120</td>\n",
       "    </tr>\n",
       "    <tr>\n",
       "      <th>69714</th>\n",
       "      <td>118</td>\n",
       "      <td>119</td>\n",
       "    </tr>\n",
       "  </tbody>\n",
       "</table>\n",
       "</div>"
      ],
      "text/plain": [
       "      parent_a parent_b\n",
       "69693      139      142\n",
       "69694      138      139\n",
       "69695      137      138\n",
       "69713      119      120\n",
       "69714      118      119"
      ]
     },
     "execution_count": 15,
     "metadata": {},
     "output_type": "execute_result"
    }
   ],
   "source": [
    "no_dups_res_edges.head()"
   ]
  },
  {
   "cell_type": "markdown",
   "id": "df4dd7c8-2845-4cbc-b9e8-119b69e0af9c",
   "metadata": {},
   "source": [
    "The above procedure shows over 522 thousand rows which collapse to a set of 573 edges.  "
   ]
  },
  {
   "cell_type": "code",
   "execution_count": 16,
   "id": "7c6abd18-3cc9-482b-9917-d41a91a8a96b",
   "metadata": {},
   "outputs": [
    {
     "data": {
      "text/plain": [
       "(522464, 573)"
      ]
     },
     "execution_count": 16,
     "metadata": {},
     "output_type": "execute_result"
    }
   ],
   "source": [
    "len(sel_res_edges), len(no_dups_res_edges)"
   ]
  },
  {
   "cell_type": "markdown",
   "id": "dca28eeb-fd6b-414c-b009-bb29b7c4c78c",
   "metadata": {},
   "source": [
    "There are 496 NYC subway stops extracted from the above list of edges.  These stops are collected in the dataframe `nodes_used` below."
   ]
  },
  {
   "cell_type": "code",
   "execution_count": 17,
   "id": "ad255fc0-3138-40dd-929e-d6b7993afbd3",
   "metadata": {},
   "outputs": [],
   "source": [
    "nodes_used_ids =  pd.DataFrame( np.unique( no_dups_res_edges[['parent_a', 'parent_b']].values ) , columns = [\"stop_id\" ])"
   ]
  },
  {
   "cell_type": "code",
   "execution_count": 18,
   "id": "833c6ea8-ca1a-4ead-bc53-8047d3942ba1",
   "metadata": {},
   "outputs": [
    {
     "data": {
      "text/plain": [
       "496"
      ]
     },
     "execution_count": 18,
     "metadata": {},
     "output_type": "execute_result"
    }
   ],
   "source": [
    "len(nodes_used_ids)"
   ]
  },
  {
   "cell_type": "code",
   "execution_count": 19,
   "id": "74d8707a-358a-4475-affe-1a6a2e79ba9e",
   "metadata": {},
   "outputs": [],
   "source": [
    "check_unused_nodes = pd.merge(all_stops, nodes_used_ids, on = ['stop_id'] , how = 'left', indicator = True )"
   ]
  },
  {
   "cell_type": "code",
   "execution_count": 20,
   "id": "fe7c58f9-f4bd-4e77-a65b-c5612a9811a7",
   "metadata": {},
   "outputs": [
    {
     "data": {
      "text/html": [
       "<div>\n",
       "<style scoped>\n",
       "    .dataframe tbody tr th:only-of-type {\n",
       "        vertical-align: middle;\n",
       "    }\n",
       "\n",
       "    .dataframe tbody tr th {\n",
       "        vertical-align: top;\n",
       "    }\n",
       "\n",
       "    .dataframe thead th {\n",
       "        text-align: right;\n",
       "    }\n",
       "</style>\n",
       "<table border=\"1\" class=\"dataframe\">\n",
       "  <thead>\n",
       "    <tr style=\"text-align: right;\">\n",
       "      <th></th>\n",
       "      <th>stop_id</th>\n",
       "      <th>stop_name</th>\n",
       "      <th>stop_lat</th>\n",
       "      <th>stop_lon</th>\n",
       "      <th>location_type</th>\n",
       "      <th>parent_station</th>\n",
       "      <th>_merge</th>\n",
       "    </tr>\n",
       "  </thead>\n",
       "  <tbody>\n",
       "    <tr>\n",
       "      <th>111</th>\n",
       "      <td>140</td>\n",
       "      <td>South Ferry Loop</td>\n",
       "      <td>40.701411</td>\n",
       "      <td>-74.013205</td>\n",
       "      <td>1</td>\n",
       "      <td>NaN</td>\n",
       "      <td>left_only</td>\n",
       "    </tr>\n",
       "    <tr>\n",
       "      <th>1086</th>\n",
       "      <td>H19</td>\n",
       "      <td>Broad Channel</td>\n",
       "      <td>40.609014</td>\n",
       "      <td>-73.816024</td>\n",
       "      <td>1</td>\n",
       "      <td>NaN</td>\n",
       "      <td>left_only</td>\n",
       "    </tr>\n",
       "    <tr>\n",
       "      <th>1293</th>\n",
       "      <td>N12</td>\n",
       "      <td>S.B. Coney Island</td>\n",
       "      <td>40.577422</td>\n",
       "      <td>-73.981233</td>\n",
       "      <td>1</td>\n",
       "      <td>NaN</td>\n",
       "      <td>left_only</td>\n",
       "    </tr>\n",
       "  </tbody>\n",
       "</table>\n",
       "</div>"
      ],
      "text/plain": [
       "     stop_id          stop_name   stop_lat   stop_lon  location_type  \\\n",
       "111      140   South Ferry Loop  40.701411 -74.013205              1   \n",
       "1086     H19      Broad Channel  40.609014 -73.816024              1   \n",
       "1293     N12  S.B. Coney Island  40.577422 -73.981233              1   \n",
       "\n",
       "     parent_station     _merge  \n",
       "111             NaN  left_only  \n",
       "1086            NaN  left_only  \n",
       "1293            NaN  left_only  "
      ]
     },
     "execution_count": 20,
     "metadata": {},
     "output_type": "execute_result"
    }
   ],
   "source": [
    "check_unused_nodes[ (check_unused_nodes['location_type'] == 1) & \n",
    "                   ( check_unused_nodes['_merge'] == 'left_only' )]"
   ]
  },
  {
   "cell_type": "markdown",
   "id": "d3a9558e-d745-4210-b5d0-3c6d4b82be34",
   "metadata": {},
   "source": [
    "3 station stops are omitted from the network but included in the raw GTFS files.  They appear to have no service documented in the `stop_times.txt`.   They are outliers and pose no issues for the following reasons:\n",
    "\n",
    "*  Stop 140 `South Ferry Loop` is defunct since 2017 and transferable from `Whitehall Street - South Ferry` R27.\n",
    "*  Stop H19 Broad Channel on the A line is located on a small island in Jamaica Bay and is the 2nd least used station in the subway system.\n",
    "*  Stop N12 refers to Coney Island-Stillwell Avenue Station which is a major terminus.  However, that stop coincides with the D train station D43 which is active."
   ]
  },
  {
   "cell_type": "markdown",
   "id": "e93489d2-880d-481d-9773-176d80bb61fd",
   "metadata": {},
   "source": [
    "Now we supplement `nodes_used` with longitude, latitude and other categorical metadata."
   ]
  },
  {
   "cell_type": "code",
   "execution_count": 21,
   "id": "77ff4ceb-22b8-4d6d-b013-8ececfb17ba7",
   "metadata": {},
   "outputs": [
    {
     "data": {
      "text/html": [
       "<div>\n",
       "<style scoped>\n",
       "    .dataframe tbody tr th:only-of-type {\n",
       "        vertical-align: middle;\n",
       "    }\n",
       "\n",
       "    .dataframe tbody tr th {\n",
       "        vertical-align: top;\n",
       "    }\n",
       "\n",
       "    .dataframe thead th {\n",
       "        text-align: right;\n",
       "    }\n",
       "</style>\n",
       "<table border=\"1\" class=\"dataframe\">\n",
       "  <thead>\n",
       "    <tr style=\"text-align: right;\">\n",
       "      <th></th>\n",
       "      <th>stop_id</th>\n",
       "      <th>stop_name</th>\n",
       "      <th>stop_lat</th>\n",
       "      <th>stop_lon</th>\n",
       "    </tr>\n",
       "  </thead>\n",
       "  <tbody>\n",
       "    <tr>\n",
       "      <th>0</th>\n",
       "      <td>101</td>\n",
       "      <td>Van Cortlandt Park-242 St</td>\n",
       "      <td>40.889248</td>\n",
       "      <td>-73.898583</td>\n",
       "    </tr>\n",
       "    <tr>\n",
       "      <th>1</th>\n",
       "      <td>103</td>\n",
       "      <td>238 St</td>\n",
       "      <td>40.884667</td>\n",
       "      <td>-73.900870</td>\n",
       "    </tr>\n",
       "    <tr>\n",
       "      <th>2</th>\n",
       "      <td>104</td>\n",
       "      <td>231 St</td>\n",
       "      <td>40.878856</td>\n",
       "      <td>-73.904834</td>\n",
       "    </tr>\n",
       "    <tr>\n",
       "      <th>3</th>\n",
       "      <td>106</td>\n",
       "      <td>Marble Hill-225 St</td>\n",
       "      <td>40.874561</td>\n",
       "      <td>-73.909831</td>\n",
       "    </tr>\n",
       "    <tr>\n",
       "      <th>4</th>\n",
       "      <td>107</td>\n",
       "      <td>215 St</td>\n",
       "      <td>40.869444</td>\n",
       "      <td>-73.915279</td>\n",
       "    </tr>\n",
       "    <tr>\n",
       "      <th>...</th>\n",
       "      <td>...</td>\n",
       "      <td>...</td>\n",
       "      <td>...</td>\n",
       "      <td>...</td>\n",
       "    </tr>\n",
       "    <tr>\n",
       "      <th>491</th>\n",
       "      <td>S27</td>\n",
       "      <td>Grasmere</td>\n",
       "      <td>40.603117</td>\n",
       "      <td>-74.084087</td>\n",
       "    </tr>\n",
       "    <tr>\n",
       "      <th>492</th>\n",
       "      <td>S28</td>\n",
       "      <td>Clifton</td>\n",
       "      <td>40.621319</td>\n",
       "      <td>-74.071402</td>\n",
       "    </tr>\n",
       "    <tr>\n",
       "      <th>493</th>\n",
       "      <td>S29</td>\n",
       "      <td>Stapleton</td>\n",
       "      <td>40.627915</td>\n",
       "      <td>-74.075162</td>\n",
       "    </tr>\n",
       "    <tr>\n",
       "      <th>494</th>\n",
       "      <td>S30</td>\n",
       "      <td>Tompkinsville</td>\n",
       "      <td>40.636949</td>\n",
       "      <td>-74.074835</td>\n",
       "    </tr>\n",
       "    <tr>\n",
       "      <th>495</th>\n",
       "      <td>S31</td>\n",
       "      <td>St George</td>\n",
       "      <td>40.643748</td>\n",
       "      <td>-74.073643</td>\n",
       "    </tr>\n",
       "  </tbody>\n",
       "</table>\n",
       "<p>496 rows × 4 columns</p>\n",
       "</div>"
      ],
      "text/plain": [
       "    stop_id                  stop_name   stop_lat   stop_lon\n",
       "0       101  Van Cortlandt Park-242 St  40.889248 -73.898583\n",
       "1       103                     238 St  40.884667 -73.900870\n",
       "2       104                     231 St  40.878856 -73.904834\n",
       "3       106         Marble Hill-225 St  40.874561 -73.909831\n",
       "4       107                     215 St  40.869444 -73.915279\n",
       "..      ...                        ...        ...        ...\n",
       "491     S27                   Grasmere  40.603117 -74.084087\n",
       "492     S28                    Clifton  40.621319 -74.071402\n",
       "493     S29                  Stapleton  40.627915 -74.075162\n",
       "494     S30              Tompkinsville  40.636949 -74.074835\n",
       "495     S31                  St George  40.643748 -74.073643\n",
       "\n",
       "[496 rows x 4 columns]"
      ]
     },
     "execution_count": 21,
     "metadata": {},
     "output_type": "execute_result"
    }
   ],
   "source": [
    "nodes_used = pd.merge(nodes_used_ids, \n",
    "                      all_stops, on = ['stop_id'], how = 'inner' )[['stop_id', 'stop_name', 'stop_lat', 'stop_lon']]\n",
    "nodes_used"
   ]
  },
  {
   "cell_type": "markdown",
   "id": "b98b5a25-0326-48bb-9d90-f25e74490051",
   "metadata": {},
   "source": [
    "## Step 3.  Building the Network\n",
    "\n",
    "Several graphs are needed to complete the analyses.\n",
    "\n",
    "*  A graph $G1$ using the undirected and unlabeled edges.  Nodes are labeled with longitude, latitude and station name.\n",
    "\n",
    "*  A multi-graph $G2$ using the undirected edges and labeled edges.  Nodes are labeled with longitude, latitude and station name.\n",
    "\n",
    "*  A graph $G3$ will link stations where transfers are allowed.   Here some nodes can have borough, multiple station names, longitudes and latitudes.  Edges remain undirected and unlabeled.  "
   ]
  },
  {
   "cell_type": "code",
   "execution_count": 22,
   "id": "7fe960b3-3a6f-48b2-8424-0d643fd9e291",
   "metadata": {},
   "outputs": [],
   "source": [
    "G1 = nx.Graph()\n",
    "\n",
    "\n",
    "for r, d in nodes_used.iterrows():\n",
    "    G1.add_node(d[\"stop_id\"], stop_name = d[\"stop_name\"] , lat = d[\"stop_lat\"] , lon = d[\"stop_lon\"])\n",
    "\n",
    "    \n",
    "for r, d in no_dups_res_edges.iterrows():\n",
    "    G1.add_edge(d['parent_a'], d['parent_b'])"
   ]
  },
  {
   "cell_type": "code",
   "execution_count": 23,
   "id": "fb67569d-95a6-446a-b61f-89446c529e40",
   "metadata": {},
   "outputs": [],
   "source": [
    "\n",
    "pos = {}\n",
    "\n",
    "for r, d in nodes_used.iterrows():\n",
    "    lon = float(d[\"stop_lon\"] )\n",
    "    lat = float(d[\"stop_lat\"] )\n",
    "    node = d[\"stop_id\"]\n",
    "    pos.update( { node : ( lon, lat)   } )"
   ]
  },
  {
   "cell_type": "code",
   "execution_count": 24,
   "id": "7353fec9-2494-4efd-93d8-267cd7d2f4b4",
   "metadata": {},
   "outputs": [
    {
     "data": {
      "image/png": "[encoded data removed]",
      "text/plain": [
       "<Figure size 864x720 with 1 Axes>"
      ]
     },
     "metadata": {},
     "output_type": "display_data"
    }
   ],
   "source": [
    "plt.figure(figsize = (12, 10))\n",
    "plt.tight_layout()\n",
    "plt.axis(\"off\")\n",
    "\n",
    "plt.suptitle(\"NYC Subway Network\", y = 1.05 ,fontsize= 18)\n",
    "\n",
    "plt.title(\"\"\"Nodes in Blue\n",
    "Edges in Red\n",
    "Individual Service lines not broken out here\n",
    "\"\"\", fontsize=12)\n",
    "\n",
    "\n",
    "\n",
    "nx.draw_networkx_edges(G1, pos = pos, \n",
    "                       width = 1, \n",
    "                       edge_color = 'red', \n",
    "                       alpha = 0.6 )\n",
    "\n",
    "nx.draw(G1, pos = pos ,   \n",
    "        with_labels = False ,\n",
    "        alpha = 0.5 ,\n",
    "        node_size = 20, \n",
    "        node_color = 'blue' )\n"
   ]
  },
  {
   "cell_type": "code",
   "execution_count": 25,
   "id": "094c338c-072a-4eab-ac33-61bfd882d9a4",
   "metadata": {},
   "outputs": [],
   "source": [
    "nx.write_graphml(G1, \"Subway_G1.graphml\")"
   ]
  },
  {
   "cell_type": "markdown",
   "id": "4b538dcf-e53e-48fc-b7bf-e2ec5479bd0a",
   "metadata": {},
   "source": [
    "Let's verify G1 is valid when restored from file."
   ]
  },
  {
   "cell_type": "code",
   "execution_count": 26,
   "id": "e659b2ef-7361-4d77-987c-79d89e9d7790",
   "metadata": {},
   "outputs": [],
   "source": [
    "G1_test = nx.read_graphml(\"Subway_G1.graphml\")"
   ]
  },
  {
   "cell_type": "code",
   "execution_count": 27,
   "id": "75f065ce-7a66-461a-872b-d292e1d47a3c",
   "metadata": {},
   "outputs": [
    {
     "data": {
      "image/png": "[encoded data removed]",
      "text/plain": [
       "<Figure size 864x720 with 1 Axes>"
      ]
     },
     "metadata": {},
     "output_type": "display_data"
    }
   ],
   "source": [
    "plt.figure(figsize = (12, 10))\n",
    "plt.tight_layout()\n",
    "plt.axis(\"off\")\n",
    "\n",
    "plt.suptitle(\"NYC Subway Network - Loaded from Graphml\", y = 1.05 ,fontsize= 18)\n",
    "\n",
    "plt.title(\"\"\"Nodes in Blue\n",
    "Edges in Red\n",
    "Individual Service lines not broken out here\n",
    "\"\"\", fontsize=12)\n",
    "\n",
    "\n",
    "\n",
    "nx.draw_networkx_edges(G1_test, pos = pos, \n",
    "                       width = 1, \n",
    "                       edge_color = 'red', \n",
    "                       alpha = 0.6 )\n",
    "\n",
    "nx.draw(G1_test, pos = pos ,   \n",
    "        with_labels = False ,\n",
    "        alpha = 0.5 ,\n",
    "        node_size = 20, \n",
    "        node_color = 'blue' )"
   ]
  },
  {
   "cell_type": "markdown",
   "id": "43239bf0-7cd7-46bf-ad62-c3508b3922ca",
   "metadata": {},
   "source": [
    "If the above graph looks like the NYC subway, the graph was correctly saved to graphml file."
   ]
  },
  {
   "cell_type": "markdown",
   "id": "a77fd432-dc05-4899-915a-df9c1ce2c719",
   "metadata": {},
   "source": [
    "### Adding a Multigraph with Routes\n",
    "\n",
    "We save a multigraph $G2$ in which the edges are assigned route attributes."
   ]
  },
  {
   "cell_type": "code",
   "execution_count": 28,
   "id": "052698ed-2583-461d-b722-1fbb2c6f1575",
   "metadata": {},
   "outputs": [],
   "source": [
    "G2 = nx.MultiGraph()\n",
    "\n",
    "\n",
    "for r, d in nodes_used.iterrows():\n",
    "    G2.add_node(d[\"stop_id\"], stop_name = d[\"stop_name\"] , lat = d[\"stop_lat\"] , lon = d[\"stop_lon\"])\n",
    "\n",
    "    \n",
    "for r, d in no_dups_route_edges.iterrows():\n",
    "    G2.add_edge(d['parent_a'], d['parent_b'], route_id = d['route_id'])"
   ]
  },
  {
   "cell_type": "code",
   "execution_count": 29,
   "id": "d2d01660-e39f-46d3-8e3d-0499ae516236",
   "metadata": {},
   "outputs": [
    {
     "data": {
      "image/png": "[encoded data removed]",
      "text/plain": [
       "<Figure size 864x720 with 1 Axes>"
      ]
     },
     "metadata": {},
     "output_type": "display_data"
    }
   ],
   "source": [
    "plt.figure(figsize = (12, 10))\n",
    "plt.tight_layout()\n",
    "plt.axis(\"off\")\n",
    "\n",
    "plt.suptitle(\"NYC Subway Network - MultiGraph\", y = 1.05 ,fontsize= 18)\n",
    "\n",
    "plt.title(\"\"\"Nodes in Blue\n",
    "Edges in Red\n",
    "Individual Service lines attributed\n",
    "\"\"\", fontsize=12)\n",
    "\n",
    "\n",
    "\n",
    "nx.draw_networkx_edges(G2, pos = pos, \n",
    "                       width = 1, \n",
    "                       edge_color = 'red', \n",
    "                       alpha = 0.6 )\n",
    "\n",
    "nx.draw(G2, pos = pos ,   \n",
    "        with_labels = False ,\n",
    "        alpha = 0.5 ,\n",
    "        node_size = 20, \n",
    "        node_color = 'blue' )"
   ]
  },
  {
   "cell_type": "code",
   "execution_count": 30,
   "id": "9432b47a-08e4-4eb1-8315-a5db5ae1ceb4",
   "metadata": {},
   "outputs": [],
   "source": [
    "nx.write_graphml(G2, \"Subway_G2.graphml\")"
   ]
  },
  {
   "cell_type": "markdown",
   "id": "cc499426-2ada-4e5a-8144-4df2fe5fd247",
   "metadata": {},
   "source": [
    "# Step X: PST work\n",
    "- Able to figure out household median income based on lat/long of station - DONE\n",
    "- Degree centrality of graph\n",
    "    - Table of degree and household income\n",
    "- Eigenvector centrality of graph\n",
    "    - Table of ev and household income\n",
    "- Per subway line    \n"
   ]
  },
  {
   "cell_type": "markdown",
   "id": "a176e4fb-0b44-4bae-9575-a23c7655690a",
   "metadata": {},
   "source": [
    "Functions to retrieve census tract data given the long, lat (of a subway station)"
   ]
  },
  {
   "cell_type": "code",
   "execution_count": 87,
   "id": "d7a202d8-28c0-44ee-9c1d-f174ffd420e4",
   "metadata": {},
   "outputs": [],
   "source": [
    "# I want to load the geojson with the household income data\n",
    "# https://stackoverflow.com/questions/57727739/how-to-determine-if-a-point-is-inside-a-polygon-using-geojson-and-shapely\n",
    "# Note to Alex need to install shapely\n",
    "\n",
    "import json\n",
    "from shapely.geometry import shape, GeometryCollection, Point\n",
    "\n",
    "# Open the geojson file and load into notebook\n",
    "with open('acs2019_5yr_B19013_14000US36047053700/acs2019_5yr_B19013_14000US36047053700.geojson', 'r') as file:\n",
    "    nyc_tract_data = json.load(file)\n",
    "        \n",
    "# Order: Longitude, latitude\n",
    "# For a given long, lat pair in NYC, return the household median income \n",
    "def getHouseholdMedianIncomeInNycByPoint(point):\n",
    "    income = -1.0\n",
    "    for feature in nyc_tract_data['features']:\n",
    "        polygon = shape(feature['geometry'])\n",
    "        if polygon.contains(point):\n",
    "            # Entire NYC in geojson, make sure to ignore\n",
    "            if feature['properties']['name'] != \"New York, NY\":\n",
    "                income = feature['properties']['B19013001']\n",
    "    return income\n",
    "\n",
    "# Order: Longitude, latitude\n",
    "# For a given long, lat pair in NYC, return the household median income and borough one-letter abbr\n",
    "def getHouseholdMedianIncomeAndBoroughInNycByPoint(point):\n",
    "    income = -1.0\n",
    "    borough = \"NONE\"\n",
    "    for feature in nyc_tract_data['features']:\n",
    "        polygon = shape(feature['geometry'])\n",
    "        if polygon.contains(point):\n",
    "            # Entire NYC in geojson, make sure to ignore\n",
    "            if feature['properties']['name'] != \"New York, NY\":\n",
    "                income = feature['properties']['B19013001']\n",
    "                #print(income)\n",
    "                name = feature['properties']['name']\n",
    "    \n",
    "    if pd.isna(income):\n",
    "        income = -1.0\n",
    "    \n",
    "    # Logic to translate tract name to borough\n",
    "    # one-letter abbreviation: \n",
    "    # K for Brooklyn; \n",
    "    # M for Manhattan; \n",
    "    # Q for Queens; \n",
    "    # R for Staten Island, Richmond county; \n",
    "    # X for the Bronx\n",
    "    if \"Queens\" in name:\n",
    "        borough = \"Q\"\n",
    "    elif \"Bronx\" in name:\n",
    "        borough = \"X\"\n",
    "    elif \"Kings\" in name:\n",
    "        borough = \"K\"\n",
    "    elif \"Richmond\" in name:\n",
    "        borough = \"R\"\n",
    "    elif \"New York\" in name and \"Census Tract\" in name:\n",
    "        borough = \"M\"\n",
    "    else:\n",
    "        borough = \"ERROR\"\n",
    "    \n",
    "    return income, borough\n",
    "\n",
    "# For a row from the dataset get the household median income by using the long, lat\n",
    "def getHouseholdMedianIncomeInNycByRow(row):\n",
    "    return getHouseholdMedianIncomeInNycByPoint(Point(row['stop_lon'], row['stop_lat']))\n",
    "\n",
    "# For a row from the dataset get the household median income, income bucket, and borough by using the long, lat\n",
    "def getIncomeIncBucketBoroughInNycByRow(row):\n",
    "    income, borough = getHouseholdMedianIncomeAndBoroughInNycByPoint(Point(row['stop_lon'], row['stop_lat']))\n",
    "\n",
    "    # Bucket income\n",
    "    #Low: less than or equal to $36,000\n",
    "    #Medium: Between $36,001 and $78,000\n",
    "    #High: Between $78,001 and $150,000\n",
    "    #Very high: greater than $150,000\n",
    "    incomeBucket = \"NONE\"\n",
    "    if income < 0.0:\n",
    "        incomeBucket = \"NA\"\n",
    "    elif income <= 36000:\n",
    "        incomeBucket = \"LOW\"\n",
    "    elif income <= 78000:\n",
    "        incomeBucket = \"MED\"\n",
    "    elif income <= 150000:\n",
    "        incomeBucket = \"HIGH\"\n",
    "    elif income > 150000:\n",
    "        incomeBucket = \"VHIGH\"\n",
    "    else:\n",
    "        incomeBucket = \"ERROR\"\n",
    "        \n",
    "    return income, incomeBucket, borough"
   ]
  },
  {
   "cell_type": "markdown",
   "id": "7dec433d-e4cd-4223-9117-ecd7242ba25c",
   "metadata": {},
   "source": [
    "Test case with my personal long, lat.\n",
    "Returns the correct median income and 'K' for Brooklyn"
   ]
  },
  {
   "cell_type": "code",
   "execution_count": 32,
   "id": "dc671a11-d8a0-4384-86e2-817c908134c2",
   "metadata": {},
   "outputs": [
    {
     "data": {
      "text/plain": [
       "(86534.0, 'K')"
      ]
     },
     "execution_count": 32,
     "metadata": {},
     "output_type": "execute_result"
    }
   ],
   "source": [
    "getHouseholdMedianIncomeAndBoroughInNycByPoint(Point(-73.96099311265702, 40.67282497091544))"
   ]
  },
  {
   "cell_type": "markdown",
   "id": "1a2a2025-1002-437f-8e79-807dead5d9a6",
   "metadata": {},
   "source": [
    "Test case with my personal long, lat.\n",
    "Returns the correct median income."
   ]
  },
  {
   "cell_type": "code",
   "execution_count": 33,
   "id": "d93d6614-354c-4f16-8d90-d64653f5a521",
   "metadata": {},
   "outputs": [
    {
     "data": {
      "text/plain": [
       "86534.0"
      ]
     },
     "execution_count": 33,
     "metadata": {},
     "output_type": "execute_result"
    }
   ],
   "source": [
    "# 40.67282497091544, -73.96099311265702 :: 790 Classon\n",
    "getHouseholdMedianIncomeInNycByPoint(Point(-73.96099311265702, 40.67282497091544))"
   ]
  },
  {
   "cell_type": "markdown",
   "id": "fe36f637-64b3-4f9d-9aeb-8e459b2b275e",
   "metadata": {},
   "source": [
    "Output the nodes and edges of the G1 networkx graph"
   ]
  },
  {
   "cell_type": "code",
   "execution_count": 34,
   "id": "3e7c933b-dbaa-4a44-8664-b1ba3ef4afd8",
   "metadata": {},
   "outputs": [
    {
     "data": {
      "text/plain": [
       "(496, 573)"
      ]
     },
     "execution_count": 34,
     "metadata": {},
     "output_type": "execute_result"
    }
   ],
   "source": [
    "# G1 is the primary graph\n",
    "(G1.number_of_nodes(), G1.number_of_edges())"
   ]
  },
  {
   "cell_type": "markdown",
   "id": "8944039f-1d27-4891-bc10-5de0a2705c00",
   "metadata": {},
   "source": [
    "Check if G1 is connected ... answer is 'No'. For sure, Staten Island stops are disconnected"
   ]
  },
  {
   "cell_type": "code",
   "execution_count": 35,
   "id": "4ec6ca0b-dd67-48db-b639-7cd20fb15b85",
   "metadata": {},
   "outputs": [
    {
     "data": {
      "text/plain": [
       "False"
      ]
     },
     "execution_count": 35,
     "metadata": {},
     "output_type": "execute_result"
    }
   ],
   "source": [
    "nx.is_connected(G1)"
   ]
  },
  {
   "cell_type": "markdown",
   "id": "f001cf7e-64bd-44d3-bd5e-ab15ac5e935f",
   "metadata": {},
   "source": [
    "Output the connected components of G1 sorted by length (descending)"
   ]
  },
  {
   "cell_type": "code",
   "execution_count": 36,
   "id": "cbab368d-a673-4f5c-abb0-c1a2402e31d4",
   "metadata": {},
   "outputs": [
    {
     "data": {
      "text/plain": [
       "[273, 154, 24, 22, 21, 2]"
      ]
     },
     "execution_count": 36,
     "metadata": {},
     "output_type": "execute_result"
    }
   ],
   "source": [
    "components = [c for c in sorted(nx.connected_components(G1), key=len, reverse=True)]\n",
    "len(components)\n",
    "[len(c) for c in components]"
   ]
  },
  {
   "cell_type": "markdown",
   "id": "8c7b33f4-69fd-4bb3-b32f-63975669447f",
   "metadata": {},
   "source": [
    "Confirm component at index 0 is the largest component ... yes."
   ]
  },
  {
   "cell_type": "code",
   "execution_count": 37,
   "id": "f28ada77-2b52-4286-bfe5-704cfa4c5ad6",
   "metadata": {},
   "outputs": [
    {
     "data": {
      "text/plain": [
       "273"
      ]
     },
     "execution_count": 37,
     "metadata": {},
     "output_type": "execute_result"
    }
   ],
   "source": [
    "len(components[0])"
   ]
  },
  {
   "cell_type": "markdown",
   "id": "d3284564-4a37-4843-b628-0a820ac6d2c4",
   "metadata": {},
   "source": [
    "Output the diamaeter of the largest component of G1"
   ]
  },
  {
   "cell_type": "code",
   "execution_count": 38,
   "id": "2f109ac1-3157-4bba-a975-7084841529c2",
   "metadata": {},
   "outputs": [
    {
     "data": {
      "text/plain": [
       "39"
      ]
     },
     "execution_count": 38,
     "metadata": {},
     "output_type": "execute_result"
    }
   ],
   "source": [
    "graphs = list(nx.connected_component_subgraphs(G1))\n",
    "gr = graphs[0]\n",
    "nx.diameter(gr)"
   ]
  },
  {
   "cell_type": "markdown",
   "id": "19671228-6b26-475b-8722-13600d83e1f0",
   "metadata": {},
   "source": [
    "Ouput the average shortest path length of the largest component of G1"
   ]
  },
  {
   "cell_type": "code",
   "execution_count": 39,
   "id": "55004f5f-e0c5-43b8-80bc-ee4e4e679c56",
   "metadata": {},
   "outputs": [
    {
     "data": {
      "text/plain": [
       "13.249045072574484"
      ]
     },
     "execution_count": 39,
     "metadata": {},
     "output_type": "execute_result"
    }
   ],
   "source": [
    "nx.average_shortest_path_length(gr)"
   ]
  },
  {
   "cell_type": "markdown",
   "id": "312fd82b-c562-4297-8aba-9f1e1676b217",
   "metadata": {},
   "source": [
    "Ouput the density of G1 largest comp as percentage"
   ]
  },
  {
   "cell_type": "code",
   "execution_count": 40,
   "id": "88239cf7-7b4f-4cb4-8ed0-3c634fa5bf66",
   "metadata": {},
   "outputs": [
    {
     "data": {
      "text/plain": [
       "1.4514896867838043"
      ]
     },
     "execution_count": 40,
     "metadata": {},
     "output_type": "execute_result"
    }
   ],
   "source": [
    "(100 * nx.density(gr))"
   ]
  },
  {
   "cell_type": "markdown",
   "id": "7221bbd6-d32d-4c62-ad77-6511231ad3f0",
   "metadata": {},
   "source": [
    "Draw out of the box graph of the G1 largest comp"
   ]
  },
  {
   "cell_type": "code",
   "execution_count": 41,
   "id": "9a228730-a33c-41e2-b1c0-69d414cb2b3e",
   "metadata": {},
   "outputs": [
    {
     "data": {
      "image/png": "[encoded data removed]",
      "text/plain": [
       "<Figure size 432x288 with 1 Axes>"
      ]
     },
     "metadata": {
      "needs_background": "light"
     },
     "output_type": "display_data"
    }
   ],
   "source": [
    "nx.draw_networkx(gr)"
   ]
  },
  {
   "cell_type": "code",
   "execution_count": 42,
   "id": "ca808071-536b-442c-bafa-d5f2f87ce145",
   "metadata": {},
   "outputs": [],
   "source": [
    "# From textbook\n",
    "# compute degree\n",
    "deg = nx.degree(gr)"
   ]
  },
  {
   "cell_type": "code",
   "execution_count": 43,
   "id": "ddb8b291-9436-4f43-bfe5-4806b754ae6a",
   "metadata": {},
   "outputs": [
    {
     "data": {
      "text/plain": [
       "5"
      ]
     },
     "execution_count": 43,
     "metadata": {},
     "output_type": "execute_result"
    }
   ],
   "source": [
    "deg['621']"
   ]
  },
  {
   "cell_type": "code",
   "execution_count": 44,
   "id": "31eb361b-8715-4b52-bc4f-4f726e902f89",
   "metadata": {},
   "outputs": [
    {
     "data": {
      "text/plain": [
       "dict"
      ]
     },
     "execution_count": 44,
     "metadata": {},
     "output_type": "execute_result"
    }
   ],
   "source": [
    "type(deg)"
   ]
  },
  {
   "cell_type": "code",
   "execution_count": 45,
   "id": "2fee76d3-5cb8-491c-9688-6801afeda64a",
   "metadata": {},
   "outputs": [
    {
     "data": {
      "text/plain": [
       "1"
      ]
     },
     "execution_count": 45,
     "metadata": {},
     "output_type": "execute_result"
    }
   ],
   "source": [
    "min(deg.values())"
   ]
  },
  {
   "cell_type": "code",
   "execution_count": 46,
   "id": "c7e071b2-ec55-4ed5-bf37-d74e431786c7",
   "metadata": {},
   "outputs": [
    {
     "data": {
      "text/plain": [
       "5"
      ]
     },
     "execution_count": 46,
     "metadata": {},
     "output_type": "execute_result"
    }
   ],
   "source": [
    "max(deg.values())"
   ]
  },
  {
   "cell_type": "code",
   "execution_count": 47,
   "id": "d96ccf1b-14ce-44de-95b8-60b28aabdb07",
   "metadata": {},
   "outputs": [],
   "source": [
    "# fixed syntax from https://stackoverflow.com/questions/15712210/python-3-2-lambda-syntax-error\n",
    "def sorted_map(map):\n",
    "    ms = sorted(map.items(), key=lambda kv: (-kv[1],kv[0]))\n",
    "    return ms\n",
    "\n",
    "ds=sorted_map(deg)"
   ]
  },
  {
   "cell_type": "code",
   "execution_count": 48,
   "id": "1272e230-a2f7-444e-892f-740855486828",
   "metadata": {},
   "outputs": [
    {
     "data": {
      "text/plain": [
       "[('213', 5),\n",
       " ('239', 5),\n",
       " ('621', 5),\n",
       " ('120', 4),\n",
       " ('123', 4),\n",
       " ('132', 4),\n",
       " ('137', 4),\n",
       " ('613', 4),\n",
       " ('626', 4)]"
      ]
     },
     "execution_count": 48,
     "metadata": {},
     "output_type": "execute_result"
    }
   ],
   "source": [
    "ds[0:9]"
   ]
  },
  {
   "cell_type": "code",
   "execution_count": 49,
   "id": "0f546fec-7daf-432f-9f39-b10a8e65314c",
   "metadata": {},
   "outputs": [
    {
     "data": {
      "image/png": "[encoded data removed]",
      "text/plain": [
       "<Figure size 432x288 with 1 Axes>"
      ]
     },
     "metadata": {
      "needs_background": "light"
     },
     "output_type": "display_data"
    }
   ],
   "source": [
    "h = plt.hist(deg.values(), 100)"
   ]
  },
  {
   "cell_type": "code",
   "execution_count": 61,
   "id": "6806b408-85d3-4655-a712-fa53111c4d99",
   "metadata": {},
   "outputs": [],
   "source": [
    "c = nx.closeness_centrality(gr)"
   ]
  },
  {
   "cell_type": "code",
   "execution_count": 62,
   "id": "d25a44d1-e4cd-4f5a-ac85-af25fa656be9",
   "metadata": {},
   "outputs": [],
   "source": [
    "cs = sorted_map(c)"
   ]
  },
  {
   "cell_type": "code",
   "execution_count": 63,
   "id": "74794989-d007-47df-955c-d79b939ac3e0",
   "metadata": {},
   "outputs": [
    {
     "data": {
      "text/plain": [
       "[('416', 0.1137546468401487),\n",
       " ('621', 0.1134173461823573),\n",
       " ('222', 0.11299852289512555),\n",
       " ('415', 0.10889679715302492),\n",
       " ('626', 0.10881934566145092),\n",
       " ('224', 0.10843373493975904),\n",
       " ('221', 0.1047945205479452),\n",
       " ('619', 0.10429447852760736),\n",
       " ('629', 0.10415248468345814),\n",
       " ('225', 0.10394021739130435)]"
      ]
     },
     "execution_count": 63,
     "metadata": {},
     "output_type": "execute_result"
    }
   ],
   "source": [
    "cs[:10]"
   ]
  },
  {
   "cell_type": "code",
   "execution_count": 64,
   "id": "17d21aeb-605c-4b7a-b2aa-543a5709358d",
   "metadata": {},
   "outputs": [
    {
     "data": {
      "text/plain": [
       "[('222', 0.4747878683637197),\n",
       " ('621', 0.45505102625845656),\n",
       " ('416', 0.3764906547414287),\n",
       " ('120', 0.3576998050682261),\n",
       " ('224', 0.3106151817452127),\n",
       " ('626', 0.3082072010090586),\n",
       " ('234', 0.2928419905974085),\n",
       " ('225', 0.2873093681917211),\n",
       " ('226', 0.2839553950235064),\n",
       " ('227', 0.28249340671941287)]"
      ]
     },
     "execution_count": 64,
     "metadata": {},
     "output_type": "execute_result"
    }
   ],
   "source": [
    "b = nx.betweenness_centrality(gr)\n",
    "bs = sorted_map(b)\n",
    "bs[:10]"
   ]
  },
  {
   "cell_type": "code",
   "execution_count": 65,
   "id": "26f22536-1d44-490e-ad04-ee5c933edb0e",
   "metadata": {},
   "outputs": [],
   "source": [
    "# Degree, Closeness, Betweenness"
   ]
  },
  {
   "cell_type": "code",
   "execution_count": 66,
   "id": "0e5a56d7-78dd-4cb4-85bc-326cc518b9a0",
   "metadata": {},
   "outputs": [
    {
     "data": {
      "text/plain": [
       "[('621', 0.43385770587776057),\n",
       " ('626', 0.3622099833165847),\n",
       " ('629', 0.3307148885087008),\n",
       " ('416', 0.2822268235158426),\n",
       " ('415', 0.2745973187398323),\n",
       " ('631', 0.2637162153725527),\n",
       " ('619', 0.2116067894777614),\n",
       " ('630', 0.19797877517596027),\n",
       " ('627', 0.1769464786325019),\n",
       " ('622', 0.17203242555726586)]"
      ]
     },
     "execution_count": 66,
     "metadata": {},
     "output_type": "execute_result"
    }
   ],
   "source": [
    "e = nx.eigenvector_centrality(gr)\n",
    "es = sorted_map(e)\n",
    "es[:10]"
   ]
  },
  {
   "cell_type": "code",
   "execution_count": 67,
   "id": "ddd5c6a0-be1c-4e9b-ba3b-6e2dc63b266a",
   "metadata": {},
   "outputs": [
    {
     "data": {
      "text/plain": [
       "[('213', 0.012806045422294816),\n",
       " ('239', 0.01254312445926968),\n",
       " ('621', 0.011326246286059986),\n",
       " ('137', 0.010706869416804756),\n",
       " ('120', 0.010218125856955956),\n",
       " ('613', 0.010202205020440345),\n",
       " ('132', 0.01017944937957248),\n",
       " ('123', 0.00992461805139809),\n",
       " ('635', 0.009903747139549123),\n",
       " ('631', 0.009396331578060047)]"
      ]
     },
     "execution_count": 67,
     "metadata": {},
     "output_type": "execute_result"
    }
   ],
   "source": [
    "# PageRank\n",
    "pr = nx.pagerank(gr)\n",
    "prs = sorted_map(pr)\n",
    "prs[:10]"
   ]
  },
  {
   "cell_type": "code",
   "execution_count": 68,
   "id": "de05990d-9b0c-4383-bed5-7f8544584258",
   "metadata": {},
   "outputs": [
    {
     "data": {
      "text/html": [
       "<div>\n",
       "<style scoped>\n",
       "    .dataframe tbody tr th:only-of-type {\n",
       "        vertical-align: middle;\n",
       "    }\n",
       "\n",
       "    .dataframe tbody tr th {\n",
       "        vertical-align: top;\n",
       "    }\n",
       "\n",
       "    .dataframe thead th {\n",
       "        text-align: right;\n",
       "    }\n",
       "</style>\n",
       "<table border=\"1\" class=\"dataframe\">\n",
       "  <thead>\n",
       "    <tr style=\"text-align: right;\">\n",
       "      <th></th>\n",
       "      <th>stop_id</th>\n",
       "      <th>stop_name</th>\n",
       "      <th>stop_lat</th>\n",
       "      <th>stop_lon</th>\n",
       "    </tr>\n",
       "  </thead>\n",
       "  <tbody>\n",
       "    <tr>\n",
       "      <th>0</th>\n",
       "      <td>101</td>\n",
       "      <td>Van Cortlandt Park-242 St</td>\n",
       "      <td>40.889248</td>\n",
       "      <td>-73.898583</td>\n",
       "    </tr>\n",
       "    <tr>\n",
       "      <th>1</th>\n",
       "      <td>103</td>\n",
       "      <td>238 St</td>\n",
       "      <td>40.884667</td>\n",
       "      <td>-73.900870</td>\n",
       "    </tr>\n",
       "    <tr>\n",
       "      <th>2</th>\n",
       "      <td>104</td>\n",
       "      <td>231 St</td>\n",
       "      <td>40.878856</td>\n",
       "      <td>-73.904834</td>\n",
       "    </tr>\n",
       "    <tr>\n",
       "      <th>3</th>\n",
       "      <td>106</td>\n",
       "      <td>Marble Hill-225 St</td>\n",
       "      <td>40.874561</td>\n",
       "      <td>-73.909831</td>\n",
       "    </tr>\n",
       "    <tr>\n",
       "      <th>4</th>\n",
       "      <td>107</td>\n",
       "      <td>215 St</td>\n",
       "      <td>40.869444</td>\n",
       "      <td>-73.915279</td>\n",
       "    </tr>\n",
       "  </tbody>\n",
       "</table>\n",
       "</div>"
      ],
      "text/plain": [
       "  stop_id                  stop_name   stop_lat   stop_lon\n",
       "0     101  Van Cortlandt Park-242 St  40.889248 -73.898583\n",
       "1     103                     238 St  40.884667 -73.900870\n",
       "2     104                     231 St  40.878856 -73.904834\n",
       "3     106         Marble Hill-225 St  40.874561 -73.909831\n",
       "4     107                     215 St  40.869444 -73.915279"
      ]
     },
     "execution_count": 68,
     "metadata": {},
     "output_type": "execute_result"
    }
   ],
   "source": [
    "nodes_used[:5]"
   ]
  },
  {
   "cell_type": "code",
   "execution_count": 88,
   "id": "69fba8e0-c6ac-45bd-8ea9-568f1708e488",
   "metadata": {},
   "outputs": [
    {
     "data": {
      "text/html": [
       "<div>\n",
       "<style scoped>\n",
       "    .dataframe tbody tr th:only-of-type {\n",
       "        vertical-align: middle;\n",
       "    }\n",
       "\n",
       "    .dataframe tbody tr th {\n",
       "        vertical-align: top;\n",
       "    }\n",
       "\n",
       "    .dataframe thead th {\n",
       "        text-align: right;\n",
       "    }\n",
       "</style>\n",
       "<table border=\"1\" class=\"dataframe\">\n",
       "  <thead>\n",
       "    <tr style=\"text-align: right;\">\n",
       "      <th></th>\n",
       "      <th>stop_id</th>\n",
       "      <th>stop_name</th>\n",
       "      <th>stop_lat</th>\n",
       "      <th>stop_lon</th>\n",
       "      <th>hh_med_income</th>\n",
       "      <th>income_bucket</th>\n",
       "      <th>borough</th>\n",
       "    </tr>\n",
       "  </thead>\n",
       "  <tbody>\n",
       "    <tr>\n",
       "      <th>0</th>\n",
       "      <td>101</td>\n",
       "      <td>Van Cortlandt Park-242 St</td>\n",
       "      <td>40.889248</td>\n",
       "      <td>-73.898583</td>\n",
       "      <td>58467.0</td>\n",
       "      <td>MED</td>\n",
       "      <td>X</td>\n",
       "    </tr>\n",
       "    <tr>\n",
       "      <th>1</th>\n",
       "      <td>103</td>\n",
       "      <td>238 St</td>\n",
       "      <td>40.884667</td>\n",
       "      <td>-73.900870</td>\n",
       "      <td>26887.0</td>\n",
       "      <td>LOW</td>\n",
       "      <td>X</td>\n",
       "    </tr>\n",
       "    <tr>\n",
       "      <th>2</th>\n",
       "      <td>104</td>\n",
       "      <td>231 St</td>\n",
       "      <td>40.878856</td>\n",
       "      <td>-73.904834</td>\n",
       "      <td>26887.0</td>\n",
       "      <td>LOW</td>\n",
       "      <td>X</td>\n",
       "    </tr>\n",
       "    <tr>\n",
       "      <th>3</th>\n",
       "      <td>106</td>\n",
       "      <td>Marble Hill-225 St</td>\n",
       "      <td>40.874561</td>\n",
       "      <td>-73.909831</td>\n",
       "      <td>32295.0</td>\n",
       "      <td>LOW</td>\n",
       "      <td>M</td>\n",
       "    </tr>\n",
       "    <tr>\n",
       "      <th>4</th>\n",
       "      <td>107</td>\n",
       "      <td>215 St</td>\n",
       "      <td>40.869444</td>\n",
       "      <td>-73.915279</td>\n",
       "      <td>70223.0</td>\n",
       "      <td>MED</td>\n",
       "      <td>M</td>\n",
       "    </tr>\n",
       "    <tr>\n",
       "      <th>...</th>\n",
       "      <td>...</td>\n",
       "      <td>...</td>\n",
       "      <td>...</td>\n",
       "      <td>...</td>\n",
       "      <td>...</td>\n",
       "      <td>...</td>\n",
       "      <td>...</td>\n",
       "    </tr>\n",
       "    <tr>\n",
       "      <th>491</th>\n",
       "      <td>S27</td>\n",
       "      <td>Grasmere</td>\n",
       "      <td>40.603117</td>\n",
       "      <td>-74.084087</td>\n",
       "      <td>81875.0</td>\n",
       "      <td>HIGH</td>\n",
       "      <td>R</td>\n",
       "    </tr>\n",
       "    <tr>\n",
       "      <th>492</th>\n",
       "      <td>S28</td>\n",
       "      <td>Clifton</td>\n",
       "      <td>40.621319</td>\n",
       "      <td>-74.071402</td>\n",
       "      <td>66563.0</td>\n",
       "      <td>MED</td>\n",
       "      <td>R</td>\n",
       "    </tr>\n",
       "    <tr>\n",
       "      <th>493</th>\n",
       "      <td>S29</td>\n",
       "      <td>Stapleton</td>\n",
       "      <td>40.627915</td>\n",
       "      <td>-74.075162</td>\n",
       "      <td>50489.0</td>\n",
       "      <td>MED</td>\n",
       "      <td>R</td>\n",
       "    </tr>\n",
       "    <tr>\n",
       "      <th>494</th>\n",
       "      <td>S30</td>\n",
       "      <td>Tompkinsville</td>\n",
       "      <td>40.636949</td>\n",
       "      <td>-74.074835</td>\n",
       "      <td>50489.0</td>\n",
       "      <td>MED</td>\n",
       "      <td>R</td>\n",
       "    </tr>\n",
       "    <tr>\n",
       "      <th>495</th>\n",
       "      <td>S31</td>\n",
       "      <td>St George</td>\n",
       "      <td>40.643748</td>\n",
       "      <td>-74.073643</td>\n",
       "      <td>86477.0</td>\n",
       "      <td>HIGH</td>\n",
       "      <td>R</td>\n",
       "    </tr>\n",
       "  </tbody>\n",
       "</table>\n",
       "<p>496 rows × 7 columns</p>\n",
       "</div>"
      ],
      "text/plain": [
       "    stop_id                  stop_name   stop_lat   stop_lon  hh_med_income  \\\n",
       "0       101  Van Cortlandt Park-242 St  40.889248 -73.898583        58467.0   \n",
       "1       103                     238 St  40.884667 -73.900870        26887.0   \n",
       "2       104                     231 St  40.878856 -73.904834        26887.0   \n",
       "3       106         Marble Hill-225 St  40.874561 -73.909831        32295.0   \n",
       "4       107                     215 St  40.869444 -73.915279        70223.0   \n",
       "..      ...                        ...        ...        ...            ...   \n",
       "491     S27                   Grasmere  40.603117 -74.084087        81875.0   \n",
       "492     S28                    Clifton  40.621319 -74.071402        66563.0   \n",
       "493     S29                  Stapleton  40.627915 -74.075162        50489.0   \n",
       "494     S30              Tompkinsville  40.636949 -74.074835        50489.0   \n",
       "495     S31                  St George  40.643748 -74.073643        86477.0   \n",
       "\n",
       "    income_bucket borough  \n",
       "0             MED       X  \n",
       "1             LOW       X  \n",
       "2             LOW       X  \n",
       "3             LOW       M  \n",
       "4             MED       M  \n",
       "..            ...     ...  \n",
       "491          HIGH       R  \n",
       "492           MED       R  \n",
       "493           MED       R  \n",
       "494           MED       R  \n",
       "495          HIGH       R  \n",
       "\n",
       "[496 rows x 7 columns]"
      ]
     },
     "execution_count": 88,
     "metadata": {},
     "output_type": "execute_result"
    }
   ],
   "source": [
    "# https://stackoverflow.com/questions/26886653/pandas-create-new-column-based-on-values-from-other-columns-apply-a-function-o\n",
    "\n",
    "res = nodes_used.apply(lambda row: getIncomeIncBucketBoroughInNycByRow(row), axis=1)\n",
    "res\n",
    "result = pd.DataFrame(res)\n",
    "result\n",
    "df=pd.DataFrame(res.tolist())\n",
    "df.columns=['hh_med_income', 'income_bucket', 'borough']\n",
    "df\n",
    "pd.concat([nodes_used, df], axis=1)\n"
   ]
  },
  {
   "cell_type": "code",
   "execution_count": 89,
   "id": "18dd3bfb-ee74-4476-a99d-6885494469fc",
   "metadata": {},
   "outputs": [
    {
     "data": {
      "text/html": [
       "<div>\n",
       "<style scoped>\n",
       "    .dataframe tbody tr th:only-of-type {\n",
       "        vertical-align: middle;\n",
       "    }\n",
       "\n",
       "    .dataframe tbody tr th {\n",
       "        vertical-align: top;\n",
       "    }\n",
       "\n",
       "    .dataframe thead th {\n",
       "        text-align: right;\n",
       "    }\n",
       "</style>\n",
       "<table border=\"1\" class=\"dataframe\">\n",
       "  <thead>\n",
       "    <tr style=\"text-align: right;\">\n",
       "      <th></th>\n",
       "      <th>stop_id</th>\n",
       "      <th>stop_name</th>\n",
       "      <th>stop_lat</th>\n",
       "      <th>stop_lon</th>\n",
       "      <th>hh_med_income</th>\n",
       "      <th>income_bucket</th>\n",
       "      <th>borough</th>\n",
       "    </tr>\n",
       "  </thead>\n",
       "  <tbody>\n",
       "    <tr>\n",
       "      <th>0</th>\n",
       "      <td>101</td>\n",
       "      <td>Van Cortlandt Park-242 St</td>\n",
       "      <td>40.889248</td>\n",
       "      <td>-73.898583</td>\n",
       "      <td>58467.0</td>\n",
       "      <td>MED</td>\n",
       "      <td>X</td>\n",
       "    </tr>\n",
       "    <tr>\n",
       "      <th>1</th>\n",
       "      <td>103</td>\n",
       "      <td>238 St</td>\n",
       "      <td>40.884667</td>\n",
       "      <td>-73.900870</td>\n",
       "      <td>26887.0</td>\n",
       "      <td>LOW</td>\n",
       "      <td>X</td>\n",
       "    </tr>\n",
       "    <tr>\n",
       "      <th>2</th>\n",
       "      <td>104</td>\n",
       "      <td>231 St</td>\n",
       "      <td>40.878856</td>\n",
       "      <td>-73.904834</td>\n",
       "      <td>26887.0</td>\n",
       "      <td>LOW</td>\n",
       "      <td>X</td>\n",
       "    </tr>\n",
       "    <tr>\n",
       "      <th>3</th>\n",
       "      <td>106</td>\n",
       "      <td>Marble Hill-225 St</td>\n",
       "      <td>40.874561</td>\n",
       "      <td>-73.909831</td>\n",
       "      <td>32295.0</td>\n",
       "      <td>LOW</td>\n",
       "      <td>M</td>\n",
       "    </tr>\n",
       "    <tr>\n",
       "      <th>4</th>\n",
       "      <td>107</td>\n",
       "      <td>215 St</td>\n",
       "      <td>40.869444</td>\n",
       "      <td>-73.915279</td>\n",
       "      <td>70223.0</td>\n",
       "      <td>MED</td>\n",
       "      <td>M</td>\n",
       "    </tr>\n",
       "    <tr>\n",
       "      <th>...</th>\n",
       "      <td>...</td>\n",
       "      <td>...</td>\n",
       "      <td>...</td>\n",
       "      <td>...</td>\n",
       "      <td>...</td>\n",
       "      <td>...</td>\n",
       "      <td>...</td>\n",
       "    </tr>\n",
       "    <tr>\n",
       "      <th>491</th>\n",
       "      <td>S27</td>\n",
       "      <td>Grasmere</td>\n",
       "      <td>40.603117</td>\n",
       "      <td>-74.084087</td>\n",
       "      <td>81875.0</td>\n",
       "      <td>HIGH</td>\n",
       "      <td>R</td>\n",
       "    </tr>\n",
       "    <tr>\n",
       "      <th>492</th>\n",
       "      <td>S28</td>\n",
       "      <td>Clifton</td>\n",
       "      <td>40.621319</td>\n",
       "      <td>-74.071402</td>\n",
       "      <td>66563.0</td>\n",
       "      <td>MED</td>\n",
       "      <td>R</td>\n",
       "    </tr>\n",
       "    <tr>\n",
       "      <th>493</th>\n",
       "      <td>S29</td>\n",
       "      <td>Stapleton</td>\n",
       "      <td>40.627915</td>\n",
       "      <td>-74.075162</td>\n",
       "      <td>50489.0</td>\n",
       "      <td>MED</td>\n",
       "      <td>R</td>\n",
       "    </tr>\n",
       "    <tr>\n",
       "      <th>494</th>\n",
       "      <td>S30</td>\n",
       "      <td>Tompkinsville</td>\n",
       "      <td>40.636949</td>\n",
       "      <td>-74.074835</td>\n",
       "      <td>50489.0</td>\n",
       "      <td>MED</td>\n",
       "      <td>R</td>\n",
       "    </tr>\n",
       "    <tr>\n",
       "      <th>495</th>\n",
       "      <td>S31</td>\n",
       "      <td>St George</td>\n",
       "      <td>40.643748</td>\n",
       "      <td>-74.073643</td>\n",
       "      <td>86477.0</td>\n",
       "      <td>HIGH</td>\n",
       "      <td>R</td>\n",
       "    </tr>\n",
       "  </tbody>\n",
       "</table>\n",
       "<p>496 rows × 7 columns</p>\n",
       "</div>"
      ],
      "text/plain": [
       "    stop_id                  stop_name   stop_lat   stop_lon  hh_med_income  \\\n",
       "0       101  Van Cortlandt Park-242 St  40.889248 -73.898583        58467.0   \n",
       "1       103                     238 St  40.884667 -73.900870        26887.0   \n",
       "2       104                     231 St  40.878856 -73.904834        26887.0   \n",
       "3       106         Marble Hill-225 St  40.874561 -73.909831        32295.0   \n",
       "4       107                     215 St  40.869444 -73.915279        70223.0   \n",
       "..      ...                        ...        ...        ...            ...   \n",
       "491     S27                   Grasmere  40.603117 -74.084087        81875.0   \n",
       "492     S28                    Clifton  40.621319 -74.071402        66563.0   \n",
       "493     S29                  Stapleton  40.627915 -74.075162        50489.0   \n",
       "494     S30              Tompkinsville  40.636949 -74.074835        50489.0   \n",
       "495     S31                  St George  40.643748 -74.073643        86477.0   \n",
       "\n",
       "    income_bucket borough  \n",
       "0             MED       X  \n",
       "1             LOW       X  \n",
       "2             LOW       X  \n",
       "3             LOW       M  \n",
       "4             MED       M  \n",
       "..            ...     ...  \n",
       "491          HIGH       R  \n",
       "492           MED       R  \n",
       "493           MED       R  \n",
       "494           MED       R  \n",
       "495          HIGH       R  \n",
       "\n",
       "[496 rows x 7 columns]"
      ]
     },
     "execution_count": 89,
     "metadata": {},
     "output_type": "execute_result"
    }
   ],
   "source": [
    "nodes_used_full_cols_df = pd.concat([nodes_used, df], axis=1)\n",
    "nodes_used_full_cols_df"
   ]
  },
  {
   "cell_type": "code",
   "execution_count": 1,
   "id": "f6ec0d9e-7e7e-4e72-9bf3-67c7bb214a28",
   "metadata": {},
   "outputs": [
    {
     "ename": "NameError",
     "evalue": "name 'nodes_used_full_cols_df' is not defined",
     "output_type": "error",
     "traceback": [
      "\u001b[0;31m---------------------------------------------------------------------------\u001b[0m",
      "\u001b[0;31mNameError\u001b[0m                                 Traceback (most recent call last)",
      "\u001b[0;32m/var/folders/jb/xqrs3wt565d091v0xn30zd700000gn/T/ipykernel_3809/233176663.py\u001b[0m in \u001b[0;36m<module>\u001b[0;34m\u001b[0m\n\u001b[0;32m----> 1\u001b[0;31m \u001b[0mno_income_df\u001b[0m \u001b[0;34m=\u001b[0m \u001b[0mnodes_used_full_cols_df\u001b[0m\u001b[0;34m[\u001b[0m\u001b[0mnodes_used_full_cols_df\u001b[0m\u001b[0;34m[\u001b[0m\u001b[0;34m'hh_med_income'\u001b[0m\u001b[0;34m]\u001b[0m \u001b[0;34m<\u001b[0m \u001b[0;36m0\u001b[0m\u001b[0;34m]\u001b[0m\u001b[0;34m\u001b[0m\u001b[0;34m\u001b[0m\u001b[0m\n\u001b[0m",
      "\u001b[0;31mNameError\u001b[0m: name 'nodes_used_full_cols_df' is not defined"
     ]
    }
   ],
   "source": [
    "no_income_df = nodes_used_full_cols_df[nodes_used_full_cols_df['hh_med_income'] < 0]"
   ]
  },
  {
   "cell_type": "code",
   "execution_count": 91,
   "id": "213d5b57-4753-4524-8682-04fd827e3fad",
   "metadata": {},
   "outputs": [
    {
     "data": {
      "text/html": [
       "<div>\n",
       "<style scoped>\n",
       "    .dataframe tbody tr th:only-of-type {\n",
       "        vertical-align: middle;\n",
       "    }\n",
       "\n",
       "    .dataframe tbody tr th {\n",
       "        vertical-align: top;\n",
       "    }\n",
       "\n",
       "    .dataframe thead th {\n",
       "        text-align: right;\n",
       "    }\n",
       "</style>\n",
       "<table border=\"1\" class=\"dataframe\">\n",
       "  <thead>\n",
       "    <tr style=\"text-align: right;\">\n",
       "      <th></th>\n",
       "      <th>stop_id</th>\n",
       "      <th>stop_name</th>\n",
       "      <th>stop_lat</th>\n",
       "      <th>stop_lon</th>\n",
       "      <th>hh_med_income</th>\n",
       "      <th>income_bucket</th>\n",
       "      <th>borough</th>\n",
       "    </tr>\n",
       "  </thead>\n",
       "  <tbody>\n",
       "    <tr>\n",
       "      <th>72</th>\n",
       "      <td>238</td>\n",
       "      <td>Eastern Pkwy-Brooklyn Museum</td>\n",
       "      <td>40.671987</td>\n",
       "      <td>-73.964375</td>\n",
       "      <td>-1.0</td>\n",
       "      <td>NA</td>\n",
       "      <td>K</td>\n",
       "    </tr>\n",
       "    <tr>\n",
       "      <th>155</th>\n",
       "      <td>702</td>\n",
       "      <td>Mets-Willets Point</td>\n",
       "      <td>40.754622</td>\n",
       "      <td>-73.845625</td>\n",
       "      <td>-1.0</td>\n",
       "      <td>NA</td>\n",
       "      <td>Q</td>\n",
       "    </tr>\n",
       "    <tr>\n",
       "      <th>187</th>\n",
       "      <td>A14</td>\n",
       "      <td>135 St</td>\n",
       "      <td>40.817894</td>\n",
       "      <td>-73.947649</td>\n",
       "      <td>-1.0</td>\n",
       "      <td>NA</td>\n",
       "      <td>M</td>\n",
       "    </tr>\n",
       "    <tr>\n",
       "      <th>192</th>\n",
       "      <td>A19</td>\n",
       "      <td>96 St</td>\n",
       "      <td>40.791642</td>\n",
       "      <td>-73.964696</td>\n",
       "      <td>-1.0</td>\n",
       "      <td>NA</td>\n",
       "      <td>M</td>\n",
       "    </tr>\n",
       "    <tr>\n",
       "      <th>193</th>\n",
       "      <td>A20</td>\n",
       "      <td>86 St</td>\n",
       "      <td>40.785868</td>\n",
       "      <td>-73.968916</td>\n",
       "      <td>-1.0</td>\n",
       "      <td>NA</td>\n",
       "      <td>M</td>\n",
       "    </tr>\n",
       "    <tr>\n",
       "      <th>194</th>\n",
       "      <td>A21</td>\n",
       "      <td>81 St-Museum of Natural History</td>\n",
       "      <td>40.781433</td>\n",
       "      <td>-73.972143</td>\n",
       "      <td>-1.0</td>\n",
       "      <td>NA</td>\n",
       "      <td>M</td>\n",
       "    </tr>\n",
       "    <tr>\n",
       "      <th>195</th>\n",
       "      <td>A22</td>\n",
       "      <td>72 St</td>\n",
       "      <td>40.775594</td>\n",
       "      <td>-73.976410</td>\n",
       "      <td>-1.0</td>\n",
       "      <td>NA</td>\n",
       "      <td>M</td>\n",
       "    </tr>\n",
       "    <tr>\n",
       "      <th>292</th>\n",
       "      <td>F06</td>\n",
       "      <td>Kew Gardens-Union Tpke</td>\n",
       "      <td>40.714441</td>\n",
       "      <td>-73.831008</td>\n",
       "      <td>-1.0</td>\n",
       "      <td>NA</td>\n",
       "      <td>Q</td>\n",
       "    </tr>\n",
       "    <tr>\n",
       "      <th>296</th>\n",
       "      <td>F12</td>\n",
       "      <td>5 Av/53 St</td>\n",
       "      <td>40.760167</td>\n",
       "      <td>-73.975224</td>\n",
       "      <td>-1.0</td>\n",
       "      <td>NA</td>\n",
       "      <td>M</td>\n",
       "    </tr>\n",
       "    <tr>\n",
       "      <th>312</th>\n",
       "      <td>F32</td>\n",
       "      <td>Bay Pkwy</td>\n",
       "      <td>40.620769</td>\n",
       "      <td>-73.975264</td>\n",
       "      <td>-1.0</td>\n",
       "      <td>NA</td>\n",
       "      <td>K</td>\n",
       "    </tr>\n",
       "    <tr>\n",
       "      <th>319</th>\n",
       "      <td>G05</td>\n",
       "      <td>Jamaica Center-Parsons/Archer</td>\n",
       "      <td>40.702147</td>\n",
       "      <td>-73.801109</td>\n",
       "      <td>-1.0</td>\n",
       "      <td>NA</td>\n",
       "      <td>Q</td>\n",
       "    </tr>\n",
       "    <tr>\n",
       "      <th>333</th>\n",
       "      <td>G20</td>\n",
       "      <td>36 St</td>\n",
       "      <td>40.752039</td>\n",
       "      <td>-73.928781</td>\n",
       "      <td>-1.0</td>\n",
       "      <td>NA</td>\n",
       "      <td>Q</td>\n",
       "    </tr>\n",
       "    <tr>\n",
       "      <th>395</th>\n",
       "      <td>L22</td>\n",
       "      <td>Broadway Junction</td>\n",
       "      <td>40.678856</td>\n",
       "      <td>-73.903240</td>\n",
       "      <td>-1.0</td>\n",
       "      <td>NA</td>\n",
       "      <td>K</td>\n",
       "    </tr>\n",
       "    <tr>\n",
       "      <th>441</th>\n",
       "      <td>R13</td>\n",
       "      <td>5 Av/59 St</td>\n",
       "      <td>40.764811</td>\n",
       "      <td>-73.973347</td>\n",
       "      <td>-1.0</td>\n",
       "      <td>NA</td>\n",
       "      <td>M</td>\n",
       "    </tr>\n",
       "  </tbody>\n",
       "</table>\n",
       "</div>"
      ],
      "text/plain": [
       "    stop_id                        stop_name   stop_lat   stop_lon  \\\n",
       "72      238     Eastern Pkwy-Brooklyn Museum  40.671987 -73.964375   \n",
       "155     702               Mets-Willets Point  40.754622 -73.845625   \n",
       "187     A14                           135 St  40.817894 -73.947649   \n",
       "192     A19                            96 St  40.791642 -73.964696   \n",
       "193     A20                            86 St  40.785868 -73.968916   \n",
       "194     A21  81 St-Museum of Natural History  40.781433 -73.972143   \n",
       "195     A22                            72 St  40.775594 -73.976410   \n",
       "292     F06           Kew Gardens-Union Tpke  40.714441 -73.831008   \n",
       "296     F12                       5 Av/53 St  40.760167 -73.975224   \n",
       "312     F32                         Bay Pkwy  40.620769 -73.975264   \n",
       "319     G05    Jamaica Center-Parsons/Archer  40.702147 -73.801109   \n",
       "333     G20                            36 St  40.752039 -73.928781   \n",
       "395     L22                Broadway Junction  40.678856 -73.903240   \n",
       "441     R13                       5 Av/59 St  40.764811 -73.973347   \n",
       "\n",
       "     hh_med_income income_bucket borough  \n",
       "72            -1.0            NA       K  \n",
       "155           -1.0            NA       Q  \n",
       "187           -1.0            NA       M  \n",
       "192           -1.0            NA       M  \n",
       "193           -1.0            NA       M  \n",
       "194           -1.0            NA       M  \n",
       "195           -1.0            NA       M  \n",
       "292           -1.0            NA       Q  \n",
       "296           -1.0            NA       M  \n",
       "312           -1.0            NA       K  \n",
       "319           -1.0            NA       Q  \n",
       "333           -1.0            NA       Q  \n",
       "395           -1.0            NA       K  \n",
       "441           -1.0            NA       M  "
      ]
     },
     "execution_count": 91,
     "metadata": {},
     "output_type": "execute_result"
    }
   ],
   "source": [
    "no_income_df"
   ]
  },
  {
   "cell_type": "code",
   "execution_count": null,
   "id": "c8fa6dd3-1386-4965-89ee-97982db6cb0f",
   "metadata": {},
   "outputs": [],
   "source": []
  },
  {
   "cell_type": "code",
   "execution_count": null,
   "id": "494a6998-d176-4646-888a-342a948e086d",
   "metadata": {},
   "outputs": [],
   "source": []
  },
  {
   "cell_type": "code",
   "execution_count": null,
   "id": "a6b6ab02-f4cc-4954-9ee7-bb172f7a6ef9",
   "metadata": {},
   "outputs": [],
   "source": []
  },
  {
   "cell_type": "code",
   "execution_count": null,
   "id": "7c485841-9a3d-4026-aea1-ba8f4ebfb4dd",
   "metadata": {},
   "outputs": [],
   "source": []
  },
  {
   "cell_type": "code",
   "execution_count": 70,
   "id": "9aed11f6-795e-44da-9b49-29a46ba3faed",
   "metadata": {},
   "outputs": [
    {
     "data": {
      "text/html": [
       "<div>\n",
       "<style scoped>\n",
       "    .dataframe tbody tr th:only-of-type {\n",
       "        vertical-align: middle;\n",
       "    }\n",
       "\n",
       "    .dataframe tbody tr th {\n",
       "        vertical-align: top;\n",
       "    }\n",
       "\n",
       "    .dataframe thead th {\n",
       "        text-align: right;\n",
       "    }\n",
       "</style>\n",
       "<table border=\"1\" class=\"dataframe\">\n",
       "  <thead>\n",
       "    <tr style=\"text-align: right;\">\n",
       "      <th></th>\n",
       "      <th>parent_station</th>\n",
       "      <th>prior_station</th>\n",
       "      <th>route_id</th>\n",
       "      <th>parent_a</th>\n",
       "      <th>parent_b</th>\n",
       "    </tr>\n",
       "  </thead>\n",
       "  <tbody>\n",
       "    <tr>\n",
       "      <th>109323</th>\n",
       "      <td>234</td>\n",
       "      <td>423</td>\n",
       "      <td>4</td>\n",
       "      <td>234</td>\n",
       "      <td>423</td>\n",
       "    </tr>\n",
       "    <tr>\n",
       "      <th>109324</th>\n",
       "      <td>235</td>\n",
       "      <td>234</td>\n",
       "      <td>4</td>\n",
       "      <td>234</td>\n",
       "      <td>235</td>\n",
       "    </tr>\n",
       "    <tr>\n",
       "      <th>109325</th>\n",
       "      <td>236</td>\n",
       "      <td>235</td>\n",
       "      <td>4</td>\n",
       "      <td>235</td>\n",
       "      <td>236</td>\n",
       "    </tr>\n",
       "    <tr>\n",
       "      <th>109326</th>\n",
       "      <td>237</td>\n",
       "      <td>236</td>\n",
       "      <td>4</td>\n",
       "      <td>236</td>\n",
       "      <td>237</td>\n",
       "    </tr>\n",
       "    <tr>\n",
       "      <th>109327</th>\n",
       "      <td>238</td>\n",
       "      <td>237</td>\n",
       "      <td>4</td>\n",
       "      <td>237</td>\n",
       "      <td>238</td>\n",
       "    </tr>\n",
       "    <tr>\n",
       "      <th>...</th>\n",
       "      <td>...</td>\n",
       "      <td>...</td>\n",
       "      <td>...</td>\n",
       "      <td>...</td>\n",
       "      <td>...</td>\n",
       "    </tr>\n",
       "    <tr>\n",
       "      <th>164839</th>\n",
       "      <td>407</td>\n",
       "      <td>408</td>\n",
       "      <td>4</td>\n",
       "      <td>407</td>\n",
       "      <td>408</td>\n",
       "    </tr>\n",
       "    <tr>\n",
       "      <th>164840</th>\n",
       "      <td>406</td>\n",
       "      <td>407</td>\n",
       "      <td>4</td>\n",
       "      <td>406</td>\n",
       "      <td>407</td>\n",
       "    </tr>\n",
       "    <tr>\n",
       "      <th>164841</th>\n",
       "      <td>405</td>\n",
       "      <td>406</td>\n",
       "      <td>4</td>\n",
       "      <td>405</td>\n",
       "      <td>406</td>\n",
       "    </tr>\n",
       "    <tr>\n",
       "      <th>164842</th>\n",
       "      <td>402</td>\n",
       "      <td>405</td>\n",
       "      <td>4</td>\n",
       "      <td>402</td>\n",
       "      <td>405</td>\n",
       "    </tr>\n",
       "    <tr>\n",
       "      <th>164843</th>\n",
       "      <td>401</td>\n",
       "      <td>402</td>\n",
       "      <td>4</td>\n",
       "      <td>401</td>\n",
       "      <td>402</td>\n",
       "    </tr>\n",
       "  </tbody>\n",
       "</table>\n",
       "<p>27666 rows × 5 columns</p>\n",
       "</div>"
      ],
      "text/plain": [
       "       parent_station prior_station route_id parent_a parent_b\n",
       "109323            234           423        4      234      423\n",
       "109324            235           234        4      234      235\n",
       "109325            236           235        4      235      236\n",
       "109326            237           236        4      236      237\n",
       "109327            238           237        4      237      238\n",
       "...               ...           ...      ...      ...      ...\n",
       "164839            407           408        4      407      408\n",
       "164840            406           407        4      406      407\n",
       "164841            405           406        4      405      406\n",
       "164842            402           405        4      402      405\n",
       "164843            401           402        4      401      402\n",
       "\n",
       "[27666 rows x 5 columns]"
      ]
     },
     "execution_count": 70,
     "metadata": {},
     "output_type": "execute_result"
    }
   ],
   "source": [
    "rt1 = sel_res_edges[sel_res_edges['route_id'] == '4']\n",
    "rt1"
   ]
  },
  {
   "cell_type": "code",
   "execution_count": null,
   "id": "f44c81c5-8154-49d3-8b91-cf75f2b983ce",
   "metadata": {},
   "outputs": [],
   "source": []
  },
  {
   "cell_type": "code",
   "execution_count": null,
   "id": "57999fa0-c946-4e9f-b562-e5b825060a76",
   "metadata": {},
   "outputs": [],
   "source": []
  },
  {
   "cell_type": "code",
   "execution_count": null,
   "id": "1e7a9761-aada-4c96-aee6-08d4b16880f6",
   "metadata": {},
   "outputs": [],
   "source": []
  },
  {
   "cell_type": "code",
   "execution_count": null,
   "id": "79bf7c8f-c035-4bc8-87e4-18b6a4ed500a",
   "metadata": {},
   "outputs": [],
   "source": []
  },
  {
   "cell_type": "code",
   "execution_count": null,
   "id": "4c13f74e-2de3-435c-af01-569942c2cd57",
   "metadata": {},
   "outputs": [],
   "source": []
  },
  {
   "cell_type": "code",
   "execution_count": 71,
   "id": "46408922-8b60-439f-9410-a4da75d6bcfb",
   "metadata": {},
   "outputs": [
    {
     "name": "stdout",
     "output_type": "stream",
     "text": [
      "Name:  Census Tract 285, Bronx, NY\n",
      "HH Income:  58467.0\n",
      "Name:  New York, NY\n",
      "HH Income:  63998.0\n"
     ]
    }
   ],
   "source": [
    "# Scratch work\n",
    "#0\t101\tVan Cortlandt Park-242 St\t40.889248\t-73.898583\n",
    "#1\t103\t238 St\t40.884667\t-73.900870\n",
    "#2\t104\t231 St\t40.878856\t-73.904834\n",
    "\n",
    "point = Point(-73.898583, 40.889248)\n",
    "\n",
    "for feature in nyc_tract_data['features']:\n",
    "\n",
    "    polygon = shape(feature['geometry'])\n",
    "\n",
    "    if polygon.contains(point):\n",
    "        #print ('Found containing polygon:', feature)\n",
    "        print ('Name: ', feature['properties']['name'])\n",
    "        print ('HH Income: ', feature['properties']['B19013001'])"
   ]
  }
 ],
 "metadata": {
  "kernelspec": {
   "display_name": "Python 3 (ipykernel)",
   "language": "python",
   "name": "python3"
  },
  "language_info": {
   "codemirror_mode": {
    "name": "ipython",
    "version": 3
   },
   "file_extension": ".py",
   "mimetype": "text/x-python",
   "name": "python",
   "nbconvert_exporter": "python",
   "pygments_lexer": "ipython3",
   "version": "3.7.11"
  }
 },
 "nbformat": 4,
 "nbformat_minor": 5
}

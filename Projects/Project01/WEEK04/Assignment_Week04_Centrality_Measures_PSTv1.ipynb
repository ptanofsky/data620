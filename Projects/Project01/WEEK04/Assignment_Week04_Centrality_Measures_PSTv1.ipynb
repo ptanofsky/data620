{
 "cells": [
  {
   "cell_type": "markdown",
   "id": "4d5be87b-1e17-4eb7-8520-eae437e604bb",
   "metadata": {},
   "source": [
    "# Centrality Measures - New York Subway System\n",
    "\n",
    "Data 620 Week 4 \n",
    "\n",
    "*February 27, 2022*\n",
    "\n",
    "*By Alexander Ng and Philip Tanofsky*\n",
    "\n"
   ]
  },
  {
   "cell_type": "markdown",
   "id": "dbba1d98-15dc-49d4-a652-d978b2ba0dac",
   "metadata": {},
   "source": [
    "## 1. Introduction\n",
    "\n",
    "The New York City Subway is the most extensive rapid transit system in the world with 472 stations.  It delivered 1.72 billion rides a year in 2017 and is the busiest system in the Western world.\n",
    "[List of metro systems](https://en.wikipedia.org/wiki/List_of_metro_systems).   The system runs through all five boroughs: Brooklyn, Bronx, Manhattan, Queens and Staten Island and runs 24/7 except during emergencies. [New York City Subway](https://en.wikipedia.org/wiki/New_York_City_Subway)\n"
   ]
  },
  {
   "cell_type": "markdown",
   "id": "2bcd5a5e-ce3e-4ffb-a5be-eb95adf75012",
   "metadata": {},
   "source": [
    "<img src=\"https://upload.wikimedia.org/wikipedia/commons/2/23/Official_New_York_City_Subway_Map_2013_vc.jpg\" />"
   ]
  },
  {
   "cell_type": "markdown",
   "id": "31168ed8-32e2-4913-a62c-ab0384377a73",
   "metadata": {},
   "source": [
    "In this study, we will examine two questions related to subway network centrality.\n",
    "\n",
    "In Part 4, we consider how network centrality affected station level ridership declines between 2018 before the Covid-pandemic to 2020 when Covid reduced ridership to historic lows.  Using the borough of each station as a categorical attribute, do we see variations in ridership declines that could be explain by remoteness?  For example, do the outer borough declines occur less because of fewer transportation options in outer Queens or Brooklyn compared to Manhattan?   Alexander Ng is the primary author of this section.\n",
    "\n",
    "In Part 5, we explore how the subway network relates to the city's wealth distribution.   For example, how does subway network centrality measures compare to the household median income near each station?   By bucketing household median income into local quartiles, we construct low, moderate, high, very high income categories. Philip Tanofsky is the primary author of this section.\n",
    "\n",
    "\n",
    "In this proposal, we outline the data sources and methods of analysis to be done in the following week's implementation"
   ]
  },
  {
   "cell_type": "markdown",
   "id": "874ebf94-409d-44fd-9d6b-1548c76b7adf",
   "metadata": {},
   "source": [
    "## 2. Data Sources\n",
    "\n",
    "### Subway Graph\n",
    "\n",
    "The latest available dataset to represent the NYC subway network is provided by the Metropolitan Transit Authority (MTA) in its developer website at (http://web.mta.info/developers/developer-data-terms.html#data) in  General Transit Feed Specification (GTFS), also known as GTFS static or static transit form.  GTFS datasets are publicly available online.   The GTFS dataset is comprised of multiple plain text files.   We will infer the desired network graph by joining these files to obtain the nodes and the edges.\n",
    "\n",
    "\n"
   ]
  },
  {
   "cell_type": "markdown",
   "id": "d042e3a3-af43-4f1b-acb9-44e47746b443",
   "metadata": {},
   "source": [
    "### Census Data\n",
    "\n",
    "Household Median Income is available from [censusreporter.org](www.censusreporter.org) from the US Census Bureau's American Community Survey (ACS) with 2015-2019 median income inflation adjusted to 2019 dollars.   We obtain the household median income (field B19013) as the census tract level.   For each subway station, we assign the median household income of the census tract containing the station based on the geocoded location provided by the GTFS dataset.\n",
    "\n",
    "A single datafile in `geojson` format for the entire NYC metropolitan area encompasses all subway stations.  The map partitions the city at census tract level and provides the household median income.\n"
   ]
  },
  {
   "cell_type": "markdown",
   "id": "263b1363-eedc-41b3-b404-7efec4c1e2fc",
   "metadata": {},
   "source": [
    "### Ridership Data\n",
    "\n",
    "The latest available subway ridership data from MTA is available at [Subway and bus ridership for 2020](https://new.mta.info/agency/new-york-city-transit/subway-bus-ridership-2020).\n",
    "The datafile used is in Excel and lists ridership by aggregated station (https://new.mta.info/sites/default/files/inline-files/2020%20Subway%20Tables_ul.xlsx).   As the MTA points out, many stations are linked by transfer tunnels.   For example, the 14th Street A, C, E station is combined with the 8th Avenue L station since the rider can walk between the stations after crossing the turnstile at any one station.\n",
    "These subtleties also affect our definition of the nodes.  "
   ]
  },
  {
   "cell_type": "markdown",
   "id": "971efefe-1749-4da3-997f-553b1a517a97",
   "metadata": {},
   "source": [
    "## 3.  Methodology\n",
    "\n",
    "We describe the construction of the subway network in this section as there are some complexities arising from the GTFS format.\n",
    "\n",
    "*  Stations are defined as `parent` and `child`.   For example, Times Square - 42 Street station is listed at `127`, `127N` and `127S`.\n",
    "The identifier suffixes `N` and `S` identify the direction of the station (uptown or downtown).   We are only interested in the parent station `127` in this case.   However, the routes (and hence edges of the graph) are provided in terms of the child nodes `127N` or `127S`.\n",
    "\n",
    "*  Edges are not defined between Stations directly but through a hierarchy of ancillary objects:\n",
    "    +  `Routes` defines the train line.  For example, the `1` line is the Broadway - 7th Avenue Local with `route_id` 1.\n",
    "    +  `Service` defines a category of scheduled stops along the route associated with a direction.  For example, `service_id` AFA21GEN-1037-Sunday-00.\n",
    "    +  `Trip` defines an instance of `Service` with a stated start time say 6:00am.  For example, the `trip_id` is AFA21GEN-1037-Sunday-00_000600_1..S03R\n",
    "    +  `StopTimes` define the specific child station node to be reached at a target arrival time by a `Trip`.  For example, AFA21GEN-1037-Sunday-00_000600_1..S03R begins at `101S` then goes to `103S`, `104S`.  This station ids correspond to Van Cortlandt Park - 242 Street, 238 Street and 231 Street respectively.\n",
    "\n",
    "We think of an edge as defined by the pair of consecutive stations along a trip.\n",
    "Thus, we see that edges are defined multiple times in the GTFS specification.   We define the set of edges to be the union of all edges for all Trips and treat multiple definitions of each edge as redundant.\n",
    "\n",
    "*  Transfers.   When two stations are linked by a transfer tunnel such as stations `L01` (8th Avenue L Train station) and `A31` (A, C, E 14 Street Station),  we define them to be equivalent for the Covid ridership study because ridership is combined for stations which allow transfers.   However, stations linked by transfer remain distinct from the median household income study because they may belong to different census tracts and have different household median incomes.   To study Covid-impacted ridership, we have a total of 424 stations (after combining transfers).   To study median household income, we have 472 stations according to the MTA ridership webpage.\n"
   ]
  },
  {
   "cell_type": "markdown",
   "id": "ae88451c-5b23-48f9-ac03-1dc0152bccdf",
   "metadata": {},
   "source": [
    "## 4.  Covid-19 Impact on Ridership\n",
    "\n",
    "Using the geolocation of each station to obtain its borough as the categorical variable, we then consider the relative and absolute decline in ridership between 2018 and 2020 at each node.   Lastly, we consider the network centrality of each node looking at its eigenvector centrality.\n",
    "\n",
    "We can also consider each station's distance to a single node as a centrality measure.  For example, using the Grand Central Terminal station as a central node, we can evaluate the graph theoretic distance from this station and compare that to the ridership declines.\n",
    "\n",
    "\n"
   ]
  },
  {
   "cell_type": "markdown",
   "id": "c6f7178c-70d1-447b-ba3a-76eb92262afb",
   "metadata": {},
   "source": [
    "## 5. Income Bracket Vs. Network Centrality\n",
    "\n",
    "Certainly, the geographic location of a station would have played a key role in past decisions to determine subway line routes and station locations, but this evaluation will focus on the median income of those living near a given subway stop in order to ascertain a better understanding of wealth distribution across New York City in relationship to not only access to the subway system but also ease of access across the subway system. \n",
    "\n",
    "We will analyze the network centrality of the New York City Subway system by categorizing each station based on the median household income of the station's surrounding area as defined below.\n",
    "\n",
    "Income brackets based on New York, New Jersey, Pennsylvania household income quartiles in 2021:\n",
    "* **Low:** less than or equal to \\\\$36,000\n",
    "* **Medium:** Between \\\\$36,001 and \\$78,000\n",
    "* **High:** Between \\\\$78,001 and \\$150,000\n",
    "* **Very high:** greater than \\\\$150,000  \n",
    "Source: https://dqydj.com/income-by-city/\n",
    "\n",
    "The network centrality metrics for the analysis will be degree centrality and eigenvector centrality.\n",
    "* Degree centrality for a vertex $v$ is defined as $C_{D}(v)=\\deg(v)$ for a given graph $G:=(V,E)$ with $|V|$ vertices and $|E|$ edges according to Wikipedia. (https://en.wikipedia.org/wiki/Centrality#Degree_centrality)\n",
    "* Eigenvector centrality relies on a recursive approach that recomputes the scores of each node as a weighted sum of centralities of all nodes in a node’s neighborhood based on $v_i = \\sum_{j\\epsilon N} x_{i,j}*v_j$ before then normalizing the value of $v$ when $v$ stops changing, according to the textbook *Social Network Analysis for Startups*.\n",
    "\n",
    "A hypothetical outcome of the evaluation could reveal subway stations with a higher degree centrality may likely be categorized with a low or medium median income whereas a station with a lower degree centrality may have a higher median income. Another possible outcome could be areas with higher median incomes surround subway stations with higher eigenvector centrality, implying the station doesn't have a high degree centrality but the station is close to other stations with higher degree centrality.\n",
    "\n",
    "Another evaluation to consider regarding wealth distruction and network centrality is the pattern observed across the boroughs. The relationship between degree centrality and average income may be different across the five boroughs and thus not consistent across the entirety of New York City.  "
   ]
  },
  {
   "cell_type": "code",
   "execution_count": null,
   "id": "fc8e7e86-bf5e-42f7-ba0c-650a2205a747",
   "metadata": {},
   "outputs": [],
   "source": []
  }
 ],
 "metadata": {
  "kernelspec": {
   "display_name": "Python 3 (ipykernel)",
   "language": "python",
   "name": "python3"
  },
  "language_info": {
   "codemirror_mode": {
    "name": "ipython",
    "version": 3
   },
   "file_extension": ".py",
   "mimetype": "text/x-python",
   "name": "python",
   "nbconvert_exporter": "python",
   "pygments_lexer": "ipython3",
   "version": "3.9.7"
  }
 },
 "nbformat": 4,
 "nbformat_minor": 5
}

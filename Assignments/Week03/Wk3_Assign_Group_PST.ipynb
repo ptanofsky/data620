{
 "cells": [
  {
   "cell_type": "markdown",
   "id": "b697366c-7282-4cc7-9b79-7606369344a1",
   "metadata": {},
   "source": [
    "# Week 3 Assignment\n",
    "## Authors: Alexander Ng & Philip Tanofsky\n",
    "### Course: CUNY DATA620 Web Analytics (Spring 2022)\n",
    "### Due Date: February 20, 2022"
   ]
  },
  {
   "cell_type": "code",
   "execution_count": 15,
   "id": "1b568b83-e8fe-4c24-93d0-239448da78ba",
   "metadata": {},
   "outputs": [],
   "source": [
    "# Import required libraries\n",
    "import networkx as nx\n",
    "import matplotlib.pyplot as plot\n",
    "import numpy as np\n",
    "import pandas as pd"
   ]
  },
  {
   "cell_type": "code",
   "execution_count": 13,
   "id": "53a17463-ea9e-4780-b4ea-33fe1ebb7463",
   "metadata": {},
   "outputs": [
    {
     "data": {
      "text/plain": [
       "array([[  1.,   1.],\n",
       "       [  1.,   2.],\n",
       "       [  1.,   3.],\n",
       "       ...,\n",
       "       [827., 265.],\n",
       "       [828., 298.],\n",
       "       [829., 271.]])"
      ]
     },
     "execution_count": 13,
     "metadata": {},
     "output_type": "execute_result"
    }
   ],
   "source": [
    "# Read in adjacency matrix in moreno_crime/out.moreno_crime_crime using Numpy\n",
    "crime_array = np.loadtxt(\"moreno_crime/out.moreno_crime_crime\", comments='%')\n",
    "crime_array"
   ]
  },
  {
   "cell_type": "code",
   "execution_count": 26,
   "id": "f1e3609d-e339-4f9e-bdac-5c9dff380f37",
   "metadata": {},
   "outputs": [
    {
     "data": {
      "text/html": [
       "<div>\n",
       "<style scoped>\n",
       "    .dataframe tbody tr th:only-of-type {\n",
       "        vertical-align: middle;\n",
       "    }\n",
       "\n",
       "    .dataframe tbody tr th {\n",
       "        vertical-align: top;\n",
       "    }\n",
       "\n",
       "    .dataframe thead th {\n",
       "        text-align: right;\n",
       "    }\n",
       "</style>\n",
       "<table border=\"1\" class=\"dataframe\">\n",
       "  <thead>\n",
       "    <tr style=\"text-align: right;\">\n",
       "      <th></th>\n",
       "      <th>0</th>\n",
       "      <th>1</th>\n",
       "    </tr>\n",
       "  </thead>\n",
       "  <tbody>\n",
       "    <tr>\n",
       "      <th>0</th>\n",
       "      <td>1</td>\n",
       "      <td>2,001</td>\n",
       "    </tr>\n",
       "    <tr>\n",
       "      <th>1</th>\n",
       "      <td>1</td>\n",
       "      <td>2,002</td>\n",
       "    </tr>\n",
       "    <tr>\n",
       "      <th>2</th>\n",
       "      <td>1</td>\n",
       "      <td>2,003</td>\n",
       "    </tr>\n",
       "    <tr>\n",
       "      <th>3</th>\n",
       "      <td>1</td>\n",
       "      <td>2,004</td>\n",
       "    </tr>\n",
       "    <tr>\n",
       "      <th>4</th>\n",
       "      <td>2</td>\n",
       "      <td>2,005</td>\n",
       "    </tr>\n",
       "    <tr>\n",
       "      <th>...</th>\n",
       "      <td>...</td>\n",
       "      <td>...</td>\n",
       "    </tr>\n",
       "    <tr>\n",
       "      <th>1471</th>\n",
       "      <td>825</td>\n",
       "      <td>2,399</td>\n",
       "    </tr>\n",
       "    <tr>\n",
       "      <th>1472</th>\n",
       "      <td>826</td>\n",
       "      <td>2,300</td>\n",
       "    </tr>\n",
       "    <tr>\n",
       "      <th>1473</th>\n",
       "      <td>827</td>\n",
       "      <td>2,265</td>\n",
       "    </tr>\n",
       "    <tr>\n",
       "      <th>1474</th>\n",
       "      <td>828</td>\n",
       "      <td>2,298</td>\n",
       "    </tr>\n",
       "    <tr>\n",
       "      <th>1475</th>\n",
       "      <td>829</td>\n",
       "      <td>2,271</td>\n",
       "    </tr>\n",
       "  </tbody>\n",
       "</table>\n",
       "<p>1476 rows × 2 columns</p>\n",
       "</div>"
      ],
      "text/plain": [
       "       0     1\n",
       "0      1 2,001\n",
       "1      1 2,002\n",
       "2      1 2,003\n",
       "3      1 2,004\n",
       "4      2 2,005\n",
       "...   ..   ...\n",
       "1471 825 2,399\n",
       "1472 826 2,300\n",
       "1473 827 2,265\n",
       "1474 828 2,298\n",
       "1475 829 2,271\n",
       "\n",
       "[1476 rows x 2 columns]"
      ]
     },
     "execution_count": 26,
     "metadata": {},
     "output_type": "execute_result"
    }
   ],
   "source": [
    "# Convert numpy array to Pandas DF\n",
    "pd.options.display.float_format = '{:,.0f}'.format\n",
    "crime_df = pd.DataFrame(crime_array)\n",
    "# Adding 1000 to each value in column index 1 to ensure the crime identifiers are separate than person identifiers\n",
    "crime_df[1] = crime_df[1] + 1000\n",
    "crime_df"
   ]
  },
  {
   "cell_type": "code",
   "execution_count": 33,
   "id": "105bbfd1-fee3-405d-ade7-912b51254828",
   "metadata": {},
   "outputs": [
    {
     "data": {
      "text/plain": [
       "<networkx.classes.graph.Graph at 0x7fa8de94be10>"
      ]
     },
     "execution_count": 33,
     "metadata": {},
     "output_type": "execute_result"
    }
   ],
   "source": [
    "# Convert Pandas DF to NetworkX graph\n",
    "# https://networkx.org/documentation/networkx-1.11/reference/generated/networkx.convert_matrix.from_pandas_dataframe.html?highlight=pandas#networkx.convert_matrix.from_pandas_dataframe\n",
    "crime_g = nx.from_pandas_dataframe(crime_df, 0, 1)\n",
    "crime_g.name = \"Crime graph from pandas adjacency matrix\"\n",
    "crime_g"
   ]
  },
  {
   "cell_type": "code",
   "execution_count": 28,
   "id": "66d6a314-46f3-4a63-8319-c923447fae70",
   "metadata": {},
   "outputs": [
    {
     "data": {
      "text/plain": [
       "1380"
      ]
     },
     "execution_count": 28,
     "metadata": {},
     "output_type": "execute_result"
    }
   ],
   "source": [
    "crime_g.number_of_nodes()"
   ]
  },
  {
   "cell_type": "code",
   "execution_count": 29,
   "id": "ea72c482-536b-4fd0-8afb-5a7729eea533",
   "metadata": {},
   "outputs": [
    {
     "data": {
      "text/plain": [
       "1476"
      ]
     },
     "execution_count": 29,
     "metadata": {},
     "output_type": "execute_result"
    }
   ],
   "source": [
    "crime_g.number_of_edges()"
   ]
  },
  {
   "cell_type": "code",
   "execution_count": 32,
   "id": "d9be360d-602e-45e3-9371-fc8b3d8e93b3",
   "metadata": {},
   "outputs": [
    {
     "ename": "NetworkXError",
     "evalue": "Graph not connected: infinite path length",
     "output_type": "error",
     "traceback": [
      "\u001b[0;31m---------------------------------------------------------------------------\u001b[0m",
      "\u001b[0;31mNetworkXError\u001b[0m                             Traceback (most recent call last)",
      "\u001b[0;32m/var/folders/jb/xqrs3wt565d091v0xn30zd700000gn/T/ipykernel_19886/1230451657.py\u001b[0m in \u001b[0;36m<module>\u001b[0;34m\u001b[0m\n\u001b[0;32m----> 1\u001b[0;31m \u001b[0mnx\u001b[0m\u001b[0;34m.\u001b[0m\u001b[0mdiameter\u001b[0m\u001b[0;34m(\u001b[0m\u001b[0mcrime_g\u001b[0m\u001b[0;34m)\u001b[0m\u001b[0;34m\u001b[0m\u001b[0;34m\u001b[0m\u001b[0m\n\u001b[0m",
      "\u001b[0;32m/opt/anaconda3/envs/sps620env/lib/python3.7/site-packages/networkx/algorithms/distance_measures.py\u001b[0m in \u001b[0;36mdiameter\u001b[0;34m(G, e)\u001b[0m\n\u001b[1;32m     94\u001b[0m     \"\"\"\n\u001b[1;32m     95\u001b[0m     \u001b[0;32mif\u001b[0m \u001b[0me\u001b[0m \u001b[0;32mis\u001b[0m \u001b[0;32mNone\u001b[0m\u001b[0;34m:\u001b[0m\u001b[0;34m\u001b[0m\u001b[0;34m\u001b[0m\u001b[0m\n\u001b[0;32m---> 96\u001b[0;31m         \u001b[0me\u001b[0m\u001b[0;34m=\u001b[0m\u001b[0meccentricity\u001b[0m\u001b[0;34m(\u001b[0m\u001b[0mG\u001b[0m\u001b[0;34m)\u001b[0m\u001b[0;34m\u001b[0m\u001b[0;34m\u001b[0m\u001b[0m\n\u001b[0m\u001b[1;32m     97\u001b[0m     \u001b[0;32mreturn\u001b[0m \u001b[0mmax\u001b[0m\u001b[0;34m(\u001b[0m\u001b[0me\u001b[0m\u001b[0;34m.\u001b[0m\u001b[0mvalues\u001b[0m\u001b[0;34m(\u001b[0m\u001b[0;34m)\u001b[0m\u001b[0;34m)\u001b[0m\u001b[0;34m\u001b[0m\u001b[0;34m\u001b[0m\u001b[0m\n\u001b[1;32m     98\u001b[0m \u001b[0;34m\u001b[0m\u001b[0m\n",
      "\u001b[0;32m/opt/anaconda3/envs/sps620env/lib/python3.7/site-packages/networkx/algorithms/distance_measures.py\u001b[0m in \u001b[0;36meccentricity\u001b[0;34m(G, v, sp)\u001b[0m\n\u001b[1;32m     61\u001b[0m         \u001b[0;32mif\u001b[0m \u001b[0mL\u001b[0m \u001b[0;34m!=\u001b[0m \u001b[0morder\u001b[0m\u001b[0;34m:\u001b[0m\u001b[0;34m\u001b[0m\u001b[0;34m\u001b[0m\u001b[0m\n\u001b[1;32m     62\u001b[0m             \u001b[0mmsg\u001b[0m \u001b[0;34m=\u001b[0m \u001b[0;34m\"Graph not connected: infinite path length\"\u001b[0m\u001b[0;34m\u001b[0m\u001b[0;34m\u001b[0m\u001b[0m\n\u001b[0;32m---> 63\u001b[0;31m             \u001b[0;32mraise\u001b[0m \u001b[0mnetworkx\u001b[0m\u001b[0;34m.\u001b[0m\u001b[0mNetworkXError\u001b[0m\u001b[0;34m(\u001b[0m\u001b[0mmsg\u001b[0m\u001b[0;34m)\u001b[0m\u001b[0;34m\u001b[0m\u001b[0;34m\u001b[0m\u001b[0m\n\u001b[0m\u001b[1;32m     64\u001b[0m \u001b[0;34m\u001b[0m\u001b[0m\n\u001b[1;32m     65\u001b[0m         \u001b[0me\u001b[0m\u001b[0;34m[\u001b[0m\u001b[0mn\u001b[0m\u001b[0;34m]\u001b[0m\u001b[0;34m=\u001b[0m\u001b[0mmax\u001b[0m\u001b[0;34m(\u001b[0m\u001b[0mlength\u001b[0m\u001b[0;34m.\u001b[0m\u001b[0mvalues\u001b[0m\u001b[0;34m(\u001b[0m\u001b[0;34m)\u001b[0m\u001b[0;34m)\u001b[0m\u001b[0;34m\u001b[0m\u001b[0;34m\u001b[0m\u001b[0m\n",
      "\u001b[0;31mNetworkXError\u001b[0m: Graph not connected: infinite path length"
     ]
    }
   ],
   "source": [
    "nx.diameter(crime_g)"
   ]
  },
  {
   "cell_type": "code",
   "execution_count": 34,
   "id": "3b95d869-c3df-4aab-8f10-312a503f9173",
   "metadata": {},
   "outputs": [
    {
     "data": {
      "text/plain": [
       "False"
      ]
     },
     "execution_count": 34,
     "metadata": {},
     "output_type": "execute_result"
    }
   ],
   "source": [
    "# Confirm graph is not connected with built-in Networkx function\n",
    "nx.is_connected(crime_g)"
   ]
  },
  {
   "cell_type": "code",
   "execution_count": 35,
   "id": "2fc03d87-6df5-46c0-bed3-f09a2d0d06d1",
   "metadata": {},
   "outputs": [],
   "source": [
    "# Retrieve the connected subgraphs\n",
    "crime_sub_g = list(nx.connected_component_subgraphs(crime_g))"
   ]
  },
  {
   "cell_type": "code",
   "execution_count": 40,
   "id": "6111903f-028d-414e-9756-361d595d22bd",
   "metadata": {},
   "outputs": [
    {
     "data": {
      "text/plain": [
       "20"
      ]
     },
     "execution_count": 40,
     "metadata": {},
     "output_type": "execute_result"
    }
   ],
   "source": [
    "# Number of connected/independent subgraphs\n",
    "len(crime_sub_g)"
   ]
  },
  {
   "cell_type": "code",
   "execution_count": 45,
   "id": "fbfa4f44-f0b8-4b74-a020-7d35a17b6c03",
   "metadata": {},
   "outputs": [
    {
     "data": {
      "text/plain": [
       "0"
      ]
     },
     "execution_count": 45,
     "metadata": {},
     "output_type": "execute_result"
    }
   ],
   "source": [
    "# find the connected subgraph with the most nodes --> index 0\n",
    "idx_max = 0\n",
    "count = 0\n",
    "for g in crime_sub_g:\n",
    "    nodes_max = 0\n",
    "    if g.number_of_nodes() > nodes_max:\n",
    "        nodes_max = g.number_of_nodes()\n",
    "        idx_max = count \n",
    "idx_max"
   ]
  },
  {
   "cell_type": "code",
   "execution_count": 46,
   "id": "15027b53-890c-4332-a1f7-024e45894edc",
   "metadata": {},
   "outputs": [
    {
     "data": {
      "text/plain": [
       "1263"
      ]
     },
     "execution_count": 46,
     "metadata": {},
     "output_type": "execute_result"
    }
   ],
   "source": [
    "crime_sub_g[0].number_of_nodes()"
   ]
  },
  {
   "cell_type": "code",
   "execution_count": 47,
   "id": "915a8d24-274f-426d-b1d7-28fee92c24aa",
   "metadata": {},
   "outputs": [
    {
     "data": {
      "text/plain": [
       "1377"
      ]
     },
     "execution_count": 47,
     "metadata": {},
     "output_type": "execute_result"
    }
   ],
   "source": [
    "crime_sub_g[0].number_of_edges()"
   ]
  },
  {
   "cell_type": "code",
   "execution_count": 49,
   "id": "aa98a344-17de-403a-b5c7-ba79ce596524",
   "metadata": {},
   "outputs": [
    {
     "data": {
      "text/plain": [
       "32"
      ]
     },
     "execution_count": 49,
     "metadata": {},
     "output_type": "execute_result"
    }
   ],
   "source": [
    "nx.diameter(crime_sub_g[0])"
   ]
  },
  {
   "cell_type": "code",
   "execution_count": 50,
   "id": "2a2d1e24-345d-4a0f-b33d-4fbfa75a7a1c",
   "metadata": {},
   "outputs": [
    {
     "data": {
      "text/plain": [
       "12.956106570901923"
      ]
     },
     "execution_count": 50,
     "metadata": {},
     "output_type": "execute_result"
    }
   ],
   "source": [
    "nx.average_shortest_path_length(crime_sub_g[0])"
   ]
  },
  {
   "cell_type": "code",
   "execution_count": 52,
   "id": "e3abd169-faa9-4a36-a254-f62b00597463",
   "metadata": {},
   "outputs": [
    {
     "data": {
      "text/plain": [
       "'Name: Crime graph from pandas adjacency matrix\\nType: Graph\\nNumber of nodes: 1380\\nNumber of edges: 1476\\nAverage degree:   2.1391'"
      ]
     },
     "execution_count": 52,
     "metadata": {},
     "output_type": "execute_result"
    }
   ],
   "source": [
    "nx.info(crime_g)"
   ]
  },
  {
   "cell_type": "code",
   "execution_count": 54,
   "id": "3bbce5a2-966c-4294-94b7-387c906b6f17",
   "metadata": {},
   "outputs": [
    {
     "data": {
      "text/plain": [
       "0.0015512185894000063"
      ]
     },
     "execution_count": 54,
     "metadata": {},
     "output_type": "execute_result"
    }
   ],
   "source": [
    "nx.density(crime_g)"
   ]
  },
  {
   "cell_type": "code",
   "execution_count": 66,
   "id": "c53af51b-1dc9-4820-8eea-6f7de9f2ea27",
   "metadata": {},
   "outputs": [],
   "source": [
    "neighbors = nx.all_neighbors(crime_g, 2)"
   ]
  },
  {
   "cell_type": "code",
   "execution_count": 67,
   "id": "7f158236-25c0-4238-b284-8fd5a5d64d0d",
   "metadata": {},
   "outputs": [
    {
     "name": "stdout",
     "output_type": "stream",
     "text": [
      "2005.0\n",
      "2006.0\n",
      "2007.0\n",
      "2008.0\n",
      "2009.0\n",
      "2010.0\n",
      "2011.0\n",
      "2012.0\n",
      "2013.0\n",
      "2014.0\n",
      "2015.0\n",
      "2016.0\n",
      "2017.0\n",
      "2018.0\n",
      "2019.0\n",
      "2020.0\n",
      "2021.0\n",
      "2022.0\n",
      "2023.0\n",
      "2024.0\n",
      "2025.0\n",
      "2026.0\n"
     ]
    }
   ],
   "source": [
    "for n in neighbors:\n",
    "  print(n)"
   ]
  },
  {
   "cell_type": "code",
   "execution_count": null,
   "id": "7add61b0-4a06-43cc-8a08-2c96a02fc183",
   "metadata": {},
   "outputs": [],
   "source": []
  },
  {
   "cell_type": "code",
   "execution_count": null,
   "id": "21a47aa8-5c36-496f-a49e-7486ce8c606b",
   "metadata": {},
   "outputs": [],
   "source": []
  }
 ],
 "metadata": {
  "kernelspec": {
   "display_name": "Python 3 (ipykernel)",
   "language": "python",
   "name": "python3"
  },
  "language_info": {
   "codemirror_mode": {
    "name": "ipython",
    "version": 3
   },
   "file_extension": ".py",
   "mimetype": "text/x-python",
   "name": "python",
   "nbconvert_exporter": "python",
   "pygments_lexer": "ipython3",
   "version": "3.7.11"
  }
 },
 "nbformat": 4,
 "nbformat_minor": 5
}

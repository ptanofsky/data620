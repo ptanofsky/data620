{
 "cells": [
  {
   "cell_type": "markdown",
   "id": "b697366c-7282-4cc7-9b79-7606369344a1",
   "metadata": {},
   "source": [
    "# Week 3 Assignment\n",
    "## Authors: Alexander Ng & Philip Tanofsky\n",
    "### Course: CUNY DATA620 Web Analytics (Spring 2022)\n",
    "### Due Date: February 20, 2022"
   ]
  },
  {
   "cell_type": "code",
   "execution_count": 32,
   "id": "1b568b83-e8fe-4c24-93d0-239448da78ba",
   "metadata": {},
   "outputs": [],
   "source": [
    "# Import required libraries\n",
    "import networkx as nx\n",
    "import matplotlib.pyplot as plot\n",
    "import numpy as np\n",
    "import pandas as pd"
   ]
  },
  {
   "cell_type": "code",
   "execution_count": 50,
   "id": "67e69a5c-36c5-4438-a819-77845fd8f218",
   "metadata": {},
   "outputs": [
    {
     "data": {
      "text/html": [
       "<div>\n",
       "<style scoped>\n",
       "    .dataframe tbody tr th:only-of-type {\n",
       "        vertical-align: middle;\n",
       "    }\n",
       "\n",
       "    .dataframe tbody tr th {\n",
       "        vertical-align: top;\n",
       "    }\n",
       "\n",
       "    .dataframe thead th {\n",
       "        text-align: right;\n",
       "    }\n",
       "</style>\n",
       "<table border=\"1\" class=\"dataframe\">\n",
       "  <thead>\n",
       "    <tr style=\"text-align: right;\">\n",
       "      <th></th>\n",
       "      <th>Person</th>\n",
       "      <th>Crime</th>\n",
       "    </tr>\n",
       "  </thead>\n",
       "  <tbody>\n",
       "    <tr>\n",
       "      <th>0</th>\n",
       "      <td>1P</td>\n",
       "      <td>1C</td>\n",
       "    </tr>\n",
       "    <tr>\n",
       "      <th>1</th>\n",
       "      <td>1P</td>\n",
       "      <td>2C</td>\n",
       "    </tr>\n",
       "    <tr>\n",
       "      <th>2</th>\n",
       "      <td>1P</td>\n",
       "      <td>3C</td>\n",
       "    </tr>\n",
       "    <tr>\n",
       "      <th>3</th>\n",
       "      <td>1P</td>\n",
       "      <td>4C</td>\n",
       "    </tr>\n",
       "    <tr>\n",
       "      <th>4</th>\n",
       "      <td>2P</td>\n",
       "      <td>5C</td>\n",
       "    </tr>\n",
       "    <tr>\n",
       "      <th>...</th>\n",
       "      <td>...</td>\n",
       "      <td>...</td>\n",
       "    </tr>\n",
       "    <tr>\n",
       "      <th>1471</th>\n",
       "      <td>825P</td>\n",
       "      <td>399C</td>\n",
       "    </tr>\n",
       "    <tr>\n",
       "      <th>1472</th>\n",
       "      <td>826P</td>\n",
       "      <td>300C</td>\n",
       "    </tr>\n",
       "    <tr>\n",
       "      <th>1473</th>\n",
       "      <td>827P</td>\n",
       "      <td>265C</td>\n",
       "    </tr>\n",
       "    <tr>\n",
       "      <th>1474</th>\n",
       "      <td>828P</td>\n",
       "      <td>298C</td>\n",
       "    </tr>\n",
       "    <tr>\n",
       "      <th>1475</th>\n",
       "      <td>829P</td>\n",
       "      <td>271C</td>\n",
       "    </tr>\n",
       "  </tbody>\n",
       "</table>\n",
       "<p>1476 rows × 2 columns</p>\n",
       "</div>"
      ],
      "text/plain": [
       "     Person Crime\n",
       "0        1P    1C\n",
       "1        1P    2C\n",
       "2        1P    3C\n",
       "3        1P    4C\n",
       "4        2P    5C\n",
       "...     ...   ...\n",
       "1471   825P  399C\n",
       "1472   826P  300C\n",
       "1473   827P  265C\n",
       "1474   828P  298C\n",
       "1475   829P  271C\n",
       "\n",
       "[1476 rows x 2 columns]"
      ]
     },
     "execution_count": 50,
     "metadata": {},
     "output_type": "execute_result"
    }
   ],
   "source": [
    "crime_data = pd.read_csv(\"moreno_crime/out.moreno_crime_crime\", sep=\" \", dtype=str, skiprows=range(1, 2))\n",
    "#crime_data\n",
    "crime_data = crime_data.drop(['unweighted'], axis=1)\n",
    "crime_data = crime_data.rename(columns={\"%\": \"Person\", \"bip\": \"Crime\"})\n",
    "crime_data['Person'] = crime_data['Person'] + 'P'\n",
    "crime_data['Crime']  = crime_data['Crime']  + 'C'\n",
    "crime_data"
   ]
  },
  {
   "cell_type": "code",
   "execution_count": 59,
   "id": "475a45bc-b75a-4493-95ea-f7c48446bf09",
   "metadata": {},
   "outputs": [
    {
     "data": {
      "text/html": [
       "<div>\n",
       "<style scoped>\n",
       "    .dataframe tbody tr th:only-of-type {\n",
       "        vertical-align: middle;\n",
       "    }\n",
       "\n",
       "    .dataframe tbody tr th {\n",
       "        vertical-align: top;\n",
       "    }\n",
       "\n",
       "    .dataframe thead th {\n",
       "        text-align: right;\n",
       "    }\n",
       "</style>\n",
       "<table border=\"1\" class=\"dataframe\">\n",
       "  <thead>\n",
       "    <tr style=\"text-align: right;\">\n",
       "      <th></th>\n",
       "      <th>Person</th>\n",
       "      <th>Crime</th>\n",
       "      <th>Role</th>\n",
       "    </tr>\n",
       "  </thead>\n",
       "  <tbody>\n",
       "    <tr>\n",
       "      <th>0</th>\n",
       "      <td>1P</td>\n",
       "      <td>1C</td>\n",
       "      <td>Suspect</td>\n",
       "    </tr>\n",
       "    <tr>\n",
       "      <th>1</th>\n",
       "      <td>1P</td>\n",
       "      <td>2C</td>\n",
       "      <td>Victim</td>\n",
       "    </tr>\n",
       "    <tr>\n",
       "      <th>2</th>\n",
       "      <td>1P</td>\n",
       "      <td>3C</td>\n",
       "      <td>Victim</td>\n",
       "    </tr>\n",
       "    <tr>\n",
       "      <th>3</th>\n",
       "      <td>1P</td>\n",
       "      <td>4C</td>\n",
       "      <td>Suspect</td>\n",
       "    </tr>\n",
       "    <tr>\n",
       "      <th>4</th>\n",
       "      <td>2P</td>\n",
       "      <td>5C</td>\n",
       "      <td>Victim</td>\n",
       "    </tr>\n",
       "    <tr>\n",
       "      <th>...</th>\n",
       "      <td>...</td>\n",
       "      <td>...</td>\n",
       "      <td>...</td>\n",
       "    </tr>\n",
       "    <tr>\n",
       "      <th>1471</th>\n",
       "      <td>825P</td>\n",
       "      <td>399C</td>\n",
       "      <td>Suspect</td>\n",
       "    </tr>\n",
       "    <tr>\n",
       "      <th>1472</th>\n",
       "      <td>826P</td>\n",
       "      <td>300C</td>\n",
       "      <td>Suspect</td>\n",
       "    </tr>\n",
       "    <tr>\n",
       "      <th>1473</th>\n",
       "      <td>827P</td>\n",
       "      <td>265C</td>\n",
       "      <td>Suspect</td>\n",
       "    </tr>\n",
       "    <tr>\n",
       "      <th>1474</th>\n",
       "      <td>828P</td>\n",
       "      <td>298C</td>\n",
       "      <td>Victim</td>\n",
       "    </tr>\n",
       "    <tr>\n",
       "      <th>1475</th>\n",
       "      <td>829P</td>\n",
       "      <td>271C</td>\n",
       "      <td>Witness</td>\n",
       "    </tr>\n",
       "  </tbody>\n",
       "</table>\n",
       "<p>1476 rows × 3 columns</p>\n",
       "</div>"
      ],
      "text/plain": [
       "     Person Crime     Role\n",
       "0        1P    1C  Suspect\n",
       "1        1P    2C   Victim\n",
       "2        1P    3C   Victim\n",
       "3        1P    4C  Suspect\n",
       "4        2P    5C   Victim\n",
       "...     ...   ...      ...\n",
       "1471   825P  399C  Suspect\n",
       "1472   826P  300C  Suspect\n",
       "1473   827P  265C  Suspect\n",
       "1474   828P  298C   Victim\n",
       "1475   829P  271C  Witness\n",
       "\n",
       "[1476 rows x 3 columns]"
      ]
     },
     "execution_count": 59,
     "metadata": {},
     "output_type": "execute_result"
    }
   ],
   "source": [
    "edge_data = pd.read_csv(\"moreno_crime/rel.moreno_crime_crime.person.role\", dtype=str, header=None)\n",
    "df = crime_data.join(edge_data)\n",
    "df.columns=['Person', 'Crime', 'Role']\n",
    "df"
   ]
  },
  {
   "cell_type": "markdown",
   "id": "da1dacad-fab0-4a05-b489-11f77c1d7324",
   "metadata": {},
   "source": [
    "## Data\n",
    "Read in the data from the text file using Numpy. Archive of data retrieved from: http://konect.cc/networks/moreno_crime/.\n",
    "- Define data as string, as the nodes are people or crimes.\n",
    "- Ignore comments which start with '%'\n",
    "- Ouput array to confirm"
   ]
  },
  {
   "cell_type": "code",
   "execution_count": 4,
   "id": "53a17463-ea9e-4780-b4ea-33fe1ebb7463",
   "metadata": {},
   "outputs": [
    {
     "data": {
      "text/plain": [
       "array([['1', '1'],\n",
       "       ['1', '2'],\n",
       "       ['1', '3'],\n",
       "       ...,\n",
       "       ['827', '265'],\n",
       "       ['828', '298'],\n",
       "       ['829', '271']], dtype='<U3')"
      ]
     },
     "execution_count": 4,
     "metadata": {},
     "output_type": "execute_result"
    }
   ],
   "source": [
    "# Read in adjacency matrix in moreno_crime/out.moreno_crime_crime using Numpy\n",
    "crime_array = np.loadtxt(\"moreno_crime/out.moreno_crime_crime\", dtype=str, comments='%')\n",
    "crime_array"
   ]
  },
  {
   "cell_type": "markdown",
   "id": "fbf75119-13ff-40cc-a2fc-656218a4a745",
   "metadata": {},
   "source": [
    "Convert the Numpy array to a Pandas dataframe for easier loading to Networkx graph.\n",
    "\n",
    "Column 0 represents the people, so add the character 'P' to each value in the column to distinguish each person node as such. Column 1 represents the crimes, to add the character 'C' to each value in the column to distinguish each crime node as such. This additional identifier was needed as the first row connects 1 to 1, but the Networkx graph didn't recognize 1 person to 1 crime, thus added the alpha identifier."
   ]
  },
  {
   "cell_type": "code",
   "execution_count": 5,
   "id": "f1e3609d-e339-4f9e-bdac-5c9dff380f37",
   "metadata": {},
   "outputs": [
    {
     "data": {
      "text/html": [
       "<div>\n",
       "<style scoped>\n",
       "    .dataframe tbody tr th:only-of-type {\n",
       "        vertical-align: middle;\n",
       "    }\n",
       "\n",
       "    .dataframe tbody tr th {\n",
       "        vertical-align: top;\n",
       "    }\n",
       "\n",
       "    .dataframe thead th {\n",
       "        text-align: right;\n",
       "    }\n",
       "</style>\n",
       "<table border=\"1\" class=\"dataframe\">\n",
       "  <thead>\n",
       "    <tr style=\"text-align: right;\">\n",
       "      <th></th>\n",
       "      <th>0</th>\n",
       "      <th>1</th>\n",
       "    </tr>\n",
       "  </thead>\n",
       "  <tbody>\n",
       "    <tr>\n",
       "      <th>0</th>\n",
       "      <td>1P</td>\n",
       "      <td>1C</td>\n",
       "    </tr>\n",
       "    <tr>\n",
       "      <th>1</th>\n",
       "      <td>1P</td>\n",
       "      <td>2C</td>\n",
       "    </tr>\n",
       "    <tr>\n",
       "      <th>2</th>\n",
       "      <td>1P</td>\n",
       "      <td>3C</td>\n",
       "    </tr>\n",
       "    <tr>\n",
       "      <th>3</th>\n",
       "      <td>1P</td>\n",
       "      <td>4C</td>\n",
       "    </tr>\n",
       "    <tr>\n",
       "      <th>4</th>\n",
       "      <td>2P</td>\n",
       "      <td>5C</td>\n",
       "    </tr>\n",
       "    <tr>\n",
       "      <th>...</th>\n",
       "      <td>...</td>\n",
       "      <td>...</td>\n",
       "    </tr>\n",
       "    <tr>\n",
       "      <th>1471</th>\n",
       "      <td>825P</td>\n",
       "      <td>399C</td>\n",
       "    </tr>\n",
       "    <tr>\n",
       "      <th>1472</th>\n",
       "      <td>826P</td>\n",
       "      <td>300C</td>\n",
       "    </tr>\n",
       "    <tr>\n",
       "      <th>1473</th>\n",
       "      <td>827P</td>\n",
       "      <td>265C</td>\n",
       "    </tr>\n",
       "    <tr>\n",
       "      <th>1474</th>\n",
       "      <td>828P</td>\n",
       "      <td>298C</td>\n",
       "    </tr>\n",
       "    <tr>\n",
       "      <th>1475</th>\n",
       "      <td>829P</td>\n",
       "      <td>271C</td>\n",
       "    </tr>\n",
       "  </tbody>\n",
       "</table>\n",
       "<p>1476 rows × 2 columns</p>\n",
       "</div>"
      ],
      "text/plain": [
       "         0     1\n",
       "0       1P    1C\n",
       "1       1P    2C\n",
       "2       1P    3C\n",
       "3       1P    4C\n",
       "4       2P    5C\n",
       "...    ...   ...\n",
       "1471  825P  399C\n",
       "1472  826P  300C\n",
       "1473  827P  265C\n",
       "1474  828P  298C\n",
       "1475  829P  271C\n",
       "\n",
       "[1476 rows x 2 columns]"
      ]
     },
     "execution_count": 5,
     "metadata": {},
     "output_type": "execute_result"
    }
   ],
   "source": [
    "# Convert numpy array to Pandas DF\n",
    "#pd.options.display.float_format = '{:,.0f}'.format\n",
    "crime_df = pd.DataFrame(crime_array)\n",
    "crime_df[0] = crime_df[0] + 'P'\n",
    "crime_df[1] = crime_df[1] + 'C'\n",
    "crime_df"
   ]
  },
  {
   "cell_type": "markdown",
   "id": "b0fe0d80-a6b4-4068-9b7a-0477f3751b3b",
   "metadata": {},
   "source": [
    "Generate the Networkx graph object from the Pandas dataframe"
   ]
  },
  {
   "cell_type": "code",
   "execution_count": 6,
   "id": "105bbfd1-fee3-405d-ade7-912b51254828",
   "metadata": {},
   "outputs": [
    {
     "data": {
      "text/plain": [
       "<networkx.classes.graph.Graph at 0x7fef1a5799d0>"
      ]
     },
     "execution_count": 6,
     "metadata": {},
     "output_type": "execute_result"
    }
   ],
   "source": [
    "# Convert Pandas DF to NetworkX graph\n",
    "# https://networkx.org/documentation/networkx-1.11/reference/generated/networkx.convert_matrix.from_pandas_dataframe.html?highlight=pandas#networkx.convert_matrix.from_pandas_dataframe\n",
    "crime_g = nx.from_pandas_dataframe(crime_df, 0, 1)\n",
    "crime_g.name = \"Crime graph from pandas adjacency matrix\"\n",
    "crime_g"
   ]
  },
  {
   "cell_type": "markdown",
   "id": "24fa7d9b-cd54-4803-bf95-f385f123ad32",
   "metadata": {},
   "source": [
    "Output the total number of nodes in the graph, people and crimes."
   ]
  },
  {
   "cell_type": "code",
   "execution_count": 7,
   "id": "66d6a314-46f3-4a63-8319-c923447fae70",
   "metadata": {},
   "outputs": [
    {
     "data": {
      "text/plain": [
       "1380"
      ]
     },
     "execution_count": 7,
     "metadata": {},
     "output_type": "execute_result"
    }
   ],
   "source": [
    "crime_g.number_of_nodes()"
   ]
  },
  {
   "cell_type": "markdown",
   "id": "d1a23694-9518-4e60-b73c-e55423a8e7df",
   "metadata": {},
   "source": [
    "Output the total number of edges in the graph, edges only connect a person to a crime."
   ]
  },
  {
   "cell_type": "code",
   "execution_count": 8,
   "id": "ea72c482-536b-4fd0-8afb-5a7729eea533",
   "metadata": {},
   "outputs": [
    {
     "data": {
      "text/plain": [
       "1476"
      ]
     },
     "execution_count": 8,
     "metadata": {},
     "output_type": "execute_result"
    }
   ],
   "source": [
    "crime_g.number_of_edges()"
   ]
  },
  {
   "cell_type": "markdown",
   "id": "5530c6f7-3e9a-4c4f-b0dd-2f65a7f65469",
   "metadata": {},
   "source": [
    "Diameter of the full graph does not exist as the full graph is not fully connected."
   ]
  },
  {
   "cell_type": "code",
   "execution_count": 9,
   "id": "d9be360d-602e-45e3-9371-fc8b3d8e93b3",
   "metadata": {},
   "outputs": [
    {
     "ename": "NetworkXError",
     "evalue": "Graph not connected: infinite path length",
     "output_type": "error",
     "traceback": [
      "\u001b[0;31m---------------------------------------------------------------------------\u001b[0m",
      "\u001b[0;31mNetworkXError\u001b[0m                             Traceback (most recent call last)",
      "\u001b[0;32m/var/folders/jb/xqrs3wt565d091v0xn30zd700000gn/T/ipykernel_777/1230451657.py\u001b[0m in \u001b[0;36m<module>\u001b[0;34m\u001b[0m\n\u001b[0;32m----> 1\u001b[0;31m \u001b[0mnx\u001b[0m\u001b[0;34m.\u001b[0m\u001b[0mdiameter\u001b[0m\u001b[0;34m(\u001b[0m\u001b[0mcrime_g\u001b[0m\u001b[0;34m)\u001b[0m\u001b[0;34m\u001b[0m\u001b[0;34m\u001b[0m\u001b[0m\n\u001b[0m",
      "\u001b[0;32m/opt/anaconda3/envs/sps620env/lib/python3.7/site-packages/networkx/algorithms/distance_measures.py\u001b[0m in \u001b[0;36mdiameter\u001b[0;34m(G, e)\u001b[0m\n\u001b[1;32m     94\u001b[0m     \"\"\"\n\u001b[1;32m     95\u001b[0m     \u001b[0;32mif\u001b[0m \u001b[0me\u001b[0m \u001b[0;32mis\u001b[0m \u001b[0;32mNone\u001b[0m\u001b[0;34m:\u001b[0m\u001b[0;34m\u001b[0m\u001b[0;34m\u001b[0m\u001b[0m\n\u001b[0;32m---> 96\u001b[0;31m         \u001b[0me\u001b[0m\u001b[0;34m=\u001b[0m\u001b[0meccentricity\u001b[0m\u001b[0;34m(\u001b[0m\u001b[0mG\u001b[0m\u001b[0;34m)\u001b[0m\u001b[0;34m\u001b[0m\u001b[0;34m\u001b[0m\u001b[0m\n\u001b[0m\u001b[1;32m     97\u001b[0m     \u001b[0;32mreturn\u001b[0m \u001b[0mmax\u001b[0m\u001b[0;34m(\u001b[0m\u001b[0me\u001b[0m\u001b[0;34m.\u001b[0m\u001b[0mvalues\u001b[0m\u001b[0;34m(\u001b[0m\u001b[0;34m)\u001b[0m\u001b[0;34m)\u001b[0m\u001b[0;34m\u001b[0m\u001b[0;34m\u001b[0m\u001b[0m\n\u001b[1;32m     98\u001b[0m \u001b[0;34m\u001b[0m\u001b[0m\n",
      "\u001b[0;32m/opt/anaconda3/envs/sps620env/lib/python3.7/site-packages/networkx/algorithms/distance_measures.py\u001b[0m in \u001b[0;36meccentricity\u001b[0;34m(G, v, sp)\u001b[0m\n\u001b[1;32m     61\u001b[0m         \u001b[0;32mif\u001b[0m \u001b[0mL\u001b[0m \u001b[0;34m!=\u001b[0m \u001b[0morder\u001b[0m\u001b[0;34m:\u001b[0m\u001b[0;34m\u001b[0m\u001b[0;34m\u001b[0m\u001b[0m\n\u001b[1;32m     62\u001b[0m             \u001b[0mmsg\u001b[0m \u001b[0;34m=\u001b[0m \u001b[0;34m\"Graph not connected: infinite path length\"\u001b[0m\u001b[0;34m\u001b[0m\u001b[0;34m\u001b[0m\u001b[0m\n\u001b[0;32m---> 63\u001b[0;31m             \u001b[0;32mraise\u001b[0m \u001b[0mnetworkx\u001b[0m\u001b[0;34m.\u001b[0m\u001b[0mNetworkXError\u001b[0m\u001b[0;34m(\u001b[0m\u001b[0mmsg\u001b[0m\u001b[0;34m)\u001b[0m\u001b[0;34m\u001b[0m\u001b[0;34m\u001b[0m\u001b[0m\n\u001b[0m\u001b[1;32m     64\u001b[0m \u001b[0;34m\u001b[0m\u001b[0m\n\u001b[1;32m     65\u001b[0m         \u001b[0me\u001b[0m\u001b[0;34m[\u001b[0m\u001b[0mn\u001b[0m\u001b[0;34m]\u001b[0m\u001b[0;34m=\u001b[0m\u001b[0mmax\u001b[0m\u001b[0;34m(\u001b[0m\u001b[0mlength\u001b[0m\u001b[0;34m.\u001b[0m\u001b[0mvalues\u001b[0m\u001b[0;34m(\u001b[0m\u001b[0;34m)\u001b[0m\u001b[0;34m)\u001b[0m\u001b[0;34m\u001b[0m\u001b[0;34m\u001b[0m\u001b[0m\n",
      "\u001b[0;31mNetworkXError\u001b[0m: Graph not connected: infinite path length"
     ]
    }
   ],
   "source": [
    "nx.diameter(crime_g)"
   ]
  },
  {
   "cell_type": "markdown",
   "id": "97fbe26a-3fdf-4ae5-a6ac-d295eae327b9",
   "metadata": {},
   "source": [
    "Confirmation the graph is not fully connected with function is_connected(). Result is False."
   ]
  },
  {
   "cell_type": "code",
   "execution_count": 10,
   "id": "3b95d869-c3df-4aab-8f10-312a503f9173",
   "metadata": {},
   "outputs": [
    {
     "data": {
      "text/plain": [
       "False"
      ]
     },
     "execution_count": 10,
     "metadata": {},
     "output_type": "execute_result"
    }
   ],
   "source": [
    "# Confirm graph is not connected with built-in Networkx function\n",
    "nx.is_connected(crime_g)"
   ]
  },
  {
   "cell_type": "markdown",
   "id": "c8042d20-fb42-4fe2-9eca-b3ad9703bb76",
   "metadata": {},
   "source": [
    "Retrieve the component subgraphs of the initial graph object."
   ]
  },
  {
   "cell_type": "code",
   "execution_count": 11,
   "id": "2fc03d87-6df5-46c0-bed3-f09a2d0d06d1",
   "metadata": {},
   "outputs": [],
   "source": [
    "# Retrieve the connected subgraphs\n",
    "crime_sub_g = list(nx.connected_component_subgraphs(crime_g))"
   ]
  },
  {
   "cell_type": "markdown",
   "id": "be310b43-4279-48e6-94e4-9dc34924ce57",
   "metadata": {},
   "source": [
    "Output total number of subgraphs."
   ]
  },
  {
   "cell_type": "code",
   "execution_count": 12,
   "id": "6111903f-028d-414e-9756-361d595d22bd",
   "metadata": {},
   "outputs": [
    {
     "data": {
      "text/plain": [
       "20"
      ]
     },
     "execution_count": 12,
     "metadata": {},
     "output_type": "execute_result"
    }
   ],
   "source": [
    "# Number of connected/independent subgraphs\n",
    "len(crime_sub_g)"
   ]
  },
  {
   "cell_type": "markdown",
   "id": "b0495664-d762-4e39-ad8d-8d8567dc0c7f",
   "metadata": {},
   "source": [
    "Find the subgraph with the highest number of nodes. Simple for loop comparing the subgraphs by number of nodes. Result shows the subgraph at index 0 is the largest by node count."
   ]
  },
  {
   "cell_type": "code",
   "execution_count": 13,
   "id": "fbfa4f44-f0b8-4b74-a020-7d35a17b6c03",
   "metadata": {},
   "outputs": [
    {
     "data": {
      "text/plain": [
       "0"
      ]
     },
     "execution_count": 13,
     "metadata": {},
     "output_type": "execute_result"
    }
   ],
   "source": [
    "# find the connected subgraph with the most nodes --> index 0\n",
    "idx_max = 0\n",
    "count = 0\n",
    "for g in crime_sub_g:\n",
    "    nodes_max = 0\n",
    "    if g.number_of_nodes() > nodes_max:\n",
    "        nodes_max = g.number_of_nodes()\n",
    "        idx_max = count \n",
    "idx_max"
   ]
  },
  {
   "cell_type": "markdown",
   "id": "cd7fd4d2-ca5e-407d-b062-922fe21eb796",
   "metadata": {},
   "source": [
    "Output the number of nodes in the largest subgraph."
   ]
  },
  {
   "cell_type": "code",
   "execution_count": 26,
   "id": "15027b53-890c-4332-a1f7-024e45894edc",
   "metadata": {},
   "outputs": [
    {
     "data": {
      "text/plain": [
       "1263"
      ]
     },
     "execution_count": 26,
     "metadata": {},
     "output_type": "execute_result"
    }
   ],
   "source": [
    "crime_sub_g[0].number_of_nodes()"
   ]
  },
  {
   "cell_type": "markdown",
   "id": "dff61c26-0648-4f12-ac93-c1e217d1c119",
   "metadata": {},
   "source": [
    "Output the number of edges in the largest subgraph."
   ]
  },
  {
   "cell_type": "code",
   "execution_count": 15,
   "id": "915a8d24-274f-426d-b1d7-28fee92c24aa",
   "metadata": {},
   "outputs": [
    {
     "data": {
      "text/plain": [
       "1377"
      ]
     },
     "execution_count": 15,
     "metadata": {},
     "output_type": "execute_result"
    }
   ],
   "source": [
    "crime_sub_g[0].number_of_edges()"
   ]
  },
  {
   "cell_type": "markdown",
   "id": "12dc6794-90a9-483d-b65e-68de7b3b1ded",
   "metadata": {},
   "source": [
    "Output the diamater of the largest subgraph."
   ]
  },
  {
   "cell_type": "code",
   "execution_count": 16,
   "id": "aa98a344-17de-403a-b5c7-ba79ce596524",
   "metadata": {},
   "outputs": [
    {
     "data": {
      "text/plain": [
       "32"
      ]
     },
     "execution_count": 16,
     "metadata": {},
     "output_type": "execute_result"
    }
   ],
   "source": [
    "nx.diameter(crime_sub_g[0])"
   ]
  },
  {
   "cell_type": "markdown",
   "id": "5f972dae-d34f-44d2-b48f-6c05747b5871",
   "metadata": {},
   "source": [
    "Output the average shortest path in the largest subgraph."
   ]
  },
  {
   "cell_type": "code",
   "execution_count": 17,
   "id": "2a2d1e24-345d-4a0f-b33d-4fbfa75a7a1c",
   "metadata": {},
   "outputs": [
    {
     "data": {
      "text/plain": [
       "12.956106570901923"
      ]
     },
     "execution_count": 17,
     "metadata": {},
     "output_type": "execute_result"
    }
   ],
   "source": [
    "nx.average_shortest_path_length(crime_sub_g[0])"
   ]
  },
  {
   "cell_type": "code",
   "execution_count": 18,
   "id": "e3abd169-faa9-4a36-a254-f62b00597463",
   "metadata": {},
   "outputs": [
    {
     "data": {
      "text/plain": [
       "'Name: Crime graph from pandas adjacency matrix\\nType: Graph\\nNumber of nodes: 1380\\nNumber of edges: 1476\\nAverage degree:   2.1391'"
      ]
     },
     "execution_count": 18,
     "metadata": {},
     "output_type": "execute_result"
    }
   ],
   "source": [
    "nx.info(crime_g)"
   ]
  },
  {
   "cell_type": "code",
   "execution_count": 19,
   "id": "3bbce5a2-966c-4294-94b7-387c906b6f17",
   "metadata": {},
   "outputs": [
    {
     "data": {
      "text/plain": [
       "0.0015512185894000063"
      ]
     },
     "execution_count": 19,
     "metadata": {},
     "output_type": "execute_result"
    }
   ],
   "source": [
    "nx.density(crime_g)"
   ]
  },
  {
   "cell_type": "code",
   "execution_count": 23,
   "id": "c53af51b-1dc9-4820-8eea-6f7de9f2ea27",
   "metadata": {},
   "outputs": [],
   "source": [
    "neighbors = nx.all_neighbors(crime_g, '2P')"
   ]
  },
  {
   "cell_type": "code",
   "execution_count": 24,
   "id": "7f158236-25c0-4238-b284-8fd5a5d64d0d",
   "metadata": {},
   "outputs": [
    {
     "name": "stdout",
     "output_type": "stream",
     "text": [
      "5C\n",
      "6C\n",
      "7C\n",
      "8C\n",
      "9C\n",
      "10C\n",
      "11C\n",
      "12C\n",
      "13C\n",
      "14C\n",
      "15C\n",
      "16C\n",
      "17C\n",
      "18C\n",
      "19C\n",
      "20C\n",
      "21C\n",
      "22C\n",
      "23C\n",
      "24C\n",
      "25C\n",
      "26C\n"
     ]
    }
   ],
   "source": [
    "for n in neighbors:\n",
    "  print(n)"
   ]
  },
  {
   "cell_type": "code",
   "execution_count": null,
   "id": "7add61b0-4a06-43cc-8a08-2c96a02fc183",
   "metadata": {},
   "outputs": [],
   "source": []
  },
  {
   "cell_type": "code",
   "execution_count": null,
   "id": "21a47aa8-5c36-496f-a49e-7486ce8c606b",
   "metadata": {},
   "outputs": [],
   "source": []
  }
 ],
 "metadata": {
  "kernelspec": {
   "display_name": "Python 3 (ipykernel)",
   "language": "python",
   "name": "python3"
  },
  "language_info": {
   "codemirror_mode": {
    "name": "ipython",
    "version": 3
   },
   "file_extension": ".py",
   "mimetype": "text/x-python",
   "name": "python",
   "nbconvert_exporter": "python",
   "pygments_lexer": "ipython3",
   "version": "3.7.11"
  }
 },
 "nbformat": 4,
 "nbformat_minor": 5
}

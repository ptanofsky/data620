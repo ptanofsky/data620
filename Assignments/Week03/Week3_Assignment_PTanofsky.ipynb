{
 "cells": [
  {
   "cell_type": "markdown",
   "id": "70eaa487-1936-47bd-bcd8-cb2b2c1d09ad",
   "metadata": {},
   "source": [
    "# Week 3 Assignment\n",
    "## Author: Philip Tanofsky\n",
    "### Course: DATA 620 Web Analytics\n",
    "### Due Date: February 20, 2022"
   ]
  },
  {
   "cell_type": "code",
   "execution_count": 1,
   "id": "38ddd354-a312-4d13-a8fe-02f153f51439",
   "metadata": {},
   "outputs": [],
   "source": [
    "import networkx as net\n",
    "import matplotlib.pyplot as plot"
   ]
  },
  {
   "cell_type": "code",
   "execution_count": 2,
   "id": "21ef7a42-0809-41a0-8320-88385625beae",
   "metadata": {},
   "outputs": [],
   "source": [
    "import networkx.generators.small"
   ]
  },
  {
   "cell_type": "code",
   "execution_count": 4,
   "id": "4e277da1-6444-4ef8-9561-7ff357ce21b6",
   "metadata": {},
   "outputs": [
    {
     "data": {
      "text/plain": [
       "18"
      ]
     },
     "execution_count": 4,
     "metadata": {},
     "output_type": "execute_result"
    }
   ],
   "source": [
    "g = networkx.generators.small.krackhardt_kite_graph()\n",
    "g.number_of_edges()"
   ]
  },
  {
   "cell_type": "code",
   "execution_count": 5,
   "id": "3ec6601a-9090-426a-9913-927c2c43c570",
   "metadata": {},
   "outputs": [
    {
     "data": {
      "text/plain": [
       "10"
      ]
     },
     "execution_count": 5,
     "metadata": {},
     "output_type": "execute_result"
    }
   ],
   "source": [
    "g.number_of_nodes()"
   ]
  },
  {
   "cell_type": "code",
   "execution_count": 6,
   "id": "3b411643-13a9-4ca2-96cc-fb4a01920c0f",
   "metadata": {},
   "outputs": [
    {
     "data": {
      "text/plain": [
       "[[1, 2, 3, 5],\n",
       " [0, 3, 4, 6],\n",
       " [0, 3, 5],\n",
       " [0, 1, 2, 4, 5, 6],\n",
       " [1, 3, 6],\n",
       " [0, 2, 3, 6, 7],\n",
       " [1, 3, 4, 5, 7],\n",
       " [5, 6, 8],\n",
       " [7, 9],\n",
       " [8]]"
      ]
     },
     "execution_count": 6,
     "metadata": {},
     "output_type": "execute_result"
    }
   ],
   "source": [
    "g.adjacency_list()"
   ]
  },
  {
   "cell_type": "code",
   "execution_count": 7,
   "id": "3e2d4804-aabe-4828-a615-6b71a759589e",
   "metadata": {},
   "outputs": [
    {
     "data": {
      "text/plain": [
       "[(0, 1),\n",
       " (0, 2),\n",
       " (0, 3),\n",
       " (0, 5),\n",
       " (1, 3),\n",
       " (1, 4),\n",
       " (1, 6),\n",
       " (2, 3),\n",
       " (2, 5),\n",
       " (3, 4),\n",
       " (3, 5),\n",
       " (3, 6),\n",
       " (4, 6),\n",
       " (5, 6),\n",
       " (5, 7),\n",
       " (6, 7),\n",
       " (7, 8),\n",
       " (8, 9)]"
      ]
     },
     "execution_count": 7,
     "metadata": {},
     "output_type": "execute_result"
    }
   ],
   "source": [
    "g.edges()"
   ]
  },
  {
   "cell_type": "code",
   "execution_count": 8,
   "id": "1e36642a-843b-4d2b-bdf9-366e61e7eee6",
   "metadata": {},
   "outputs": [
    {
     "data": {
      "text/plain": [
       "{0: [1, 2, 3, 5],\n",
       " 1: [0, 3, 4, 6],\n",
       " 2: [0, 3, 5],\n",
       " 3: [0, 1, 2, 4, 5, 6],\n",
       " 4: [1, 3, 6],\n",
       " 5: [0, 2, 3, 6, 7],\n",
       " 6: [1, 3, 4, 5, 7],\n",
       " 7: [5, 6, 8],\n",
       " 8: [7, 9],\n",
       " 9: [8]}"
      ]
     },
     "execution_count": 8,
     "metadata": {},
     "output_type": "execute_result"
    }
   ],
   "source": [
    "dict((x, g.neighbors(x)) for x in g.nodes())"
   ]
  },
  {
   "cell_type": "code",
   "execution_count": 9,
   "id": "b39affb5-dfbb-4f14-a0d5-0a66dcbd21e4",
   "metadata": {},
   "outputs": [],
   "source": [
    "from networkx.algorithms import traversal"
   ]
  },
  {
   "cell_type": "code",
   "execution_count": 15,
   "id": "a2d33445-69a3-44dd-8330-55099aeea450",
   "metadata": {},
   "outputs": [],
   "source": [
    "# Depfth First Search: Nodes\n",
    "def DFS_nodes(graph, node, visited=[]):\n",
    "    visited.append(node)\n",
    "    for neighbor in graph[node]:\n",
    "        if not neighbor in visited:\n",
    "            DFS_nodes(graph, neighbor, visited)\n",
    "    return visited\n",
    "\n",
    "# Depth First Search Edges\n",
    "def DFS_edges(graph, node, visited=[], edges=[]):\n",
    "    visited.append(node)\n",
    "    for ni in graph[node]:\n",
    "        if not ni in visited:\n",
    "            edges.append((node, ni))\n",
    "            DFS_edges(graph, ni, visited, edges)\n",
    "    return edges"
   ]
  },
  {
   "cell_type": "code",
   "execution_count": 18,
   "id": "f149a5bc-1bdb-4cf5-8334-23c1ec6006ba",
   "metadata": {},
   "outputs": [
    {
     "data": {
      "text/plain": [
       "[0, 1, 3, 2, 5, 6, 4, 7, 8, 9, 0, 0]"
      ]
     },
     "execution_count": 18,
     "metadata": {},
     "output_type": "execute_result"
    }
   ],
   "source": [
    "DFS_nodes(g, 0)"
   ]
  },
  {
   "cell_type": "code",
   "execution_count": 19,
   "id": "26ddf7b5-f663-43b9-b8cb-01e0ff5584e7",
   "metadata": {},
   "outputs": [
    {
     "data": {
      "text/plain": [
       "[(0, 1), (1, 3), (3, 2), (2, 5), (5, 6), (6, 4), (6, 7), (7, 8), (8, 9)]"
      ]
     },
     "execution_count": 19,
     "metadata": {},
     "output_type": "execute_result"
    }
   ],
   "source": [
    "DFS_edges(g, 0)"
   ]
  },
  {
   "cell_type": "code",
   "execution_count": 20,
   "id": "4d623a98-224e-4581-bcbc-01b970fa517a",
   "metadata": {},
   "outputs": [
    {
     "data": {
      "text/plain": [
       "<generator object dfs_edges at 0x7fa9c19839d0>"
      ]
     },
     "execution_count": 20,
     "metadata": {},
     "output_type": "execute_result"
    }
   ],
   "source": [
    "edges = traversal.dfs_edges(g)\n",
    "edges"
   ]
  },
  {
   "cell_type": "code",
   "execution_count": 21,
   "id": "4dccc3d1-3244-4ef1-a9c0-af7a46aaf9df",
   "metadata": {},
   "outputs": [
    {
     "data": {
      "text/plain": [
       "[(0, 1), (1, 3), (3, 2), (2, 5), (5, 6), (6, 4), (6, 7), (7, 8), (8, 9)]"
      ]
     },
     "execution_count": 21,
     "metadata": {},
     "output_type": "execute_result"
    }
   ],
   "source": [
    "list(edges)"
   ]
  },
  {
   "cell_type": "code",
   "execution_count": 22,
   "id": "09fb3326-50f3-4413-aebc-695d6b8a7ad0",
   "metadata": {},
   "outputs": [
    {
     "data": {
      "text/plain": [
       "{0: [1], 1: [3], 3: [2], 2: [5], 5: [6], 6: [4, 7], 7: [8], 8: [9]}"
      ]
     },
     "execution_count": 22,
     "metadata": {},
     "output_type": "execute_result"
    }
   ],
   "source": [
    "traversal.dfs_successors(g)"
   ]
  },
  {
   "cell_type": "code",
   "execution_count": 24,
   "id": "3d7fb6f3-be94-47d7-87c5-3ce8a740b5bc",
   "metadata": {},
   "outputs": [
    {
     "data": {
      "text/plain": [
       "{1: 0, 3: 1, 2: 3, 5: 2, 6: 5, 4: 6, 7: 6, 8: 7, 9: 8}"
      ]
     },
     "execution_count": 24,
     "metadata": {},
     "output_type": "execute_result"
    }
   ],
   "source": [
    "traversal.dfs_predecessors(g)"
   ]
  },
  {
   "cell_type": "code",
   "execution_count": 25,
   "id": "a16dc1c6-4660-4305-a6ab-01886fb43758",
   "metadata": {},
   "outputs": [
    {
     "data": {
      "text/plain": [
       "[2]"
      ]
     },
     "execution_count": 25,
     "metadata": {},
     "output_type": "execute_result"
    }
   ],
   "source": [
    "traversal.dfs_successors(g)[3]"
   ]
  },
  {
   "cell_type": "code",
   "execution_count": 26,
   "id": "00bc7c82-3f4e-4973-86f3-0356c43ad37e",
   "metadata": {},
   "outputs": [
    {
     "data": {
      "text/plain": [
       "[4, 7]"
      ]
     },
     "execution_count": 26,
     "metadata": {},
     "output_type": "execute_result"
    }
   ],
   "source": [
    "traversal.dfs_successors(g)[6]"
   ]
  },
  {
   "cell_type": "code",
   "execution_count": 31,
   "id": "a4be056e-cd42-4b86-b898-09ab6b1f19ad",
   "metadata": {},
   "outputs": [
    {
     "data": {
      "text/plain": [
       "<networkx.classes.digraph.DiGraph at 0x7fa9c199d410>"
      ]
     },
     "execution_count": 31,
     "metadata": {},
     "output_type": "execute_result"
    }
   ],
   "source": [
    "tree = traversal.dfs_tree(g, 0)\n",
    "tree"
   ]
  },
  {
   "cell_type": "code",
   "execution_count": 32,
   "id": "56d90611-59b4-448b-9cdc-57d1cf79d3dc",
   "metadata": {},
   "outputs": [
    {
     "data": {
      "text/plain": [
       "[1]"
      ]
     },
     "execution_count": 32,
     "metadata": {},
     "output_type": "execute_result"
    }
   ],
   "source": [
    "tree.successors(0)"
   ]
  },
  {
   "cell_type": "code",
   "execution_count": 33,
   "id": "01c81aff-4e30-478d-b2e0-33dbf5138c02",
   "metadata": {},
   "outputs": [
    {
     "data": {
      "text/plain": [
       "{0: {1: {}},\n",
       " 1: {3: {}},\n",
       " 3: {2: {}},\n",
       " 2: {5: {}},\n",
       " 5: {6: {}},\n",
       " 6: {4: {}, 7: {}},\n",
       " 4: {},\n",
       " 7: {8: {}},\n",
       " 8: {9: {}},\n",
       " 9: {}}"
      ]
     },
     "execution_count": 33,
     "metadata": {},
     "output_type": "execute_result"
    }
   ],
   "source": [
    "tree.succ"
   ]
  },
  {
   "cell_type": "code",
   "execution_count": 34,
   "id": "c792586b-2203-4023-bfa4-f88580b8cd38",
   "metadata": {},
   "outputs": [
    {
     "data": {
      "text/plain": [
       "[(0, 1), (0, 2), (0, 3), (0, 5), (1, 4), (1, 6), (5, 7), (7, 8), (8, 9)]"
      ]
     },
     "execution_count": 34,
     "metadata": {},
     "output_type": "execute_result"
    }
   ],
   "source": [
    "edges = traversal.bfs_edges(g, 0)\n",
    "list(edges)"
   ]
  },
  {
   "cell_type": "code",
   "execution_count": 35,
   "id": "099a6bff-4c32-41c7-b5f6-117ec0e1f18a",
   "metadata": {},
   "outputs": [
    {
     "data": {
      "text/plain": [
       "<networkx.classes.digraph.DiGraph at 0x7fa9c4bfe2d0>"
      ]
     },
     "execution_count": 35,
     "metadata": {},
     "output_type": "execute_result"
    }
   ],
   "source": [
    "tree = traversal.bfs_tree(g,0)\n",
    "tree"
   ]
  },
  {
   "cell_type": "code",
   "execution_count": 36,
   "id": "c166eb14-c726-4777-9de2-fdc7d08f158b",
   "metadata": {},
   "outputs": [
    {
     "data": {
      "text/plain": [
       "{0: [1, 2, 3, 5], 1: [4, 6], 5: [7], 7: [8], 8: [9]}"
      ]
     },
     "execution_count": 36,
     "metadata": {},
     "output_type": "execute_result"
    }
   ],
   "source": [
    "traversal.bfs_successors(g, 0)"
   ]
  },
  {
   "cell_type": "code",
   "execution_count": 37,
   "id": "ab9ff4c1-5e75-4987-a7e7-2411d8988bb6",
   "metadata": {},
   "outputs": [
    {
     "data": {
      "text/plain": [
       "{0: [1], 1: [3], 3: [2], 2: [5], 5: [6], 6: [4, 7], 7: [8], 8: [9]}"
      ]
     },
     "execution_count": 37,
     "metadata": {},
     "output_type": "execute_result"
    }
   ],
   "source": [
    "traversal.dfs_successors(g, 0)"
   ]
  },
  {
   "cell_type": "code",
   "execution_count": 38,
   "id": "9386aafe-04ba-4e0f-9bf5-58f9798740a8",
   "metadata": {},
   "outputs": [],
   "source": [
    "from networkx import algorithms"
   ]
  },
  {
   "cell_type": "code",
   "execution_count": 39,
   "id": "f8882aec-6cdc-42f9-bb96-ab05b6380aee",
   "metadata": {},
   "outputs": [
    {
     "data": {
      "text/plain": [
       "[0, 5]"
      ]
     },
     "execution_count": 39,
     "metadata": {},
     "output_type": "execute_result"
    }
   ],
   "source": [
    "algorithms.shortest_path(g, 0, 5)"
   ]
  },
  {
   "cell_type": "code",
   "execution_count": 40,
   "id": "cc70720b-f151-4c90-8096-01563d912b8d",
   "metadata": {},
   "outputs": [
    {
     "data": {
      "text/plain": [
       "[0, 5, 7]"
      ]
     },
     "execution_count": 40,
     "metadata": {},
     "output_type": "execute_result"
    }
   ],
   "source": [
    "algorithms.shortest_path(g, 0, 7)"
   ]
  },
  {
   "cell_type": "code",
   "execution_count": 41,
   "id": "ae7185d7-a856-454c-8bb2-01ec0d52651c",
   "metadata": {},
   "outputs": [
    {
     "data": {
      "text/plain": [
       "1.9777777777777779"
      ]
     },
     "execution_count": 41,
     "metadata": {},
     "output_type": "execute_result"
    }
   ],
   "source": [
    "algorithms.average_shortest_path_length(g)"
   ]
  },
  {
   "cell_type": "code",
   "execution_count": null,
   "id": "ace9e187-d923-4e22-8e9d-f00718f03e1a",
   "metadata": {},
   "outputs": [],
   "source": [
    "algorithms.all_pairs_shortest_path(g)"
   ]
  },
  {
   "cell_type": "code",
   "execution_count": 44,
   "id": "775f9785-3a81-437a-8061-0591e70d98e9",
   "metadata": {},
   "outputs": [
    {
     "data": {
      "text/plain": [
       "{5: [5],\n",
       " 0: [5, 0],\n",
       " 2: [5, 2],\n",
       " 3: [5, 3],\n",
       " 6: [5, 6],\n",
       " 7: [5, 7],\n",
       " 1: [5, 0, 1],\n",
       " 4: [5, 3, 4],\n",
       " 8: [5, 7, 8],\n",
       " 9: [5, 7, 8, 9]}"
      ]
     },
     "execution_count": 44,
     "metadata": {},
     "output_type": "execute_result"
    }
   ],
   "source": [
    "algorithms.all_pairs_shortest_path(g)[5]"
   ]
  },
  {
   "cell_type": "code",
   "execution_count": 45,
   "id": "0b8fd095-89f4-4acf-946a-62b6d0cfb93c",
   "metadata": {},
   "outputs": [
    {
     "data": {
      "text/plain": [
       "[1, 0, 5]"
      ]
     },
     "execution_count": 45,
     "metadata": {},
     "output_type": "execute_result"
    }
   ],
   "source": [
    "algorithms.dijkstra_path(g, 1, 5)"
   ]
  },
  {
   "cell_type": "code",
   "execution_count": 46,
   "id": "61101ade-24f8-4cf3-8db8-89fd07775bbd",
   "metadata": {},
   "outputs": [
    {
     "data": {
      "text/plain": [
       "({1: [],\n",
       "  0: [1],\n",
       "  3: [1],\n",
       "  4: [1],\n",
       "  6: [1],\n",
       "  2: [0, 3],\n",
       "  5: [0, 3, 6],\n",
       "  7: [6],\n",
       "  8: [7],\n",
       "  9: [8]},\n",
       " {1: 0, 0: 1, 3: 1, 4: 1, 6: 1, 2: 2, 5: 2, 7: 2, 8: 3, 9: 4})"
      ]
     },
     "execution_count": 46,
     "metadata": {},
     "output_type": "execute_result"
    }
   ],
   "source": [
    "algorithms.dijkstra_predecessor_and_distance(g, 1, 5)"
   ]
  },
  {
   "cell_type": "code",
   "execution_count": 47,
   "id": "55d32b31-eb60-4927-9383-d72253d80977",
   "metadata": {},
   "outputs": [],
   "source": [
    "import itertools"
   ]
  },
  {
   "cell_type": "code",
   "execution_count": 48,
   "id": "2db86fd3-a047-47d6-9f26-ccd7557c9f03",
   "metadata": {},
   "outputs": [
    {
     "data": {
      "text/plain": [
       "[0, 1, 2, 3, 4, 5, 6, 7, 8, 9]"
      ]
     },
     "execution_count": 48,
     "metadata": {},
     "output_type": "execute_result"
    }
   ],
   "source": [
    "g.nodes()"
   ]
  },
  {
   "cell_type": "code",
   "execution_count": 49,
   "id": "a5316331-fd1a-4bb9-a901-0168c24587b3",
   "metadata": {},
   "outputs": [
    {
     "data": {
      "text/plain": [
       "[(0, 1),\n",
       " (0, 2),\n",
       " (0, 3),\n",
       " (0, 4),\n",
       " (0, 5),\n",
       " (0, 6),\n",
       " (0, 7),\n",
       " (0, 8),\n",
       " (0, 9),\n",
       " (1, 2),\n",
       " (1, 3),\n",
       " (1, 4),\n",
       " (1, 5),\n",
       " (1, 6),\n",
       " (1, 7),\n",
       " (1, 8),\n",
       " (1, 9),\n",
       " (2, 3),\n",
       " (2, 4),\n",
       " (2, 5),\n",
       " (2, 6),\n",
       " (2, 7),\n",
       " (2, 8),\n",
       " (2, 9),\n",
       " (3, 4),\n",
       " (3, 5),\n",
       " (3, 6),\n",
       " (3, 7),\n",
       " (3, 8),\n",
       " (3, 9),\n",
       " (4, 5),\n",
       " (4, 6),\n",
       " (4, 7),\n",
       " (4, 8),\n",
       " (4, 9),\n",
       " (5, 6),\n",
       " (5, 7),\n",
       " (5, 8),\n",
       " (5, 9),\n",
       " (6, 7),\n",
       " (6, 8),\n",
       " (6, 9),\n",
       " (7, 8),\n",
       " (7, 9),\n",
       " (8, 9)]"
      ]
     },
     "execution_count": 49,
     "metadata": {},
     "output_type": "execute_result"
    }
   ],
   "source": [
    "list(itertools.combinations(g.nodes(), 2))"
   ]
  },
  {
   "cell_type": "code",
   "execution_count": 50,
   "id": "1df6c544-d0a5-4984-b42c-9170854dc154",
   "metadata": {},
   "outputs": [
    {
     "data": {
      "text/plain": [
       "[0, 1, 2, 3, 4, 5, 6, 7, 8, 9]"
      ]
     },
     "execution_count": 50,
     "metadata": {},
     "output_type": "execute_result"
    }
   ],
   "source": [
    "nn = g.nodes()\n",
    "nn"
   ]
  },
  {
   "cell_type": "code",
   "execution_count": 52,
   "id": "78957ec1-f580-4a91-8f8e-bd2f393684ec",
   "metadata": {},
   "outputs": [
    {
     "data": {
      "text/plain": [
       "[0, 1, 2, 3]"
      ]
     },
     "execution_count": 52,
     "metadata": {},
     "output_type": "execute_result"
    }
   ],
   "source": [
    "nn[:4]"
   ]
  },
  {
   "cell_type": "code",
   "execution_count": 55,
   "id": "d2361288-1ca7-4b07-a1a6-2894359aecf1",
   "metadata": {},
   "outputs": [
    {
     "data": {
      "text/plain": [
       "[(0, 1), (0, 2), (0, 3), (1, 2), (1, 3), (2, 3)]"
      ]
     },
     "execution_count": 55,
     "metadata": {},
     "output_type": "execute_result"
    }
   ],
   "source": [
    "pairs = list(itertools.combinations(nn[:4], 2))\n",
    "pairs"
   ]
  },
  {
   "cell_type": "code",
   "execution_count": 58,
   "id": "ebb84324-d09e-41f6-98cc-a421822d5b7d",
   "metadata": {},
   "outputs": [
    {
     "ename": "SyntaxError",
     "evalue": "invalid syntax (3446098361.py, line 2)",
     "output_type": "error",
     "traceback": [
      "\u001b[0;36m  File \u001b[0;32m\"/var/folders/jb/xqrs3wt565d091v0xn30zd700000gn/T/ipykernel_18858/3446098361.py\"\u001b[0;36m, line \u001b[0;32m2\u001b[0m\n\u001b[0;31m    print algorithms.shortest_path(g, pair), algorithms.dijkstra_path(g, pair)\u001b[0m\n\u001b[0m                   ^\u001b[0m\n\u001b[0;31mSyntaxError\u001b[0m\u001b[0;31m:\u001b[0m invalid syntax\n"
     ]
    }
   ],
   "source": [
    "for pair in itertools.combinations(nn[:8], 2):\n",
    "    print algorithms.shortest_path(g, *pair), algorithms.dijkstra_path(g, *pair)"
   ]
  },
  {
   "cell_type": "code",
   "execution_count": 62,
   "id": "4079dd5a-0204-4761-8516-655095a31281",
   "metadata": {},
   "outputs": [
    {
     "ename": "NameError",
     "evalue": "name 'ee' is not defined",
     "output_type": "error",
     "traceback": [
      "\u001b[0;31m---------------------------------------------------------------------------\u001b[0m",
      "\u001b[0;31mNameError\u001b[0m                                 Traceback (most recent call last)",
      "\u001b[0;32m/var/folders/jb/xqrs3wt565d091v0xn30zd700000gn/T/ipykernel_18858/4239388299.py\u001b[0m in \u001b[0;36m<module>\u001b[0;34m\u001b[0m\n\u001b[1;32m      1\u001b[0m \u001b[0;32mfrom\u001b[0m \u001b[0mrandom\u001b[0m \u001b[0;32mimport\u001b[0m \u001b[0mchoice\u001b[0m\u001b[0;34m\u001b[0m\u001b[0;34m\u001b[0m\u001b[0m\n\u001b[0;32m----> 2\u001b[0;31m \u001b[0mnew_edges\u001b[0m \u001b[0;34m=\u001b[0m \u001b[0;34m[\u001b[0m\u001b[0mx\u001b[0m \u001b[0;34m+\u001b[0m \u001b[0;34m(\u001b[0m\u001b[0mchoice\u001b[0m\u001b[0;34m(\u001b[0m\u001b[0mrange\u001b[0m\u001b[0;34m(\u001b[0m\u001b[0;36m10\u001b[0m\u001b[0;34m)\u001b[0m\u001b[0;34m)\u001b[0m\u001b[0;34m,\u001b[0m\u001b[0;34m)\u001b[0m \u001b[0;32mfor\u001b[0m \u001b[0mx\u001b[0m \u001b[0;32min\u001b[0m \u001b[0mee\u001b[0m\u001b[0;34m]\u001b[0m\u001b[0;34m\u001b[0m\u001b[0;34m\u001b[0m\u001b[0m\n\u001b[0m\u001b[1;32m      3\u001b[0m \u001b[0mnew_edges\u001b[0m\u001b[0;34m\u001b[0m\u001b[0;34m\u001b[0m\u001b[0m\n",
      "\u001b[0;31mNameError\u001b[0m: name 'ee' is not defined"
     ]
    }
   ],
   "source": [
    "from random import choice\n",
    "new_edges = [x + (choice(range(10)),) for x in ee]\n",
    "new_edges"
   ]
  },
  {
   "cell_type": "code",
   "execution_count": null,
   "id": "64eade30-6ab1-4993-af34-2df863fa69f2",
   "metadata": {},
   "outputs": [],
   "source": []
  },
  {
   "cell_type": "code",
   "execution_count": null,
   "id": "911ee0df-e1b8-4913-aa96-dbe8acba93eb",
   "metadata": {},
   "outputs": [],
   "source": []
  },
  {
   "cell_type": "code",
   "execution_count": null,
   "id": "262d6f44-d3a0-4634-a9a0-5a775c86d641",
   "metadata": {},
   "outputs": [],
   "source": []
  },
  {
   "cell_type": "code",
   "execution_count": null,
   "id": "f9e295be-5b87-4b9b-b57d-a9fecd646aba",
   "metadata": {},
   "outputs": [],
   "source": []
  }
 ],
 "metadata": {
  "kernelspec": {
   "display_name": "Python 3 (ipykernel)",
   "language": "python",
   "name": "python3"
  },
  "language_info": {
   "codemirror_mode": {
    "name": "ipython",
    "version": 3
   },
   "file_extension": ".py",
   "mimetype": "text/x-python",
   "name": "python",
   "nbconvert_exporter": "python",
   "pygments_lexer": "ipython3",
   "version": "3.7.11"
  }
 },
 "nbformat": 4,
 "nbformat_minor": 5
}
